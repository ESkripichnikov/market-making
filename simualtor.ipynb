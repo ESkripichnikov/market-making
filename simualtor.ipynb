{
 "cells": [
  {
   "cell_type": "code",
   "execution_count": 1,
   "id": "381c898b",
   "metadata": {},
   "outputs": [],
   "source": [
    "import random\n",
    "import re\n",
    "import time\n",
    "\n",
    "import matplotlib.dates as mdates\n",
    "import matplotlib.pyplot as plt\n",
    "import matplotlib.ticker as mtick\n",
    "import numpy as np\n",
    "import pandas as pd\n",
    "import pickle\n",
    "import seaborn as sns\n",
    "from datetime import datetime, timedelta\n",
    "\n",
    "from tqdm.notebook import tqdm\n",
    "from IPython.display import clear_output\n",
    "from collections import deque\n",
    "from queue import PriorityQueue\n",
    "\n",
    "plt.style.use('ggplot')\n",
    "sns.set(font_scale=1.5)\n",
    "tqdm.pandas()"
   ]
  },
  {
   "cell_type": "markdown",
   "id": "7026ca2f",
   "metadata": {},
   "source": [
    "# Simulator and Strategy"
   ]
  },
  {
   "cell_type": "code",
   "execution_count": 2,
   "id": "d6951e77",
   "metadata": {},
   "outputs": [],
   "source": [
    "from dataclasses import dataclass\n",
    "from typing import Optional\n",
    "\n",
    "\n",
    "@dataclass\n",
    "class Order:  # Our own placed order\n",
    "    order_id: int\n",
    "    side: str\n",
    "    size: float\n",
    "    price: float\n",
    "    timestamp: float\n",
    "        \n",
    "@dataclass\n",
    "class CancelOrder:  # Our own cancel order\n",
    "    order_id: int\n",
    "    timestamp: float\n",
    "\n",
    "        \n",
    "@dataclass\n",
    "class AnonTrade:  # Market trade\n",
    "    exchange_ts: float\n",
    "    receive_ts: float\n",
    "    side: str\n",
    "    size: float\n",
    "    price: str\n",
    "\n",
    "        \n",
    "@dataclass(order=True)\n",
    "class OwnTrade:  # Execution of own placed order\n",
    "    exchange_ts: float\n",
    "    receive_ts: float\n",
    "    receive_ts: float\n",
    "    trade_id: int\n",
    "    order_id: int\n",
    "    side: str\n",
    "    size: float\n",
    "    price: float\n",
    "\n",
    "        \n",
    "@dataclass\n",
    "class OrderbookSnapshotUpdate:  # Orderbook tick snapshot\n",
    "    exchange_ts: float\n",
    "    receive_ts: float\n",
    "    asks: list[tuple[float, float]]  # tuple[price, size]\n",
    "    bids: list[tuple[float, float]]\n",
    "\n",
    "        \n",
    "@dataclass\n",
    "class MdUpdate:  # Data of a tick\n",
    "    orderbook: Optional[OrderbookSnapshotUpdate] = None\n",
    "    trade: Optional[AnonTrade] = None\n",
    "\n",
    "        \n",
    "class Strategy:\n",
    "    def __init__(self, max_position: float, maker_fee: float = 0, time_to_cancel=0, trade_size=0.01) -> None:\n",
    "        self.current_position = 0\n",
    "        self.max_position = max_position\n",
    "        self.maker_fee = maker_fee\n",
    "        self.trade_size = trade_size   # fixed trade size\n",
    "        self.time_to_cancel = timedelta(milliseconds=time_to_cancel)   # waiting time before order cancellation\n",
    "        \n",
    "        self.best_bid = None\n",
    "        self.best_ask = None\n",
    "        self.current_time = pd.Timestamp(1655942402249000000)\n",
    "        self.pnl = []\n",
    "        self.current_pnl = 0\n",
    "        self.active_orders = []\n",
    "        self.completed_trades = []\n",
    "        self.prev_visualize_time = pd.Timestamp(1655942402249000000) # the first timestamp in md\n",
    "        \n",
    "    \n",
    "    def visualize_pnl(self):\n",
    "        timestamps, pnls = zip(*self.pnl)\n",
    "        \n",
    "        plt.figure(figsize=(15, 5))\n",
    "        sns.lineplot(x=timestamps, y=pnls)\n",
    "        plt.gca().xaxis.set_major_locator(mdates.HourLocator())\n",
    "        plt.gca().xaxis.set_major_formatter(mdates.DateFormatter('%H:%M'))\n",
    "        for label in plt.gca().get_xticklabels(which='major'):\n",
    "            label.set(rotation=30, horizontalalignment='right')\n",
    "        plt.title('PnL')\n",
    "        plt.xlabel('Time')\n",
    "        plt.ylabel('USDT')\n",
    "        \n",
    "        plt.show()\n",
    "        \n",
    "    def update_prices(self, md: MdUpdate) -> None:\n",
    "        if md.orderbook:\n",
    "            self.best_ask = md.orderbook.asks[0][0]\n",
    "            self.best_bid = md.orderbook.bids[0][0]\n",
    "            self.current_time = md.orderbook.receive_ts\n",
    "        else:\n",
    "            side = md.trade.side\n",
    "            price = md.trade.price\n",
    "            if side == 'BID':\n",
    "                self.best_ask = price\n",
    "            else:\n",
    "                self.best_bid = price\n",
    "            self.current_time = md.trade.receive_ts\n",
    "\n",
    "    def run(self, sim: \"Sim\"):\n",
    "        while True:\n",
    "            try:\n",
    "                tick_pnl = 0\n",
    "                _, sim_update = sim.tick()\n",
    "                if isinstance(sim_update, OwnTrade):\n",
    "                    self.completed_trades.append(sim_update)\n",
    "                    for order in self.active_orders:\n",
    "                        if order.order_id == sim_update.order_id:\n",
    "                            self.active_orders.remove(order)\n",
    "                    \n",
    "                    if sim_update.side == 'ASK':\n",
    "                        self.current_position -= sim_update.size\n",
    "                        sign = 1\n",
    "                    else:\n",
    "                        self.current_position += sim_update.size\n",
    "                        sign = -1\n",
    "                        \n",
    "                    tick_pnl += (sign - self.maker_fee) * sim_update.size * sim_update.price\n",
    "                elif isinstance(sim_update, MdUpdate):\n",
    "                    self.update_prices(sim_update)\n",
    "                \n",
    "                self.current_pnl += tick_pnl\n",
    "                self.pnl.append((self.current_time, self.current_pnl))\n",
    "                \n",
    "                for order in self.active_orders:\n",
    "                    if self.current_time - order.timestamp >= self.time_to_cancel:\n",
    "                        sim.cancel_order(order.order_id)\n",
    "                        self.active_orders.remove(order)\n",
    "                \n",
    "                if abs(self.current_position) >= self.max_position and self.current_position > 0:\n",
    "                    side = 'ASK'\n",
    "                elif abs(self.current_position) >= self.max_position and self.current_position < 0:\n",
    "                    side = 'BID'    \n",
    "                else:\n",
    "                    side = random.choice(['BID', 'ASK'])\n",
    "                    \n",
    "                price = self.best_ask if side == 'ASK' else self.best_bid\n",
    "                new_order = sim.place_order(side, self.trade_size, price)\n",
    "                self.active_orders.append(new_order)\n",
    "    \n",
    "                \n",
    "                if self.current_time - self.prev_visualize_time > timedelta(minutes=5):\n",
    "                    clear_output(True)\n",
    "                    print(f'Current time: {self.current_time}')\n",
    "                    print(f'Current Position: {self.current_position}')\n",
    "                    print(f'Current PnL: {self.current_pnl}')\n",
    "#                     self.visualize_pnl()\n",
    "                    self.prev_visualize_time = self.current_time\n",
    "                \n",
    "            except StopIteration:\n",
    "                break\n",
    "                \n",
    "        return self.pnl, self.completed_trades\n",
    "\n",
    "\n",
    "def load_data(path: str) -> tuple[pd.DataFrame]:\n",
    "    lobs_df = pd.read_csv(path + '/lobs.csv')\n",
    "    trades_df = pd.read_csv(path + '/trades.csv')\n",
    "    \n",
    "    lobs_df.rename(columns=lambda x: re.sub('.*LinearPerpetual_', '', x).strip(), inplace=True)\n",
    "    \n",
    "    for column in ['receive_ts', 'exchange_ts']:\n",
    "        lobs_df[column] = pd.to_datetime(lobs_df[column])\n",
    "        trades_df[column] = pd.to_datetime(trades_df[column])\n",
    "    \n",
    "    return lobs_df, trades_df\n",
    "\n",
    "\n",
    "def get_marketdata(row, lobs: bool):\n",
    "    if lobs:  \n",
    "        orderbook = OrderbookSnapshotUpdate(\n",
    "            exchange_ts=row['exchange_ts'],\n",
    "            receive_ts=row['receive_ts'],\n",
    "            asks=row['asks'],\n",
    "            bids=row['bids']\n",
    "        )\n",
    "        \n",
    "        return MdUpdate(orderbook, None)\n",
    "    else:\n",
    "        trade = AnonTrade(\n",
    "            exchange_ts=row['exchange_ts'],\n",
    "            receive_ts=row['receive_ts'],\n",
    "            side=row['aggro_side'],\n",
    "            size=row['size'],\n",
    "            price=row['price']\n",
    "        )\n",
    "\n",
    "        return MdUpdate(None, trade)\n",
    "\n",
    "                \n",
    "def load_md_from_file(path: str) -> list[MdUpdate]:\n",
    "    lobs_df, trades_df = load_data(path)\n",
    "    print('Data loaded successfully')\n",
    "    \n",
    "    prices_and_volumes = ['ask_price', 'ask_vol', 'bid_price', 'bid_vol']\n",
    "    for filt in prices_and_volumes:\n",
    "        lobs_df[filt] = lobs_df.filter(regex=filt).values.tolist()\n",
    "    \n",
    "    tqdm.pandas(desc=\"Lobs asks aggregating\")\n",
    "    lobs_df['asks'] = lobs_df[['ask_price', 'ask_vol']].progress_apply(lambda x: list(zip(x[0], x[1])), axis=1)\n",
    "    tqdm.pandas(desc=\"Lobs bids aggregating\")\n",
    "    lobs_df['bids'] = lobs_df[['bid_price', 'bid_vol']].progress_apply(lambda x: list(zip(x[0], x[1])), axis=1)\n",
    "    \n",
    "    tqdm.pandas(desc=\"Lobs market data generating\")\n",
    "    md_lobs = lobs_df.progress_apply(get_marketdata,axis=1, lobs=True).values.tolist()\n",
    "    tqdm.pandas(desc=\"Trades market data generating\")\n",
    "    md_trades = trades_df.progress_apply(get_marketdata, axis=1, lobs=False).values.tolist()\n",
    "    md_queue = md_lobs + md_trades\n",
    "    print('Sorting')\n",
    "    md_queue = sorted(\n",
    "        md_queue, key=lambda md_update: md_update.orderbook.receive_ts\n",
    "        if md_update.orderbook else md_update.trade.receive_ts\n",
    "    )\n",
    "\n",
    "     \n",
    "    return md_queue\n",
    "\n",
    "\n",
    "class Sim:\n",
    "    def __init__(self, path: str, execution_latency: float, md_latency: float, ready_md = None) -> None:\n",
    "        self.execution_latency = timedelta(milliseconds=execution_latency) \n",
    "        self.md_latency = timedelta(milliseconds=md_latency)\n",
    "        self.md_queue = deque(ready_md) if ready_md else deque(load_md_from_file(path))\n",
    "        self.actions_queue = deque()\n",
    "        self.strategy_updates_queue = PriorityQueue()\n",
    "        self.strategy_updates_queue.put((self.get_event_time('md'), self.md_queue[0]))\n",
    "        self.best_bid = 0\n",
    "        self.best_ask = 0\n",
    "        \n",
    "        self.current_time = self.strategy_updates_queue.queue[0][0]\n",
    "        self.active_orders = []\n",
    "        self.order_id = 1\n",
    "        self.trade_id = 1\n",
    "        \n",
    "    def get_event_time(self, style):\n",
    "        if style == 'md' and self.md_queue:\n",
    "            event_time = (\n",
    "                self.md_queue[0].orderbook.exchange_ts if self.md_queue[0].orderbook else\n",
    "                self.md_queue[0].trade.exchange_ts\n",
    "            )\n",
    "        elif style == 'strategy' and not self.strategy_updates_queue.empty():\n",
    "            event_time, _ = self.strategy_updates_queue.queue[0]\n",
    "            \n",
    "        elif style == 'actions' and self.actions_queue:\n",
    "            event_time = self.actions_queue[0].timestamp\n",
    "        else:\n",
    "            event_time = pd.Timestamp.max\n",
    "        \n",
    "        return event_time\n",
    "    \n",
    "    def apply_md_update(self, md: MdUpdate):\n",
    "        if md.orderbook:\n",
    "            self.best_ask = md.orderbook.asks[0][0]\n",
    "            self.best_bid = md.orderbook.bids[0][0]\n",
    "            receive_ts = md.orderbook.receive_ts\n",
    "        else:\n",
    "            side = md.trade.side\n",
    "            price = md.trade.price\n",
    "            if side == 'BID':\n",
    "                self.best_ask = price\n",
    "            else:\n",
    "                self.best_bid = price\n",
    "            receive_ts = md.trade.receive_ts\n",
    "            \n",
    "        self.strategy_updates_queue.put((receive_ts,md))\n",
    "\n",
    "    def tick(self):\n",
    "        strategy_time = self.get_event_time('strategy')\n",
    "        md_time = self.get_event_time('md')\n",
    "        actions_time = self.get_event_time('actions')\n",
    "        \n",
    "        while md_time <= strategy_time or actions_time <= strategy_time:\n",
    "            if md_time < actions_time:\n",
    "                self.apply_md_update(self.md_queue.popleft())\n",
    "                self.execute_orders()\n",
    "                \n",
    "                self.current_time = md_time\n",
    "                md_time = self.get_event_time('md')\n",
    "                strategy_time = self.get_event_time('strategy')\n",
    "            else:\n",
    "                self.prepare_orders(self.actions_queue.popleft())\n",
    "                self.execute_orders()\n",
    "                \n",
    "                self.current_time = actions_time\n",
    "                actions_time = self.get_event_time('actions')\n",
    "                strategy_time = self.get_event_time('strategy')\n",
    "        \n",
    "        return self.strategy_updates_queue.get_nowait()\n",
    "    \n",
    "    def check_order(self, order: Order) -> bool:\n",
    "        if order.side == 'BID' and order.price >= self.best_ask:\n",
    "            return 1\n",
    "        \n",
    "        if order.side == 'ASK' and order.price <= self.best_bid:\n",
    "            return 1\n",
    "\n",
    "        return 0\n",
    "\n",
    "    def prepare_orders(self, action_order) -> None:\n",
    "        if isinstance(action_order, Order):\n",
    "            self.active_orders.append(action_order)\n",
    "        else:\n",
    "            for order in self.active_orders:\n",
    "                if order.order_id == action_order.order_id:\n",
    "                    self.active_orders.remove(order)\n",
    "                    \n",
    "\n",
    "    def execute_orders(self) -> list[Order]:\n",
    "        for order in self.active_orders:\n",
    "            if self.check_order(order):\n",
    "                self.strategy_updates_queue.put(\n",
    "                    (self.current_time + self.md_latency,\n",
    "                     OwnTrade(\n",
    "                        exchange_ts=self.current_time,\n",
    "                        receive_ts=self.current_time + self.md_latency,\n",
    "                        trade_id=self.trade_id,\n",
    "                        order_id=order.order_id,\n",
    "                        side=order.side,\n",
    "                        size=order.size,\n",
    "                        price=order.price\n",
    "                     )\n",
    "                    )\n",
    "                )\n",
    "                    \n",
    "                self.trade_id += 1\n",
    "                self.active_orders.remove(order)\n",
    "            \n",
    "        return self.active_orders\n",
    "\n",
    "    def place_order(self, side: str, size: float, price: float) -> Order:\n",
    "        new_order = Order(\n",
    "            order_id=self.order_id,\n",
    "            side=side,\n",
    "            size=size,\n",
    "            price=price,\n",
    "            timestamp=self.current_time + self.execution_latency\n",
    "        )\n",
    "        self.actions_queue.append(new_order)\n",
    "        self.order_id += 1\n",
    "        return new_order\n",
    "        \n",
    "    def cancel_order(self, order_id: int) -> None:\n",
    "        new_cancel_order = CancelOrder(\n",
    "            order_id=order_id,\n",
    "            timestamp=self.current_time + self.execution_latency\n",
    "        )\n",
    "        self.actions_queue.append(new_cancel_order)"
   ]
  },
  {
   "cell_type": "markdown",
   "id": "d23ff674",
   "metadata": {},
   "source": [
    "# Strategy running"
   ]
  },
  {
   "cell_type": "code",
   "execution_count": 3,
   "id": "1f4aaa18",
   "metadata": {},
   "outputs": [],
   "source": [
    "# %%time\n",
    "# ready_md = load_md_from_file(\"md/btcusdt:Binance:LinearPerpetual\")"
   ]
  },
  {
   "cell_type": "code",
   "execution_count": 4,
   "id": "f61be6a1",
   "metadata": {},
   "outputs": [
    {
     "name": "stdout",
     "output_type": "stream",
     "text": [
      "Data loaded successfully\n"
     ]
    },
    {
     "data": {
      "application/vnd.jupyter.widget-view+json": {
       "model_id": "36550dc55e954e459bebd1ae00a29ad8",
       "version_major": 2,
       "version_minor": 0
      },
      "text/plain": [
       "Lobs asks aggregating:   0%|          | 0/2541356 [00:00<?, ?it/s]"
      ]
     },
     "metadata": {},
     "output_type": "display_data"
    },
    {
     "data": {
      "application/vnd.jupyter.widget-view+json": {
       "model_id": "68dbd12475b946f4893f68f5223a9a4a",
       "version_major": 2,
       "version_minor": 0
      },
      "text/plain": [
       "Lobs bids aggregating:   0%|          | 0/2541356 [00:00<?, ?it/s]"
      ]
     },
     "metadata": {},
     "output_type": "display_data"
    },
    {
     "data": {
      "application/vnd.jupyter.widget-view+json": {
       "model_id": "6945cf4dbfe948e195cee99c00dde56d",
       "version_major": 2,
       "version_minor": 0
      },
      "text/plain": [
       "Lobs market data generating:   0%|          | 0/2541356 [00:00<?, ?it/s]"
      ]
     },
     "metadata": {},
     "output_type": "display_data"
    },
    {
     "data": {
      "application/vnd.jupyter.widget-view+json": {
       "model_id": "57f5a7128d7a4c969cf063836dc439e2",
       "version_major": 2,
       "version_minor": 0
      },
      "text/plain": [
       "Trades market data generating:   0%|          | 0/5727714 [00:00<?, ?it/s]"
      ]
     },
     "metadata": {},
     "output_type": "display_data"
    },
    {
     "name": "stdout",
     "output_type": "stream",
     "text": [
      "Sorting\n"
     ]
    }
   ],
   "source": [
    "# with open('market_data.pickle', 'rb') as f:\n",
    "#     ready_md = pickle.load(f)\n",
    "    \n",
    "sim = Sim(\"md/btcusdt:Binance:LinearPerpetual\", 3, 3)\n",
    "strategy = Strategy(max_position=1, maker_fee=0, time_to_cancel=50, trade_size=0.01)"
   ]
  },
  {
   "cell_type": "code",
   "execution_count": 5,
   "id": "441b49c6",
   "metadata": {
    "scrolled": true
   },
   "outputs": [
    {
     "name": "stdout",
     "output_type": "stream",
     "text": [
      "Current time: 2022-06-23 05:10:02.993050006\n",
      "Current Position: -0.8800000000000003\n",
      "Current PnL: 11791.845499995441\n"
     ]
    },
    {
     "ename": "KeyboardInterrupt",
     "evalue": "",
     "output_type": "error",
     "traceback": [
      "\u001b[0;31m---------------------------------------------------------------------------\u001b[0m",
      "\u001b[0;31mKeyboardInterrupt\u001b[0m                         Traceback (most recent call last)",
      "Input \u001b[0;32mIn [5]\u001b[0m, in \u001b[0;36m<cell line: 1>\u001b[0;34m()\u001b[0m\n\u001b[0;32m----> 1\u001b[0m pnl, completed_trades \u001b[38;5;241m=\u001b[39m \u001b[43mstrategy\u001b[49m\u001b[38;5;241;43m.\u001b[39;49m\u001b[43mrun\u001b[49m\u001b[43m(\u001b[49m\u001b[43msim\u001b[49m\u001b[43m)\u001b[49m\n",
      "Input \u001b[0;32mIn [2]\u001b[0m, in \u001b[0;36mStrategy.run\u001b[0;34m(self, sim)\u001b[0m\n\u001b[1;32m    103\u001b[0m \u001b[38;5;28;01mtry\u001b[39;00m:\n\u001b[1;32m    104\u001b[0m     tick_pnl \u001b[38;5;241m=\u001b[39m \u001b[38;5;241m0\u001b[39m\n\u001b[0;32m--> 105\u001b[0m     _, sim_update \u001b[38;5;241m=\u001b[39m \u001b[43msim\u001b[49m\u001b[38;5;241;43m.\u001b[39;49m\u001b[43mtick\u001b[49m\u001b[43m(\u001b[49m\u001b[43m)\u001b[49m\n\u001b[1;32m    106\u001b[0m     \u001b[38;5;28;01mif\u001b[39;00m \u001b[38;5;28misinstance\u001b[39m(sim_update, OwnTrade):\n\u001b[1;32m    107\u001b[0m         \u001b[38;5;28mself\u001b[39m\u001b[38;5;241m.\u001b[39mcompleted_trades\u001b[38;5;241m.\u001b[39mappend(sim_update)\n",
      "Input \u001b[0;32mIn [2]\u001b[0m, in \u001b[0;36mSim.tick\u001b[0;34m(self)\u001b[0m\n\u001b[1;32m    280\u001b[0m     strategy_time \u001b[38;5;241m=\u001b[39m \u001b[38;5;28mself\u001b[39m\u001b[38;5;241m.\u001b[39mget_event_time(\u001b[38;5;124m'\u001b[39m\u001b[38;5;124mstrategy\u001b[39m\u001b[38;5;124m'\u001b[39m)\n\u001b[1;32m    281\u001b[0m \u001b[38;5;28;01melse\u001b[39;00m:\n\u001b[0;32m--> 282\u001b[0m     \u001b[38;5;28;43mself\u001b[39;49m\u001b[38;5;241;43m.\u001b[39;49m\u001b[43mprepare_orders\u001b[49m\u001b[43m(\u001b[49m\u001b[38;5;28;43mself\u001b[39;49m\u001b[38;5;241;43m.\u001b[39;49m\u001b[43mactions_queue\u001b[49m\u001b[38;5;241;43m.\u001b[39;49m\u001b[43mpopleft\u001b[49m\u001b[43m(\u001b[49m\u001b[43m)\u001b[49m\u001b[43m)\u001b[49m\n\u001b[1;32m    283\u001b[0m     \u001b[38;5;28mself\u001b[39m\u001b[38;5;241m.\u001b[39mexecute_orders()\n\u001b[1;32m    285\u001b[0m     \u001b[38;5;28mself\u001b[39m\u001b[38;5;241m.\u001b[39mcurrent_time \u001b[38;5;241m=\u001b[39m actions_time\n",
      "Input \u001b[0;32mIn [2]\u001b[0m, in \u001b[0;36mSim.prepare_orders\u001b[0;34m(self, action_order)\u001b[0m\n\u001b[1;32m    304\u001b[0m \u001b[38;5;28;01mfor\u001b[39;00m order \u001b[38;5;129;01min\u001b[39;00m \u001b[38;5;28mself\u001b[39m\u001b[38;5;241m.\u001b[39mactive_orders:\n\u001b[1;32m    305\u001b[0m     \u001b[38;5;28;01mif\u001b[39;00m order\u001b[38;5;241m.\u001b[39morder_id \u001b[38;5;241m==\u001b[39m action_order\u001b[38;5;241m.\u001b[39morder_id:\n\u001b[0;32m--> 306\u001b[0m         \u001b[38;5;28;43mself\u001b[39;49m\u001b[38;5;241;43m.\u001b[39;49m\u001b[43mactive_orders\u001b[49m\u001b[38;5;241;43m.\u001b[39;49m\u001b[43mremove\u001b[49m\u001b[43m(\u001b[49m\u001b[43morder\u001b[49m\u001b[43m)\u001b[49m\n",
      "File \u001b[0;32m<string>:4\u001b[0m, in \u001b[0;36m__eq__\u001b[0;34m(self, other)\u001b[0m\n",
      "\u001b[0;31mKeyboardInterrupt\u001b[0m: "
     ]
    }
   ],
   "source": [
    "pnl, completed_trades = strategy.run(sim)"
   ]
  },
  {
   "cell_type": "markdown",
   "id": "f079d662",
   "metadata": {},
   "source": [
    "# Results Vizualization"
   ]
  },
  {
   "cell_type": "code",
   "execution_count": 3,
   "id": "9dbeee21",
   "metadata": {},
   "outputs": [],
   "source": [
    "def visualize_pnl_(pnl):\n",
    "    timestamps, pnls = zip(*pnl)\n",
    "\n",
    "    fig, _ = plt.subplots(1, 1, figsize=(15, 5))\n",
    "    sns.lineplot(x=timestamps, y=pnls)\n",
    "    plt.gca().xaxis.set_major_locator(mdates.HourLocator())\n",
    "    plt.gca().xaxis.set_major_formatter(mdates.DateFormatter('%H:%M'))\n",
    "    for label in plt.gca().get_xticklabels(which='major'):\n",
    "        label.set(rotation=30, horizontalalignment='right')\n",
    "    plt.title('PnL')\n",
    "    plt.xlabel('Time')\n",
    "    plt.ylabel('USDT')\n",
    "\n",
    "    plt.show()\n",
    "    fig.savefig('pnl.png')"
   ]
  },
  {
   "cell_type": "code",
   "execution_count": 4,
   "id": "b4b420d2",
   "metadata": {},
   "outputs": [],
   "source": [
    "with open('pnl.pickle', 'rb') as f:\n",
    "    pnl = pickle.load(f)"
   ]
  },
  {
   "cell_type": "code",
   "execution_count": 6,
   "id": "3ab6cdbc",
   "metadata": {},
   "outputs": [],
   "source": [
    "timestamps, pnls = zip(*pnl)"
   ]
  },
  {
   "cell_type": "code",
   "execution_count": 8,
   "id": "28d7808e",
   "metadata": {},
   "outputs": [],
   "source": [
    "pnls = np.array(pnls)"
   ]
  },
  {
   "cell_type": "code",
   "execution_count": 14,
   "id": "12d9a566",
   "metadata": {},
   "outputs": [
    {
     "data": {
      "text/plain": [
       "-15089.58307412086"
      ]
     },
     "execution_count": 14,
     "metadata": {},
     "output_type": "execute_result"
    }
   ],
   "source": [
    "pnls.mean()"
   ]
  },
  {
   "cell_type": "code",
   "execution_count": 13,
   "id": "ec51191e",
   "metadata": {},
   "outputs": [
    {
     "data": {
      "text/plain": [
       "18422.868972862478"
      ]
     },
     "execution_count": 13,
     "metadata": {},
     "output_type": "execute_result"
    }
   ],
   "source": [
    "pnls.std()"
   ]
  },
  {
   "cell_type": "code",
   "execution_count": 17,
   "id": "b6f56ae6",
   "metadata": {},
   "outputs": [
    {
     "data": {
      "text/plain": [
       "-14954.752500004432"
      ]
     },
     "execution_count": 17,
     "metadata": {},
     "output_type": "execute_result"
    }
   ],
   "source": [
    "pnls[-1]"
   ]
  },
  {
   "cell_type": "code",
   "execution_count": 8,
   "id": "6c84a86e",
   "metadata": {},
   "outputs": [
    {
     "data": {
      "image/png": "[encoded data removed]",
      "text/plain": [
       "<Figure size 1080x360 with 1 Axes>"
      ]
     },
     "metadata": {},
     "output_type": "display_data"
    }
   ],
   "source": [
    "visualize_pnl_(pnl[::100])"
   ]
  },
  {
   "cell_type": "code",
   "execution_count": null,
   "id": "8a71c2b9",
   "metadata": {},
   "outputs": [],
   "source": []
  }
 ],
 "metadata": {
  "kernelspec": {
   "display_name": "Python 3 (ipykernel)",
   "language": "python",
   "name": "python3"
  },
  "language_info": {
   "codemirror_mode": {
    "name": "ipython",
    "version": 3
   },
   "file_extension": ".py",
   "mimetype": "text/x-python",
   "name": "python",
   "nbconvert_exporter": "python",
   "pygments_lexer": "ipython3",
   "version": "3.9.12"
  }
 },
 "nbformat": 4,
 "nbformat_minor": 5
}

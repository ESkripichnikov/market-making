{
 "cells": [
  {
   "cell_type": "code",
   "execution_count": 2,
   "id": "3a2184ed",
   "metadata": {
    "pycharm": {
     "name": "#%%\n"
    }
   },
   "outputs": [],
   "source": [
    "import pickle\n",
    "\n",
    "import numpy as np\n",
    "import pandas as pd\n",
    "import plotly.graph_objects as go\n",
    "from plotly.subplots import make_subplots\n",
    "from tqdm.notebook import tqdm\n",
    "\n",
    "from simulator.simulator import Sim\n",
    "from strategies.baselines import BestPosStrategy, StoikovStrategy\n",
    "from utils.get_info import get_pnl, get_volumes\n",
    "from utils.load_data import load_md_from_file\n",
    "\n",
    "PATH_TO_FILE = 'md/btcusdt:Binance:LinearPerpetual/'\n",
    "# PATH_TO_FILE = 'md_new/ethusdt/'\n",
    "NROWS = 10_000_000"
   ]
  },
  {
   "cell_type": "code",
   "execution_count": 4,
   "id": "d073e4aa",
   "metadata": {
    "pycharm": {
     "name": "#%%\n"
    }
   },
   "outputs": [],
   "source": [
    "md = load_md_from_file(path=PATH_TO_FILE, nrows=NROWS, btc=True)\n",
    "\n",
    "latency = pd.Timedelta(10, 'ms').delta\n",
    "md_latency = pd.Timedelta(10, 'ms').delta"
   ]
  },
  {
   "cell_type": "markdown",
   "id": "29214e61",
   "metadata": {
    "pycharm": {
     "name": "#%% md\n"
    }
   },
   "source": [
    "# BestPosStrategy"
   ]
  },
  {
   "cell_type": "code",
   "execution_count": 5,
   "id": "0fef831e",
   "metadata": {
    "pycharm": {
     "name": "#%%\n"
    }
   },
   "outputs": [],
   "source": [
    "sim = Sim(md[1_080_000:], latency, md_latency)\n",
    "# sim = Sim(md[230_000:], latency, md_latency)\n",
    "\n",
    "delay = pd.Timedelta(0.1, 's').delta\n",
    "hold_time = pd.Timedelta(10, 's').delta\n",
    "strategy = BestPosStrategy(delay, hold_time, trade_size=0.001)"
   ]
  },
  {
   "cell_type": "code",
   "execution_count": 8,
   "id": "3f8ee1e0",
   "metadata": {
    "pycharm": {
     "name": "#%%\n"
    }
   },
   "outputs": [
    {
     "name": "stdout",
     "output_type": "stream",
     "text": [
      "CPU times: user 2min 39s, sys: 4.72 s, total: 2min 43s\n",
      "Wall time: 2min 49s\n"
     ]
    }
   ],
   "source": [
    "%%time\n",
    "trades_list_bp, md_list, updates_list, all_orders = strategy.run(sim)"
   ]
  },
  {
   "cell_type": "code",
   "execution_count": 10,
   "id": "bef89088",
   "metadata": {
    "pycharm": {
     "name": "#%%\n"
    }
   },
   "outputs": [
    {
     "name": "stdout",
     "output_type": "stream",
     "text": [
      "CPU times: user 10min 3s, sys: 13 s, total: 10min 16s\n",
      "Wall time: 10min 32s\n"
     ]
    }
   ],
   "source": [
    "%%time\n",
    "df_bp = get_pnl(updates_list, post_only=True)\n",
    "df_bp['receive_ts'] = pd.to_datetime(df_bp['receive_ts'])"
   ]
  },
  {
   "cell_type": "code",
   "execution_count": 11,
   "id": "9ff63c25",
   "metadata": {
    "pycharm": {
     "name": "#%%\n"
    }
   },
   "outputs": [
    {
     "name": "stdout",
     "output_type": "stream",
     "text": [
      "CPU times: user 9min 50s, sys: 9.49 s, total: 9min 59s\n",
      "Wall time: 10min 8s\n"
     ]
    }
   ],
   "source": [
    "%%time\n",
    "df_bp_fee = get_pnl(updates_list, post_only=True, maker_fee=-0.00004, taker_fee=0.0004)\n",
    "df_bp_fee['receive_ts'] = pd.to_datetime(df_bp_fee['receive_ts'])"
   ]
  },
  {
   "cell_type": "code",
   "execution_count": 12,
   "id": "c6709240",
   "metadata": {
    "pycharm": {
     "name": "#%%\n"
    }
   },
   "outputs": [
    {
     "data": {
      "text/plain": [
       "(613.0979999924141, 614.4379999923824, 19.2970000000006, 19.601000000000973)"
      ]
     },
     "execution_count": 12,
     "metadata": {},
     "output_type": "execute_result"
    }
   ],
   "source": [
    "ask_made, bid_made, ask_take, bid_take = get_volumes(trades_list_bp)\n",
    "ask_made, bid_made, ask_take, bid_take"
   ]
  },
  {
   "cell_type": "code",
   "execution_count": 40,
   "id": "8abe09d8",
   "metadata": {
    "pycharm": {
     "name": "#%%\n"
    }
   },
   "outputs": [],
   "source": [
    "df_st_fee.to_csv('df_st_fee.csv')"
   ]
  },
  {
   "cell_type": "code",
   "execution_count": null,
   "id": "35c50738",
   "metadata": {
    "pycharm": {
     "is_executing": true,
     "name": "#%%\n"
    }
   },
   "outputs": [],
   "source": [
    "fig = make_subplots(rows=3, cols=1, subplot_titles=(\"Price\", \"PnL\", \"Inventory Size\"))\n",
    "\n",
    "fig.add_trace(go.Scatter(x=df_bp.iloc[::100, :]['receive_ts'], y=df_bp.iloc[::100, :]['mid_price'],\n",
    "                         name='Price'), row=1, col=1)\n",
    "\n",
    "fig.add_trace(go.Scatter(x=df_bp.iloc[::100, :]['receive_ts'], y=df_bp.iloc[::100, :]['total'],\n",
    "                         name='PnL without fees'), row=2, col=1)\n",
    "fig.add_trace(go.Scatter(x=df_bp_fee.iloc[::100, :]['receive_ts'], y=df_bp_fee.iloc[::100, :]['total'],\n",
    "                         name='PnL including fees'), row=2, col=1)\n",
    "\n",
    "fig.add_trace(go.Scatter(x=df_bp.iloc[::100, :]['receive_ts'], y=df_bp.iloc[::100, :]['BTC'],\n",
    "                         name='Inventory Size'), row=3, col=1)\n",
    "\n",
    "fig.update_yaxes(title_text=\"USDT\", row=1, col=1)\n",
    "fig.update_yaxes(title_text=\"USDT\", row=2, col=1)\n",
    "fig.update_yaxes(title_text=\"BTC\", row=3, col=1)\n",
    "\n",
    "fig.update_layout(title_text=\"Naive Strategy: maker fee = -0.004%\", height=700)\n",
    "\n",
    "fig.write_html('docs/NaiveStrategy_btc.html')\n",
    "# fig.write_image('../images/results/NaiveStrategy.jpeg')\n",
    "fig.show()"
   ]
  },
  {
   "cell_type": "markdown",
   "id": "65599600",
   "metadata": {
    "pycharm": {
     "name": "#%% md\n"
    }
   },
   "source": [
    "# Stoikov Avellaneda Strategy"
   ]
  },
  {
   "cell_type": "markdown",
   "id": "67ed373b",
   "metadata": {
    "pycharm": {
     "name": "#%% md\n"
    }
   },
   "source": [
    "### k"
   ]
  },
  {
   "cell_type": "code",
   "execution_count": 35,
   "id": "7b37d83f",
   "metadata": {
    "pycharm": {
     "name": "#%%\n"
    }
   },
   "outputs": [
    {
     "data": {
      "application/vnd.jupyter.widget-view+json": {
       "model_id": "01fc15d22d104e26ba8991342a581b89",
       "version_major": 2,
       "version_minor": 0
      },
      "text/plain": [
       "  0%|          | 0/3 [00:00<?, ?it/s]"
      ]
     },
     "metadata": {},
     "output_type": "display_data"
    }
   ],
   "source": [
    "dfs_k = []\n",
    "\n",
    "ks = [10, 12, 15]\n",
    "# ks = [1, 10, 20]\n",
    "\n",
    "for k in tqdm(ks):\n",
    "    sim = Sim(md[:230_000], latency, md_latency)\n",
    "\n",
    "    delay = pd.Timedelta(0.1, 's').delta\n",
    "    hold_time = pd.Timedelta(10, 's').delta\n",
    "    terminal_date = pd.to_datetime('2022-06-24')\n",
    "\n",
    "    strategy = StoikovStrategy(delay=delay, hold_time=hold_time, trade_size=0.01, risk_aversion=0.5, k=k,\n",
    "                               post_only=True)\n",
    "\n",
    "    trades_list_st, md_list, updates_list, all_orders = strategy.run(sim)\n",
    "\n",
    "    df = get_pnl(updates_list, post_only=True, maker_fee=-0.00004, taker_fee=0.0004)\n",
    "    df['receive_ts'] = pd.to_datetime(df['receive_ts'])\n",
    "    df.set_index('receive_ts', inplace=True)\n",
    "\n",
    "    dfs_k.append(df)"
   ]
  },
  {
   "cell_type": "code",
   "execution_count": null,
   "id": "46bec242",
   "metadata": {
    "pycharm": {
     "is_executing": true,
     "name": "#%%\n"
    }
   },
   "outputs": [],
   "source": [
    "fig = make_subplots(rows=2, cols=1)\n",
    "\n",
    "for i, df_ in enumerate(dfs_k):\n",
    "    df__ = df_[['total', 'BTC']].resample('1s').last().reset_index()\n",
    "    fig.add_trace(go.Scatter(x=df__['receive_ts'], y=df__['total'], name=f'k: {ks[i]}_USD'),\n",
    "                  row=1, col=1)\n",
    "    fig.add_trace(go.Scatter(x=df__['receive_ts'], y=df__['BTC'], name=f'k: {ks[i]}_ETH'),\n",
    "                  row=2, col=1)\n",
    "\n",
    "fig.update_layout(\n",
    "    title_text=\"PnL Depending on k\"\n",
    ")\n",
    "\n",
    "fig.update_xaxes(title_text=\"Time\")\n",
    "fig.update_yaxes(title_text=\"USDT\", row=1, col=1)\n",
    "fig.update_yaxes(title_text=\"ETH\", row=2, col=1)\n",
    "fig.show()\n",
    "# fig.write_html('../docs/StoikovStrategy_risk_ref_430.html')"
   ]
  },
  {
   "cell_type": "markdown",
   "id": "bb759e48",
   "metadata": {
    "pycharm": {
     "name": "#%% md\n"
    }
   },
   "source": [
    "## Final Stoikov Model"
   ]
  },
  {
   "cell_type": "code",
   "execution_count": 15,
   "id": "584cb21a",
   "metadata": {
    "pycharm": {
     "name": "#%%\n"
    }
   },
   "outputs": [],
   "source": [
    "sim = Sim(md[1_080_002:], latency, md_latency)\n",
    "# sim = Sim(md[230_000:], latency, md_latency)"
   ]
  },
  {
   "cell_type": "code",
   "execution_count": 16,
   "id": "37f1aeb7",
   "metadata": {
    "pycharm": {
     "name": "#%%\n"
    }
   },
   "outputs": [],
   "source": [
    "delay = pd.Timedelta(0.1, 's').delta\n",
    "hold_time = pd.Timedelta(10, 's').delta\n",
    "\n",
    "strategy = StoikovStrategy(delay=delay, hold_time=hold_time, trade_size=0.001, risk_aversion=0.5, k=1.5,\n",
    "                           post_only=True)"
   ]
  },
  {
   "cell_type": "code",
   "execution_count": 18,
   "id": "d28c36db",
   "metadata": {
    "pycharm": {
     "name": "#%%\n"
    }
   },
   "outputs": [
    {
     "name": "stdout",
     "output_type": "stream",
     "text": [
      "CPU times: user 2min 41s, sys: 6.73 s, total: 2min 48s\n",
      "Wall time: 2min 57s\n"
     ]
    }
   ],
   "source": [
    "%%time\n",
    "trades_list_st, md_list, updates_list, all_orders = strategy.run(sim)"
   ]
  },
  {
   "cell_type": "code",
   "execution_count": 19,
   "id": "4d68fbfb",
   "metadata": {
    "pycharm": {
     "name": "#%%\n"
    }
   },
   "outputs": [
    {
     "name": "stdout",
     "output_type": "stream",
     "text": [
      "CPU times: user 9min 14s, sys: 9.38 s, total: 9min 23s\n",
      "Wall time: 9min 33s\n"
     ]
    }
   ],
   "source": [
    "%%time\n",
    "df_st = get_pnl(updates_list, post_only=True, maker_fee=0, taker_fee=0)\n",
    "df_st['receive_ts'] = pd.to_datetime(df_st['receive_ts'])"
   ]
  },
  {
   "cell_type": "code",
   "execution_count": 20,
   "id": "b96888d3",
   "metadata": {
    "pycharm": {
     "name": "#%%\n"
    }
   },
   "outputs": [
    {
     "name": "stdout",
     "output_type": "stream",
     "text": [
      "CPU times: user 9min 13s, sys: 7.56 s, total: 9min 21s\n",
      "Wall time: 9min 25s\n"
     ]
    }
   ],
   "source": [
    "%%time\n",
    "df_st_fee = get_pnl(updates_list, post_only=True, maker_fee=-0.00004, taker_fee=0.0004)\n",
    "df_st_fee['receive_ts'] = pd.to_datetime(df_st_fee['receive_ts'])"
   ]
  },
  {
   "cell_type": "code",
   "execution_count": 21,
   "id": "f9aa9ec9",
   "metadata": {
    "pycharm": {
     "name": "#%%\n"
    }
   },
   "outputs": [
    {
     "data": {
      "text/plain": [
       "(31.581000000015614, 31.599000000015636, 4.308999999999774, 4.157999999999723)"
      ]
     },
     "execution_count": 21,
     "metadata": {},
     "output_type": "execute_result"
    }
   ],
   "source": [
    "ask_made, bid_made, ask_take, bid_take = get_volumes(trades_list_st)\n",
    "ask_made, bid_made, ask_take, bid_take"
   ]
  },
  {
   "cell_type": "code",
   "execution_count": null,
   "id": "38f1f828",
   "metadata": {
    "pycharm": {
     "is_executing": true,
     "name": "#%%\n"
    }
   },
   "outputs": [],
   "source": [
    "fig = make_subplots(rows=3, cols=1, subplot_titles=(\"Price\", \"PnL\", \"Inventory Size\"))\n",
    "\n",
    "fig.add_trace(go.Scatter(x=df_st.iloc[::100, :]['receive_ts'], y=df_st.iloc[::100, :]['mid_price'],\n",
    "                         name='Price'), row=1, col=1)\n",
    "\n",
    "fig.add_trace(go.Scatter(x=df_st.iloc[::100, :]['receive_ts'], y=df_st.iloc[::100, :]['total'],\n",
    "                         name='PnL without fees'), row=2, col=1)\n",
    "fig.add_trace(go.Scatter(x=df_st_fee.iloc[::100, :]['receive_ts'], y=df_st_fee.iloc[::100, :]['total'],\n",
    "                         name='PnL including fees'), row=2, col=1)\n",
    "\n",
    "fig.add_trace(go.Scatter(x=df_st.iloc[::100, :]['receive_ts'], y=df_st.iloc[::100, :]['BTC'],\n",
    "                         name='Inventory Size'), row=3, col=1)\n",
    "\n",
    "fig.update_yaxes(title_text=\"USDT\", row=1, col=1)\n",
    "fig.update_yaxes(title_text=\"USDT\", row=2, col=1)\n",
    "fig.update_yaxes(title_text=\"BTC\", row=3, col=1)\n",
    "\n",
    "fig.update_layout(title_text=\"Stoikov Strategy: maker fee = -0.004%\", height=700)\n",
    "\n",
    "# fig.write_html('docs/StoikovStrategy_btc.html')\n",
    "# fig.write_image('../images/results/StoikovStrategy_eth_al_post.jpeg')\n",
    "fig.show()"
   ]
  },
  {
   "cell_type": "markdown",
   "id": "89caaa52",
   "metadata": {
    "pycharm": {
     "name": "#%% md\n"
    }
   },
   "source": [
    "# RL Strategy"
   ]
  },
  {
   "cell_type": "code",
   "execution_count": 24,
   "id": "6e5a1688",
   "metadata": {
    "pycharm": {
     "name": "#%%\n"
    }
   },
   "outputs": [
    {
     "data": {
      "text/plain": [
       "device(type='cpu')"
      ]
     },
     "execution_count": 24,
     "metadata": {},
     "output_type": "execute_result"
    }
   ],
   "source": [
    "import torch\n",
    "\n",
    "from strategies.rl import A2CNetwork, Policy, RLStrategy, ComputeValueTargets\n",
    "\n",
    "DEVICE = torch.device(\"cuda:0\" if torch.cuda.is_available() else \"cpu\")\n",
    "DEVICE"
   ]
  },
  {
   "cell_type": "code",
   "execution_count": 25,
   "id": "a3297e6a",
   "metadata": {
    "pycharm": {
     "name": "#%%\n"
    }
   },
   "outputs": [],
   "source": [
    "with open('data/features_dict.pickle', 'rb') as f:\n",
    "    ess_dict = pickle.load(f)\n",
    "\n",
    "ess_df = pd.DataFrame.from_dict(ess_dict, orient='index').reset_index().rename(columns={'index': 'receive_ts'})\n",
    "\n",
    "with open('data/means.npy', 'rb') as f:\n",
    "    means = np.load(f)\n",
    "\n",
    "with open('data/stds.npy', 'rb') as f:\n",
    "    stds = np.load(f)\n",
    "\n",
    "del(ess_dict)"
   ]
  },
  {
   "cell_type": "code",
   "execution_count": 26,
   "id": "d8d0f8f4",
   "metadata": {
    "pycharm": {
     "name": "#%%\n"
    }
   },
   "outputs": [],
   "source": [
    "model = A2CNetwork(n_actions=10, DEVICE=DEVICE).to(DEVICE)\n",
    "model.load_state_dict(torch.load(\"models/A2C_1000step_ETH_25_20_post_delays_10act_rew.pth\"))\n",
    "model.eval()\n",
    "\n",
    "policy = Policy(model)\n",
    "\n",
    "delay = pd.Timedelta(0.1, 's').delta\n",
    "hold_time = pd.Timedelta(10, 's').delta\n",
    "strategy = RLStrategy(policy, ess_df, 1.0,\n",
    "                      means, stds, delay, hold_time, [ComputeValueTargets(policy)],\n",
    "                      trade_size=0.01, post_only=True, taker_fee=0.0004, maker_fee=-0.00004)"
   ]
  },
  {
   "cell_type": "code",
   "execution_count": null,
   "id": "47e7cfee",
   "metadata": {
    "pycharm": {
     "name": "#%%\n"
    }
   },
   "outputs": [],
   "source": [
    "% % time\n",
    "strategy.reset()\n",
    "sim = Sim(md[1_080_002:],\n",
    "          execution_latency=pd.Timedelta(10, 'ms').delta,\n",
    "          md_latency=pd.Timedelta(10, 'ms').delta)\n",
    "with torch.no_grad():\n",
    "    trades_list, md_list, updates_list, actions_history, trajectory = strategy.run(sim, mode='test')"
   ]
  },
  {
   "cell_type": "code",
   "execution_count": 2,
   "id": "8c5f230d",
   "metadata": {
    "pycharm": {
     "name": "#%%\n"
    }
   },
   "outputs": [],
   "source": [
    "# with open('../data/rl_model/trades_list_ETH.pickle', 'wb') as f:\n",
    "#     pickle.dump(trades_list, f)\n",
    "\n",
    "# with open('../data/rl_model/md_list_ETH.pickle', 'wb') as f:\n",
    "#     pickle.dump(md_list, f)\n",
    "\n",
    "# with open('../data/rl_model/updates_list_ETH.pickle', 'wb') as f:\n",
    "#     pickle.dump(updates_list, f)\n",
    "\n",
    "# with open('../data/rl_model/actions_history_ETH.pickle', 'wb') as f:\n",
    "#     pickle.dump(actions_history, f)\n",
    "\n",
    "# with open('data/rl_model/trades_list_BTC.pickle', 'rb') as f:\n",
    "#     trades_list = pickle.load(f)\n",
    "\n",
    "# with open('data/rl_model/md_list_BTC.pickle', 'rb') as f:\n",
    "#     md_list = pickle.load(f)\n",
    "\n",
    "# with open('data/rl_model/updates_list_BTC.pickle', 'rb') as f:\n",
    "#     updates_list = pickle.load(f)\n",
    "\n",
    "# with open('data/rl_model/actions_history_BTC.pickle', 'rb') as f:\n",
    "#     actions_history = pickle.load(f)"
   ]
  },
  {
   "cell_type": "code",
   "execution_count": 8,
   "id": "adad1c65",
   "metadata": {
    "pycharm": {
     "name": "#%%\n"
    }
   },
   "outputs": [
    {
     "name": "stdout",
     "output_type": "stream",
     "text": [
      "CPU times: user 8min 52s, sys: 1min 24s, total: 10min 16s\n",
      "Wall time: 11min 4s\n"
     ]
    }
   ],
   "source": [
    "%%time\n",
    "\n",
    "df_rl = get_pnl(updates_list, post_only=True, maker_fee=0, taker_fee=0)\n",
    "df_rl['receive_ts'] = pd.to_datetime(df_rl['receive_ts'])"
   ]
  },
  {
   "cell_type": "code",
   "execution_count": 9,
   "id": "48553901",
   "metadata": {
    "pycharm": {
     "name": "#%%\n"
    }
   },
   "outputs": [
    {
     "name": "stdout",
     "output_type": "stream",
     "text": [
      "CPU times: user 8min 52s, sys: 1min 15s, total: 10min 8s\n",
      "Wall time: 10min 50s\n"
     ]
    }
   ],
   "source": [
    "%%time\n",
    "\n",
    "df_rl_fee = get_pnl(updates_list, post_only=True, maker_fee=-0.00004, taker_fee=0.0004)\n",
    "df_rl_fee['receive_ts'] = pd.to_datetime(df_rl_fee['receive_ts'])"
   ]
  },
  {
   "cell_type": "code",
   "execution_count": 12,
   "id": "8bd34b98",
   "metadata": {
    "pycharm": {
     "name": "#%%\n"
    }
   },
   "outputs": [
    {
     "data": {
      "text/plain": [
       "(445.9899999963656, 445.3089999963817, 18.790999999999983, 19.129000000000396)"
      ]
     },
     "execution_count": 12,
     "metadata": {},
     "output_type": "execute_result"
    }
   ],
   "source": [
    "ask_made, bid_made, ask_take, bid_take = get_volumes(trades_list)\n",
    "ask_made, bid_made, ask_take, bid_take"
   ]
  },
  {
   "cell_type": "code",
   "execution_count": null,
   "id": "017e3319",
   "metadata": {
    "pycharm": {
     "is_executing": true,
     "name": "#%%\n"
    }
   },
   "outputs": [],
   "source": [
    "fig = make_subplots(rows=3, cols=1, subplot_titles=(\"Price\", \"PnL\", \"Inventory Size\"))\n",
    "\n",
    "fig.add_trace(go.Scatter(x=df_rl.iloc[::100, :]['receive_ts'], y=df_rl.iloc[::100, :]['mid_price'],\n",
    "                         name='Price'), row=1, col=1)\n",
    "\n",
    "fig.add_trace(go.Scatter(x=df_rl.iloc[::100, :]['receive_ts'], y=df_rl.iloc[::100, :]['total'],\n",
    "                         name='PnL without fees'), row=2, col=1)\n",
    "fig.add_trace(go.Scatter(x=df_rl_fee.iloc[::100, :]['receive_ts'], y=df_rl_fee.iloc[::100, :]['total'],\n",
    "                         name='PnL including fees'), row=2, col=1)\n",
    "\n",
    "fig.add_trace(go.Scatter(x=df_rl.iloc[::100, :]['receive_ts'], y=df_rl.iloc[::100, :]['BTC'],\n",
    "                         name='Inventory Size'), row=3, col=1)\n",
    "\n",
    "fig.update_yaxes(title_text=\"USDT\", row=1, col=1)\n",
    "fig.update_yaxes(title_text=\"USDT\", row=2, col=1)\n",
    "fig.update_yaxes(title_text=\"BTC\", row=3, col=1)\n",
    "# fig.update_yaxes(title_text=\"Actions ID\", row=4, col=1)\n",
    "\n",
    "fig.update_layout(title_text=\"RL Strategy: maker fee = -0.004%\", height=700)\n",
    "\n",
    "fig.write_html('docs/RLStrategy_btc.html')\n",
    "# fig.write_image('../images/results/RLStrategy.jpeg')\n",
    "fig.show()"
   ]
  },
  {
   "cell_type": "code",
   "execution_count": null,
   "id": "b905b4dd",
   "metadata": {
    "pycharm": {
     "name": "#%%\n"
    }
   },
   "outputs": [],
   "source": []
  },
  {
   "cell_type": "code",
   "execution_count": null,
   "id": "28a78aab",
   "metadata": {
    "pycharm": {
     "is_executing": true,
     "name": "#%%\n"
    }
   },
   "outputs": [],
   "source": [
    "fig = make_subplots(rows=3, cols=1)\n",
    "\n",
    "fig.add_trace(go.Scatter(x=df_bp_fee.iloc[::100, :]['receive_ts'], y=df_bp_fee.iloc[::100, :]['BTC'],\n",
    "                         name='Naive'), row=1, col=1)\n",
    "\n",
    "fig.add_trace(go.Scatter(x=df_st_fee.iloc[::100, :]['receive_ts'], y=df_st_fee.iloc[::100, :]['BTC'],\n",
    "                         name='Stoikov'), row=2, col=1)\n",
    "\n",
    "fig.add_trace(go.Scatter(x=df_rl_fee.iloc[::100, :]['receive_ts'], y=df_rl_fee.iloc[::100, :]['BTC'],\n",
    "                         name='RL'), row=3, col=1)\n",
    "\n",
    "# fig.update_yaxes(title_text=\"USDT\", row=1, col=1)\n",
    "fig.update_yaxes(title_text=\"BTC\", row=2, col=1)\n",
    "# fig.update_yaxes(title_text=\"USDT\", row=3, col=1)\n",
    "# fig.update_yaxes(title_text=\"Actions ID\", row=4, col=1)\n",
    "\n",
    "fig.update_layout(title_text=\"Inventory\", height=700)\n",
    "\n",
    "# fig.write_html('../docs/RLStrategy_eth.html')\n",
    "# fig.write_image('../images/results/RLStrategy.jpeg')\n",
    "fig.show()"
   ]
  },
  {
   "cell_type": "code",
   "execution_count": null,
   "id": "765de867",
   "metadata": {
    "pycharm": {
     "is_executing": true,
     "name": "#%%\n"
    }
   },
   "outputs": [],
   "source": [
    "fig = make_subplots(rows=1, cols=1)\n",
    "\n",
    "fig.add_trace(go.Scatter(x=df_bp_fee.iloc[::100, :]['receive_ts'], y=df_bp_fee.iloc[::100, :]['mid_price'],\n",
    "                         ), row=1, col=1)\n",
    "\n",
    "# fig.add_trace(go.Scatter(x=df_st_fee.iloc[::100, :]['receive_ts'], y=df_st_fee.iloc[::100, :]['total'],\n",
    "#                          name='Stoikov'), row=2, col=1)\n",
    "\n",
    "# fig.add_trace(go.Scatter(x=df_rl_fee.iloc[::100, :]['receive_ts'], y=df_rl_fee.iloc[::100, :]['total'],\n",
    "#                          name='RL'), row=3, col=1)\n",
    "\n",
    "# fig.update_yaxes(title_text=\"USDT\", row=1, col=1)\n",
    "fig.update_yaxes(title_text=\"USDT\", row=1, col=1)\n",
    "# fig.update_yaxes(title_text=\"USDT\", row=3, col=1)\n",
    "# fig.update_yaxes(title_text=\"Actions ID\", row=4, col=1)\n",
    "\n",
    "fig.update_layout(title_text='Price', height=370, width=970)\n",
    "\n",
    "# fig.write_html('../docs/RLStrategy.html')\n",
    "# fig.write_image('../images/results/RLStrategy.jpeg')\n",
    "# fig.show()\n",
    "\n",
    "fig.update_traces(line_color='purple')"
   ]
  }
 ],
 "metadata": {
  "kernelspec": {
   "display_name": "Python 3 (ipykernel)",
   "language": "python",
   "name": "python3"
  },
  "language_info": {
   "codemirror_mode": {
    "name": "ipython",
    "version": 3
   },
   "file_extension": ".py",
   "mimetype": "text/x-python",
   "name": "python",
   "nbconvert_exporter": "python",
   "pygments_lexer": "ipython3",
   "version": "3.8.13"
  }
 },
 "nbformat": 4,
 "nbformat_minor": 5
}

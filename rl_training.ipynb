{
 "cells": [
  {
   "cell_type": "code",
   "execution_count": 1,
   "id": "2765ba13",
   "metadata": {
    "pycharm": {
     "name": "#%%\n"
    }
   },
   "outputs": [],
   "source": [
    "import pickle\n",
    "import random\n",
    "\n",
    "import numpy as np\n",
    "import pandas as pd\n",
    "import plotly.graph_objects as go\n",
    "import torch\n",
    "from plotly.subplots import make_subplots\n",
    "\n",
    "from simulator.simulator import Sim\n",
    "from strategies.rl import A2CNetwork, Policy, RLStrategy, A2C, ComputeValueTargets, evaluate\n",
    "from utils.get_info import get_pnl, get_volumes\n",
    "from utils.load_data import load_md_from_file"
   ]
  },
  {
   "cell_type": "code",
   "execution_count": 2,
   "id": "1bfe2b2e",
   "metadata": {
    "pycharm": {
     "name": "#%%\n"
    }
   },
   "outputs": [
    {
     "data": {
      "text/plain": [
       "device(type='cpu')"
      ]
     },
     "execution_count": 2,
     "metadata": {},
     "output_type": "execute_result"
    }
   ],
   "source": [
    "# PATH_TO_FILE = 'md/btcusdt:Binance:LinearPerpetual/'\n",
    "PATH_TO_FILE = 'md_new/ethusdt/'\n",
    "\n",
    "seed = 13\n",
    "random.seed(seed)\n",
    "np.random.seed(seed)\n",
    "torch.manual_seed(seed)\n",
    "\n",
    "DEVICE = torch.device(\"cuda:0\" if torch.cuda.is_available() else \"cpu\")\n",
    "DEVICE"
   ]
  },
  {
   "cell_type": "markdown",
   "id": "54a99acd",
   "metadata": {
    "pycharm": {
     "name": "#%% md\n"
    }
   },
   "source": [
    "# Training"
   ]
  },
  {
   "cell_type": "code",
   "execution_count": 3,
   "id": "6328385b",
   "metadata": {
    "pycharm": {
     "name": "#%%\n"
    }
   },
   "outputs": [],
   "source": [
    "with open('data/features_dict_eth.pickle', 'rb') as f:\n",
    "    ess_dict = pickle.load(f)\n",
    "    \n",
    "ess_df = pd.DataFrame.from_dict(ess_dict, orient='index').reset_index().rename(columns={'index': 'receive_ts'})\n",
    "\n",
    "with open('data/means_eth.npy', 'rb') as f:\n",
    "    means = np.load(f)\n",
    "    \n",
    "with open('data/stds_eth.npy', 'rb') as f:\n",
    "    stds = np.load(f)\n",
    "\n",
    "del(ess_dict)"
   ]
  },
  {
   "cell_type": "code",
   "execution_count": 4,
   "id": "8244dda0",
   "metadata": {
    "pycharm": {
     "name": "#%%\n"
    }
   },
   "outputs": [],
   "source": [
    "md_all = load_md_from_file(path=PATH_TO_FILE, nrows=10_000_000, btc=False)"
   ]
  },
  {
   "cell_type": "code",
   "execution_count": 5,
   "id": "ae09e251",
   "metadata": {
    "pycharm": {
     "name": "#%%\n"
    }
   },
   "outputs": [],
   "source": [
    "# md_train = md_all[:1_035_000]\n",
    "# md_test = md_all[1_035_000:1_080_000]\n",
    "md_train = md_all[1:200_000]\n",
    "md_test = md_all[200_000:230_000]"
   ]
  },
  {
   "cell_type": "code",
   "execution_count": 10,
   "id": "c8966a86",
   "metadata": {
    "pycharm": {
     "name": "#%%\n"
    }
   },
   "outputs": [],
   "source": [
    "model = A2CNetwork(n_actions=10, DEVICE=DEVICE).to(DEVICE)\n",
    "# model.load_state_dict(torch.load(\"models/ETH_50step_15_50act_rew_pen.pth\"))\n",
    "policy = Policy(model)"
   ]
  },
  {
   "cell_type": "code",
   "execution_count": 11,
   "id": "c171c584",
   "metadata": {
    "pycharm": {
     "name": "#%%\n"
    }
   },
   "outputs": [],
   "source": [
    "delay = pd.Timedelta(0.1, 's').delta\n",
    "hold_time = pd.Timedelta(10, 's').delta\n",
    "\n",
    "strategy = RLStrategy(policy, ess_df, 1.0, means, stds, delay, hold_time, [ComputeValueTargets(policy)],\n",
    "                      trade_size=0.01, post_only=True, taker_fee=0.0004, maker_fee=-0.00004)\n",
    "\n",
    "optimizer = torch.optim.RMSprop(model.parameters(), lr=7e-4, alpha=0.99, eps=1e-5)\n",
    "  \n",
    "a2c = A2C(policy, optimizer, value_loss_coef=0.25, entropy_coef=1, DEVICE=DEVICE)"
   ]
  },
  {
   "cell_type": "code",
   "execution_count": 12,
   "id": "1b40396c",
   "metadata": {
    "pycharm": {
     "name": "#%%\n"
    },
    "scrolled": true
   },
   "outputs": [
    {
     "name": "stderr",
     "output_type": "stream",
     "text": [
      "\u001b[34m\u001b[1mwandb\u001b[0m: \u001b[33mWARNING\u001b[0m Calling wandb.login() after wandb.init() has no effect.\n"
     ]
    },
    {
     "data": {
      "text/html": [
       "Finishing last run (ID:3lliy3bm) before initializing another..."
      ],
      "text/plain": [
       "<IPython.core.display.HTML object>"
      ]
     },
     "metadata": {},
     "output_type": "display_data"
    },
    {
     "data": {
      "text/html": [
       "Waiting for W&B process to finish... <strong style=\"color:green\">(success).</strong>"
      ],
      "text/plain": [
       "<IPython.core.display.HTML object>"
      ]
     },
     "metadata": {},
     "output_type": "display_data"
    },
    {
     "data": {
      "application/vnd.jupyter.widget-view+json": {
       "model_id": "d9cf250b86d9407dbbd3487c24072bc6",
       "version_major": 2,
       "version_minor": 0
      },
      "text/plain": [
       "VBox(children=(Label(value='0.001 MB of 0.001 MB uploaded (0.000 MB deduped)\\r'), FloatProgress(value=1.0, max…"
      ]
     },
     "metadata": {},
     "output_type": "display_data"
    },
    {
     "data": {
      "text/html": [
       "<style>\n",
       "    table.wandb td:nth-child(1) { padding: 0 10px; text-align: left ; width: auto;} td:nth-child(2) {text-align: left ; width: 100%}\n",
       "    .wandb-row { display: flex; flex-direction: row; flex-wrap: wrap; justify-content: flex-start; width: 100% }\n",
       "    .wandb-col { display: flex; flex-direction: column; flex-basis: 100%; flex: 1; padding: 10px; }\n",
       "    </style>\n",
       "<div class=\"wandb-row\"><div class=\"wandb-col\"><h3>Run history:</h3><br/><table class=\"wandb\"><tr><td>critic loss</td><td>▁▁▁▁▁▁▁▁▁▁▁▁▁▁▁▁▁▁▁▁█▁▁▁▁▁▁▁▁▁▁▁▁▁▁▁▁▁▁▁</td></tr><tr><td>entropy loss</td><td>▂▁▃▁▁█▁▂▁▁▁▁▃▁▁▁▁▂▁▁▁▁▁▃▁▁▁▁▁▁▁▁▁▁▁▁▁▁▁▁</td></tr><tr><td>policy loss</td><td>▁▁▅▁▁█▁▁▁▁▁▁▆▁▁▁▁▂▁▁▁▁▁▆▁▁▁▁▁▁▁▁▁▁▁▁▁▁▁▁</td></tr><tr><td>total loss</td><td>▁▁▁▁▁▁▁▁▁▁▁▁▁▁▁▁▁▁▁▁█▁▁▁▁▁▁▁▁▁▁▁▁▁▁▁▁▁▁▁</td></tr><tr><td>train reward</td><td>█▅██▅▄█▄████▇██▇▂▆▄▂▅▂▃▅▃█▅▂▄█▄▅▂▁▄▄▃▄▂▂</td></tr></table><br/></div><div class=\"wandb-col\"><h3>Run summary:</h3><br/><table class=\"wandb\"><tr><td>critic loss</td><td>1064.45398</td></tr><tr><td>entropy loss</td><td>-0.0</td></tr><tr><td>policy loss</td><td>-0.0</td></tr><tr><td>total loss</td><td>266.11349</td></tr><tr><td>train reward</td><td>-0.17397</td></tr></table><br/></div></div>"
      ],
      "text/plain": [
       "<IPython.core.display.HTML object>"
      ]
     },
     "metadata": {},
     "output_type": "display_data"
    },
    {
     "data": {
      "text/html": [
       " View run <strong style=\"color:#cdcd00\">flashing-rabbit-113</strong> at: <a href=\"https://wandb.ai/eskripichnikov/MM/runs/3lliy3bm\" target=\"_blank\">https://wandb.ai/eskripichnikov/MM/runs/3lliy3bm</a><br/>Synced 6 W&B file(s), 0 media file(s), 0 artifact file(s) and 0 other file(s)"
      ],
      "text/plain": [
       "<IPython.core.display.HTML object>"
      ]
     },
     "metadata": {},
     "output_type": "display_data"
    },
    {
     "data": {
      "text/html": [
       "Find logs at: <code>./wandb/run-20230126_201516-3lliy3bm/logs</code>"
      ],
      "text/plain": [
       "<IPython.core.display.HTML object>"
      ]
     },
     "metadata": {},
     "output_type": "display_data"
    },
    {
     "data": {
      "text/html": [
       "Successfully finished last run (ID:3lliy3bm). Initializing new run:<br/>"
      ],
      "text/plain": [
       "<IPython.core.display.HTML object>"
      ]
     },
     "metadata": {},
     "output_type": "display_data"
    },
    {
     "data": {
      "application/vnd.jupyter.widget-view+json": {
       "model_id": "c5c6d50c7b7e460a94fccd3d1775a6fc",
       "version_major": 2,
       "version_minor": 0
      },
      "text/plain": [
       "VBox(children=(Label(value='Waiting for wandb.init()...\\r'), FloatProgress(value=0.016753071533332786, max=1.0…"
      ]
     },
     "metadata": {},
     "output_type": "display_data"
    },
    {
     "data": {
      "text/html": [
       "Tracking run with wandb version 0.13.9"
      ],
      "text/plain": [
       "<IPython.core.display.HTML object>"
      ]
     },
     "metadata": {},
     "output_type": "display_data"
    },
    {
     "data": {
      "text/html": [
       "Run data is saved locally in <code>/Users/evgenyskripichnikov/Documents/CMF/HFT/wandb/run-20230126_201951-17ei9mss</code>"
      ],
      "text/plain": [
       "<IPython.core.display.HTML object>"
      ]
     },
     "metadata": {},
     "output_type": "display_data"
    },
    {
     "data": {
      "text/html": [
       "Syncing run <strong><a href=\"https://wandb.ai/eskripichnikov/MM/runs/17ei9mss\" target=\"_blank\">lunar-wish-114</a></strong> to <a href=\"https://wandb.ai/eskripichnikov/MM\" target=\"_blank\">Weights & Biases</a> (<a href=\"https://wandb.me/run\" target=\"_blank\">docs</a>)<br/>"
      ],
      "text/plain": [
       "<IPython.core.display.HTML object>"
      ]
     },
     "metadata": {},
     "output_type": "display_data"
    },
    {
     "data": {
      "text/html": [
       " View project at <a href=\"https://wandb.ai/eskripichnikov/MM\" target=\"_blank\">https://wandb.ai/eskripichnikov/MM</a>"
      ],
      "text/plain": [
       "<IPython.core.display.HTML object>"
      ]
     },
     "metadata": {},
     "output_type": "display_data"
    },
    {
     "data": {
      "text/html": [
       " View run at <a href=\"https://wandb.ai/eskripichnikov/MM/runs/17ei9mss\" target=\"_blank\">https://wandb.ai/eskripichnikov/MM/runs/17ei9mss</a>"
      ],
      "text/plain": [
       "<IPython.core.display.HTML object>"
      ]
     },
     "metadata": {},
     "output_type": "display_data"
    }
   ],
   "source": [
    "# !pip install wandb --upgrade --quiet\n",
    "# !wandb login --relogin\n",
    "\n",
    "import wandb\n",
    "\n",
    "wandb.login()\n",
    "wandb.init(project=\"MM\") # id=\"9dee5ngv\", resume=True\n",
    "wandb.watch(model);"
   ]
  },
  {
   "cell_type": "code",
   "execution_count": 2,
   "id": "9f5535f7",
   "metadata": {
    "pycharm": {
     "name": "#%%\n"
    }
   },
   "outputs": [],
   "source": [
    "from tqdm.notebook import trange\n",
    "\n",
    "for i in trange(1, 301):\n",
    "    a2c.train(strategy, md_train,\n",
    "              latency=pd.Timedelta(10, 'ms').delta,\n",
    "              md_latency=pd.Timedelta(10, 'ms').delta,\n",
    "              count=50,\n",
    "              train_slice=195_000)\n",
    "    if i % 500 == 0:\n",
    "        reward, pnl, trajectory = evaluate(strategy,\n",
    "                                           md_test,\n",
    "                                           latency=pd.Timedelta(10, 'ms').delta,\n",
    "                                           md_latency=pd.Timedelta(10, 'ms').delta)\n",
    "        wandb.log({\n",
    "            'val reward': reward,\n",
    "            'val pnl': pnl,\n",
    "        })\n",
    "\n",
    "        torch.save(model.state_dict(), \"models/ETH_50step_15_50act_rew_pen.pth\")\n",
    "        \n",
    "#         a2c.entropy_coef /= 10"
   ]
  },
  {
   "cell_type": "code",
   "execution_count": 44,
   "id": "0771bc43",
   "metadata": {
    "pycharm": {
     "name": "#%%\n"
    }
   },
   "outputs": [],
   "source": [
    "model = A2CNetwork(n_actions=10).to(DEVICE)\n",
    "model.load_state_dict(torch.load(\"models/ETH_50step_15_50act_rew_pen.pth\"))\n",
    "model.eval()\n",
    "\n",
    "policy = Policy(model)\n",
    "\n",
    "delay = pd.Timedelta(0.1, 's').delta\n",
    "hold_time = pd.Timedelta(10, 's').delta\n",
    "strategy = RLStrategy(policy, ess_df, 1.0,\n",
    "                      means, stds, delay, hold_time, [ComputeValueTargets(policy)],\n",
    "                      trade_size=0.01, post_only=True, taker_fee=0.0004, maker_fee=-0.00004)"
   ]
  },
  {
   "cell_type": "code",
   "execution_count": 45,
   "id": "6116fc9e",
   "metadata": {
    "pycharm": {
     "name": "#%%\n"
    }
   },
   "outputs": [
    {
     "name": "stdout",
     "output_type": "stream",
     "text": [
      "CPU times: user 2min 8s, sys: 596 ms, total: 2min 8s\n",
      "Wall time: 2min 9s\n"
     ]
    }
   ],
   "source": [
    "%%time\n",
    "strategy.reset()\n",
    "sim = Sim(md_all[230_000:260_000],\n",
    "          execution_latency=pd.Timedelta(10, 'ms').delta,\n",
    "          md_latency=pd.Timedelta(10, 'ms').delta)\n",
    "with torch.no_grad():\n",
    "    trades_list, md_list, updates_list, actions_history, trajectory = strategy.run(sim, mode='test')"
   ]
  },
  {
   "cell_type": "code",
   "execution_count": 64,
   "id": "fffe1db3",
   "metadata": {
    "pycharm": {
     "name": "#%%\n"
    }
   },
   "outputs": [],
   "source": [
    "# with open('../data/rl_model/trades_list_BTC.pickle', 'wb') as f:\n",
    "#     pickle.dump(trades_list, f)\n",
    "    \n",
    "# with open('../data/rl_model/md_list_BTC.pickle', 'wb') as f:\n",
    "#     pickle.dump(md_list, f)\n",
    "    \n",
    "# with open('../data/rl_model/updates_list_BTC.pickle', 'wb') as f:\n",
    "#     pickle.dump(updates_list, f)\n",
    "    \n",
    "# with open('../data/rl_model/actions_history_BTC.pickle', 'wb') as f:\n",
    "#     pickle.dump(actions_history, f)\n",
    "    \n",
    "# # with open('../data/rl_model/trades_list.pickle', 'rb') as f:\n",
    "# #     trades_list = pickle.load(f)\n",
    "    \n",
    "# # with open('../data/rl_model/md_list.pickle', 'rb') as f:\n",
    "# #     md_list = pickle.load(f)\n",
    "    \n",
    "# # with open('../data/rl_model/updates_list.pickle', 'rb') as f:\n",
    "# #     updates_list = pickle.load(f)\n",
    "    \n",
    "# # with open('../data/rl_model/actions_history.pickle', 'rb') as f:\n",
    "# #     actions_history = pickle.load(f)"
   ]
  },
  {
   "cell_type": "code",
   "execution_count": 46,
   "id": "9ab0e70d",
   "metadata": {
    "pycharm": {
     "name": "#%%\n"
    }
   },
   "outputs": [
    {
     "name": "stdout",
     "output_type": "stream",
     "text": [
      "CPU times: user 2.36 s, sys: 4.16 ms, total: 2.36 s\n",
      "Wall time: 2.36 s\n"
     ]
    }
   ],
   "source": [
    "%%time\n",
    "\n",
    "df = get_pnl(updates_list, post_only=True)\n",
    "df['receive_ts'] = pd.to_datetime(df['receive_ts'])"
   ]
  },
  {
   "cell_type": "code",
   "execution_count": 47,
   "id": "fc9c347d",
   "metadata": {
    "pycharm": {
     "name": "#%%\n"
    }
   },
   "outputs": [
    {
     "name": "stdout",
     "output_type": "stream",
     "text": [
      "CPU times: user 2.41 s, sys: 3.16 ms, total: 2.41 s\n",
      "Wall time: 2.42 s\n"
     ]
    }
   ],
   "source": [
    "%%time\n",
    "\n",
    "df_fee = get_pnl(updates_list, post_only=True, maker_fee=-0.00004, taker_fee=0.0004)\n",
    "df_fee['receive_ts'] = pd.to_datetime(df_fee['receive_ts'])"
   ]
  },
  {
   "cell_type": "code",
   "execution_count": 48,
   "id": "8cfd7910",
   "metadata": {
    "pycharm": {
     "name": "#%%\n"
    }
   },
   "outputs": [
    {
     "data": {
      "text/plain": [
       "(9.729999999999837, 2.439999999999992, 1.2300000000000009, 0.02)"
      ]
     },
     "execution_count": 48,
     "metadata": {},
     "output_type": "execute_result"
    }
   ],
   "source": [
    "ask_made, bid_made, ask_take, bid_take = get_volumes(trades_list)\n",
    "ask_made, bid_made, ask_take, bid_take"
   ]
  },
  {
   "cell_type": "code",
   "execution_count": 3,
   "id": "776f184d",
   "metadata": {
    "pycharm": {
     "name": "#%%\n"
    }
   },
   "outputs": [],
   "source": [
    "fig = make_subplots(rows=3, cols=1, subplot_titles=(\"Price\", \"PnL\", \"Inventory Size\"))\n",
    "\n",
    "fig.add_trace(go.Scatter(x=df.iloc[::100, :]['receive_ts'], y=df.iloc[::100, :]['mid_price'],\n",
    "                         name='Price'), row=1, col=1)\n",
    "\n",
    "fig.add_trace(go.Scatter(x=df.iloc[::100, :]['receive_ts'], y=df.iloc[::100, :]['total'],\n",
    "                         name='PnL without fees'), row=2, col=1)\n",
    "fig.add_trace(go.Scatter(x=df_fee.iloc[::100, :]['receive_ts'], y=df_fee.iloc[::100, :]['total'],\n",
    "                         name='PnL including fees'), row=2, col=1)\n",
    "\n",
    "fig.add_trace(go.Scatter(x=df.iloc[::100, :]['receive_ts'], y=df.iloc[::100, :]['BTC'],\n",
    "                         name='Inventory Size'), row=3, col=1)\n",
    "\n",
    "# fig.add_trace(g\n",
    "# o.Scatter(x=pd.to_datetime(actions[0])[::100], y=actions[2][::100], mode='markers',\n",
    "#                          marker_color=actions[2][::100],\n",
    "#                          name='Actions'), row=4, col=1)\n",
    "\n",
    "fig.update_yaxes(title_text=\"USD\", row=1, col=1)\n",
    "fig.update_yaxes(title_text=\"USD\", row=2, col=1)\n",
    "fig.update_yaxes(title_text=\"BTC\", row=3, col=1)\n",
    "# fig.update_yaxes(title_text=\"Actions ID\", row=4, col=1)\n",
    "\n",
    "fig.update_layout(title_text=\"RL Strategy: maker fee = -0.004%\", height=700)\n",
    "\n",
    "# fig.write_html('../docs/RLStrategy.html')\n",
    "# fig.write_image('../images/results/RLStrategy.jpeg')\n",
    "# fig.show()"
   ]
  },
  {
   "cell_type": "code",
   "execution_count": 50,
   "id": "fecb2978",
   "metadata": {
    "pycharm": {
     "name": "#%%\n"
    }
   },
   "outputs": [],
   "source": [
    "actions = {i: 0 for i in range(11)}\n",
    "for _, _, action_id in actions_history:\n",
    "    actions[action_id] += 1"
   ]
  },
  {
   "cell_type": "code",
   "execution_count": null,
   "id": "529b1820",
   "metadata": {
    "pycharm": {
     "name": "#%%\n"
    }
   },
   "outputs": [],
   "source": []
  }
 ],
 "metadata": {
  "kernelspec": {
   "display_name": "Python 3 (ipykernel)",
   "language": "python",
   "name": "python3"
  },
  "language_info": {
   "codemirror_mode": {
    "name": "ipython",
    "version": 3
   },
   "file_extension": ".py",
   "mimetype": "text/x-python",
   "name": "python",
   "nbconvert_exporter": "python",
   "pygments_lexer": "ipython3",
   "version": "3.8.13"
  }
 },
 "nbformat": 4,
 "nbformat_minor": 5
}

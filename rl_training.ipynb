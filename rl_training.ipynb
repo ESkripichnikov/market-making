{
 "cells": [
  {
   "cell_type": "code",
   "execution_count": 1,
   "id": "2765ba13",
   "metadata": {
    "pycharm": {
     "name": "#%%\n"
    }
   },
   "outputs": [
    {
     "ename": "ModuleNotFoundError",
     "evalue": "No module named 'simulator.simulator'; 'simulator' is not a package",
     "output_type": "error",
     "traceback": [
      "\u001B[0;31m---------------------------------------------------------------------------\u001B[0m",
      "\u001B[0;31mModuleNotFoundError\u001B[0m                       Traceback (most recent call last)",
      "\u001B[0;32m/var/folders/pw/8ksvxmgj3yjbz5b_vf4q6h2m0000gn/T/ipykernel_3511/752086170.py\u001B[0m in \u001B[0;36m<module>\u001B[0;34m\u001B[0m\n\u001B[1;32m      8\u001B[0m \u001B[0;32mfrom\u001B[0m \u001B[0mplotly\u001B[0m\u001B[0;34m.\u001B[0m\u001B[0msubplots\u001B[0m \u001B[0;32mimport\u001B[0m \u001B[0mmake_subplots\u001B[0m\u001B[0;34m\u001B[0m\u001B[0;34m\u001B[0m\u001B[0m\n\u001B[1;32m      9\u001B[0m \u001B[0;34m\u001B[0m\u001B[0m\n\u001B[0;32m---> 10\u001B[0;31m \u001B[0;32mfrom\u001B[0m \u001B[0msimulator\u001B[0m\u001B[0;34m.\u001B[0m\u001B[0msimulator\u001B[0m \u001B[0;32mimport\u001B[0m \u001B[0mSim\u001B[0m\u001B[0;34m\u001B[0m\u001B[0;34m\u001B[0m\u001B[0m\n\u001B[0m\u001B[1;32m     11\u001B[0m \u001B[0;32mfrom\u001B[0m \u001B[0mstrategies\u001B[0m\u001B[0;34m.\u001B[0m\u001B[0mrl\u001B[0m \u001B[0;32mimport\u001B[0m \u001B[0mA2CNetwork\u001B[0m\u001B[0;34m,\u001B[0m \u001B[0mPolicy\u001B[0m\u001B[0;34m,\u001B[0m \u001B[0mRLStrategy\u001B[0m\u001B[0;34m,\u001B[0m \u001B[0mA2C\u001B[0m\u001B[0;34m,\u001B[0m \u001B[0mComputeValueTargets\u001B[0m\u001B[0;34m,\u001B[0m \u001B[0mevaluate\u001B[0m\u001B[0;34m\u001B[0m\u001B[0;34m\u001B[0m\u001B[0m\n\u001B[1;32m     12\u001B[0m \u001B[0;32mfrom\u001B[0m \u001B[0mutils\u001B[0m\u001B[0;34m.\u001B[0m\u001B[0mget_info\u001B[0m \u001B[0;32mimport\u001B[0m \u001B[0mget_pnl\u001B[0m\u001B[0;34m,\u001B[0m \u001B[0mget_volumes\u001B[0m\u001B[0;34m\u001B[0m\u001B[0;34m\u001B[0m\u001B[0m\n",
      "\u001B[0;31mModuleNotFoundError\u001B[0m: No module named 'simulator.simulator'; 'simulator' is not a package"
     ]
    }
   ],
   "source": [
    "import pickle\n",
    "import random\n",
    "\n",
    "import numpy as np\n",
    "import pandas as pd\n",
    "import plotly.graph_objects as go\n",
    "import torch\n",
    "from plotly.subplots import make_subplots\n",
    "\n",
    "from simulator.simulator import Sim\n",
    "from strategies.rl import A2CNetwork, Policy, RLStrategy, A2C, ComputeValueTargets, evaluate\n",
    "from utils.get_info import get_pnl, get_volumes\n",
    "from utils.load_data import load_md_from_file"
   ]
  },
  {
   "cell_type": "code",
   "execution_count": 2,
   "id": "1bfe2b2e",
   "metadata": {
    "pycharm": {
     "name": "#%%\n"
    }
   },
   "outputs": [
    {
     "data": {
      "text/plain": [
       "device(type='cpu')"
      ]
     },
     "execution_count": 2,
     "metadata": {},
     "output_type": "execute_result"
    }
   ],
   "source": [
    "# PATH_TO_FILE = 'md/btcusdt:Binance:LinearPerpetual/'\n",
    "PATH_TO_FILE = 'md_new/ethusdt/'\n",
    "\n",
    "seed = 13\n",
    "random.seed(seed)\n",
    "np.random.seed(seed)\n",
    "torch.manual_seed(seed)\n",
    "\n",
    "DEVICE = torch.device(\"cuda:0\" if torch.cuda.is_available() else \"cpu\")\n",
    "DEVICE"
   ]
  },
  {
   "cell_type": "markdown",
   "id": "54a99acd",
   "metadata": {
    "pycharm": {
     "name": "#%% md\n"
    }
   },
   "source": [
    "# Training"
   ]
  },
  {
   "cell_type": "code",
   "execution_count": 3,
   "id": "6328385b",
   "metadata": {
    "pycharm": {
     "name": "#%%\n"
    }
   },
   "outputs": [],
   "source": [
    "with open('data/features_dict_eth.pickle', 'rb') as f:\n",
    "    ess_dict = pickle.load(f)\n",
    "    \n",
    "ess_df = pd.DataFrame.from_dict(ess_dict, orient='index').reset_index().rename(columns={'index': 'receive_ts'})\n",
    "\n",
    "with open('data/means_eth.npy', 'rb') as f:\n",
    "    means = np.load(f)\n",
    "    \n",
    "with open('data/stds_eth.npy', 'rb') as f:\n",
    "    stds = np.load(f)\n",
    "\n",
    "del(ess_dict)"
   ]
  },
  {
   "cell_type": "code",
   "execution_count": 4,
   "id": "8244dda0",
   "metadata": {
    "pycharm": {
     "name": "#%%\n"
    }
   },
   "outputs": [],
   "source": [
    "md_all = load_md_from_file(path=PATH_TO_FILE, nrows=10_000_000, btc=False)"
   ]
  },
  {
   "cell_type": "code",
   "execution_count": 5,
   "id": "ae09e251",
   "metadata": {
    "pycharm": {
     "name": "#%%\n"
    }
   },
   "outputs": [],
   "source": [
    "# md_train = md_all[:1_035_000]\n",
    "# md_test = md_all[1_035_000:1_080_000]\n",
    "md_train = md_all[1:200_000]\n",
    "md_test = md_all[200_000:230_000]"
   ]
  },
  {
   "cell_type": "code",
   "execution_count": 10,
   "id": "c8966a86",
   "metadata": {
    "pycharm": {
     "name": "#%%\n"
    }
   },
   "outputs": [],
   "source": [
    "model = A2CNetwork(n_actions=10, DEVICE=DEVICE).to(DEVICE)\n",
    "# model.load_state_dict(torch.load(\"models/ETH_50step_15_50act_rew_pen.pth\"))\n",
    "policy = Policy(model)"
   ]
  },
  {
   "cell_type": "code",
   "execution_count": 11,
   "id": "c171c584",
   "metadata": {
    "pycharm": {
     "name": "#%%\n"
    }
   },
   "outputs": [],
   "source": [
    "delay = pd.Timedelta(0.1, 's').delta\n",
    "hold_time = pd.Timedelta(10, 's').delta\n",
    "\n",
    "strategy = RLStrategy(policy, ess_df, 1.0, means, stds, delay, hold_time, [ComputeValueTargets(policy)],\n",
    "                      trade_size=0.01, post_only=True, taker_fee=0.0004, maker_fee=-0.00004)\n",
    "\n",
    "optimizer = torch.optim.RMSprop(model.parameters(), lr=7e-4, alpha=0.99, eps=1e-5)\n",
    "  \n",
    "a2c = A2C(policy, optimizer, value_loss_coef=0.25, entropy_coef=1, DEVICE=DEVICE)"
   ]
  },
  {
   "cell_type": "code",
   "execution_count": 12,
   "id": "1b40396c",
   "metadata": {
    "pycharm": {
     "name": "#%%\n"
    },
    "scrolled": true
   },
   "outputs": [
    {
     "name": "stderr",
     "output_type": "stream",
     "text": [
      "\u001B[34m\u001B[1mwandb\u001B[0m: \u001B[33mWARNING\u001B[0m Calling wandb.login() after wandb.init() has no effect.\n"
     ]
    },
    {
     "data": {
      "text/html": [
       "Finishing last run (ID:3lliy3bm) before initializing another..."
      ],
      "text/plain": [
       "<IPython.core.display.HTML object>"
      ]
     },
     "metadata": {},
     "output_type": "display_data"
    },
    {
     "data": {
      "text/html": [
       "Waiting for W&B process to finish... <strong style=\"color:green\">(success).</strong>"
      ],
      "text/plain": [
       "<IPython.core.display.HTML object>"
      ]
     },
     "metadata": {},
     "output_type": "display_data"
    },
    {
     "data": {
      "application/vnd.jupyter.widget-view+json": {
       "model_id": "d9cf250b86d9407dbbd3487c24072bc6",
       "version_major": 2,
       "version_minor": 0
      },
      "text/plain": [
       "VBox(children=(Label(value='0.001 MB of 0.001 MB uploaded (0.000 MB deduped)\\r'), FloatProgress(value=1.0, max…"
      ]
     },
     "metadata": {},
     "output_type": "display_data"
    },
    {
     "data": {
      "text/html": [
       "<style>\n",
       "    table.wandb td:nth-child(1) { padding: 0 10px; text-align: left ; width: auto;} td:nth-child(2) {text-align: left ; width: 100%}\n",
       "    .wandb-row { display: flex; flex-direction: row; flex-wrap: wrap; justify-content: flex-start; width: 100% }\n",
       "    .wandb-col { display: flex; flex-direction: column; flex-basis: 100%; flex: 1; padding: 10px; }\n",
       "    </style>\n",
       "<div class=\"wandb-row\"><div class=\"wandb-col\"><h3>Run history:</h3><br/><table class=\"wandb\"><tr><td>critic loss</td><td>▁▁▁▁▁▁▁▁▁▁▁▁▁▁▁▁▁▁▁▁█▁▁▁▁▁▁▁▁▁▁▁▁▁▁▁▁▁▁▁</td></tr><tr><td>entropy loss</td><td>▂▁▃▁▁█▁▂▁▁▁▁▃▁▁▁▁▂▁▁▁▁▁▃▁▁▁▁▁▁▁▁▁▁▁▁▁▁▁▁</td></tr><tr><td>policy loss</td><td>▁▁▅▁▁█▁▁▁▁▁▁▆▁▁▁▁▂▁▁▁▁▁▆▁▁▁▁▁▁▁▁▁▁▁▁▁▁▁▁</td></tr><tr><td>total loss</td><td>▁▁▁▁▁▁▁▁▁▁▁▁▁▁▁▁▁▁▁▁█▁▁▁▁▁▁▁▁▁▁▁▁▁▁▁▁▁▁▁</td></tr><tr><td>train reward</td><td>█▅██▅▄█▄████▇██▇▂▆▄▂▅▂▃▅▃█▅▂▄█▄▅▂▁▄▄▃▄▂▂</td></tr></table><br/></div><div class=\"wandb-col\"><h3>Run summary:</h3><br/><table class=\"wandb\"><tr><td>critic loss</td><td>1064.45398</td></tr><tr><td>entropy loss</td><td>-0.0</td></tr><tr><td>policy loss</td><td>-0.0</td></tr><tr><td>total loss</td><td>266.11349</td></tr><tr><td>train reward</td><td>-0.17397</td></tr></table><br/></div></div>"
      ],
      "text/plain": [
       "<IPython.core.display.HTML object>"
      ]
     },
     "metadata": {},
     "output_type": "display_data"
    },
    {
     "data": {
      "text/html": [
       " View run <strong style=\"color:#cdcd00\">flashing-rabbit-113</strong> at: <a href=\"https://wandb.ai/eskripichnikov/MM/runs/3lliy3bm\" target=\"_blank\">https://wandb.ai/eskripichnikov/MM/runs/3lliy3bm</a><br/>Synced 6 W&B file(s), 0 media file(s), 0 artifact file(s) and 0 other file(s)"
      ],
      "text/plain": [
       "<IPython.core.display.HTML object>"
      ]
     },
     "metadata": {},
     "output_type": "display_data"
    },
    {
     "data": {
      "text/html": [
       "Find logs at: <code>./wandb/run-20230126_201516-3lliy3bm/logs</code>"
      ],
      "text/plain": [
       "<IPython.core.display.HTML object>"
      ]
     },
     "metadata": {},
     "output_type": "display_data"
    },
    {
     "data": {
      "text/html": [
       "Successfully finished last run (ID:3lliy3bm). Initializing new run:<br/>"
      ],
      "text/plain": [
       "<IPython.core.display.HTML object>"
      ]
     },
     "metadata": {},
     "output_type": "display_data"
    },
    {
     "data": {
      "application/vnd.jupyter.widget-view+json": {
       "model_id": "c5c6d50c7b7e460a94fccd3d1775a6fc",
       "version_major": 2,
       "version_minor": 0
      },
      "text/plain": [
       "VBox(children=(Label(value='Waiting for wandb.init()...\\r'), FloatProgress(value=0.016753071533332786, max=1.0…"
      ]
     },
     "metadata": {},
     "output_type": "display_data"
    },
    {
     "data": {
      "text/html": [
       "Tracking run with wandb version 0.13.9"
      ],
      "text/plain": [
       "<IPython.core.display.HTML object>"
      ]
     },
     "metadata": {},
     "output_type": "display_data"
    },
    {
     "data": {
      "text/html": [
       "Run data is saved locally in <code>/Users/evgenyskripichnikov/Documents/CMF/HFT/wandb/run-20230126_201951-17ei9mss</code>"
      ],
      "text/plain": [
       "<IPython.core.display.HTML object>"
      ]
     },
     "metadata": {},
     "output_type": "display_data"
    },
    {
     "data": {
      "text/html": [
       "Syncing run <strong><a href=\"https://wandb.ai/eskripichnikov/MM/runs/17ei9mss\" target=\"_blank\">lunar-wish-114</a></strong> to <a href=\"https://wandb.ai/eskripichnikov/MM\" target=\"_blank\">Weights & Biases</a> (<a href=\"https://wandb.me/run\" target=\"_blank\">docs</a>)<br/>"
      ],
      "text/plain": [
       "<IPython.core.display.HTML object>"
      ]
     },
     "metadata": {},
     "output_type": "display_data"
    },
    {
     "data": {
      "text/html": [
       " View project at <a href=\"https://wandb.ai/eskripichnikov/MM\" target=\"_blank\">https://wandb.ai/eskripichnikov/MM</a>"
      ],
      "text/plain": [
       "<IPython.core.display.HTML object>"
      ]
     },
     "metadata": {},
     "output_type": "display_data"
    },
    {
     "data": {
      "text/html": [
       " View run at <a href=\"https://wandb.ai/eskripichnikov/MM/runs/17ei9mss\" target=\"_blank\">https://wandb.ai/eskripichnikov/MM/runs/17ei9mss</a>"
      ],
      "text/plain": [
       "<IPython.core.display.HTML object>"
      ]
     },
     "metadata": {},
     "output_type": "display_data"
    }
   ],
   "source": [
    "# !pip install wandb --upgrade --quiet\n",
    "# !wandb login --relogin\n",
    "\n",
    "import wandb\n",
    "\n",
    "wandb.login()\n",
    "wandb.init(project=\"MM\") # id=\"9dee5ngv\", resume=True\n",
    "wandb.watch(model);"
   ]
  },
  {
   "cell_type": "code",
   "execution_count": 13,
   "id": "9f5535f7",
   "metadata": {
    "pycharm": {
     "name": "#%%\n"
    }
   },
   "outputs": [
    {
     "data": {
      "application/vnd.jupyter.widget-view+json": {
       "model_id": "e373a98c94a64cc689a2a433ac5d2f83",
       "version_major": 2,
       "version_minor": 0
      },
      "text/plain": [
       "  0%|          | 0/300 [00:00<?, ?it/s]"
      ]
     },
     "metadata": {},
     "output_type": "display_data"
    },
    {
     "ename": "KeyboardInterrupt",
     "evalue": "",
     "output_type": "error",
     "traceback": [
      "\u001B[0;31m---------------------------------------------------------------------------\u001B[0m",
      "\u001B[0;31mKeyboardInterrupt\u001B[0m                         Traceback (most recent call last)",
      "\u001B[0;32m/var/folders/pw/8ksvxmgj3yjbz5b_vf4q6h2m0000gn/T/ipykernel_3198/2586843040.py\u001B[0m in \u001B[0;36m<module>\u001B[0;34m\u001B[0m\n\u001B[1;32m      2\u001B[0m \u001B[0;34m\u001B[0m\u001B[0m\n\u001B[1;32m      3\u001B[0m \u001B[0;32mfor\u001B[0m \u001B[0mi\u001B[0m \u001B[0;32min\u001B[0m \u001B[0mtrange\u001B[0m\u001B[0;34m(\u001B[0m\u001B[0;36m1\u001B[0m\u001B[0;34m,\u001B[0m \u001B[0;36m301\u001B[0m\u001B[0;34m)\u001B[0m\u001B[0;34m:\u001B[0m\u001B[0;34m\u001B[0m\u001B[0;34m\u001B[0m\u001B[0m\n\u001B[0;32m----> 4\u001B[0;31m     a2c.train(strategy, md_train,\n\u001B[0m\u001B[1;32m      5\u001B[0m               \u001B[0mlatency\u001B[0m\u001B[0;34m=\u001B[0m\u001B[0mpd\u001B[0m\u001B[0;34m.\u001B[0m\u001B[0mTimedelta\u001B[0m\u001B[0;34m(\u001B[0m\u001B[0;36m10\u001B[0m\u001B[0;34m,\u001B[0m \u001B[0;34m'ms'\u001B[0m\u001B[0;34m)\u001B[0m\u001B[0;34m.\u001B[0m\u001B[0mdelta\u001B[0m\u001B[0;34m,\u001B[0m\u001B[0;34m\u001B[0m\u001B[0;34m\u001B[0m\u001B[0m\n\u001B[1;32m      6\u001B[0m               \u001B[0mmd_latency\u001B[0m\u001B[0;34m=\u001B[0m\u001B[0mpd\u001B[0m\u001B[0;34m.\u001B[0m\u001B[0mTimedelta\u001B[0m\u001B[0;34m(\u001B[0m\u001B[0;36m10\u001B[0m\u001B[0;34m,\u001B[0m \u001B[0;34m'ms'\u001B[0m\u001B[0;34m)\u001B[0m\u001B[0;34m.\u001B[0m\u001B[0mdelta\u001B[0m\u001B[0;34m,\u001B[0m\u001B[0;34m\u001B[0m\u001B[0;34m\u001B[0m\u001B[0m\n",
      "\u001B[0;32m~/Documents/CMF/HFT/strategies/rl.py\u001B[0m in \u001B[0;36mtrain\u001B[0;34m(self, strategy, md, latency, md_latency, train_slice, count)\u001B[0m\n\u001B[1;32m    412\u001B[0m         \u001B[0;31m# compute loss and perform one step of gradient optimization\u001B[0m\u001B[0;34m\u001B[0m\u001B[0;34m\u001B[0m\u001B[0;34m\u001B[0m\u001B[0m\n\u001B[1;32m    413\u001B[0m         \u001B[0;31m# do not forget to clip gradients\u001B[0m\u001B[0;34m\u001B[0m\u001B[0;34m\u001B[0m\u001B[0;34m\u001B[0m\u001B[0m\n\u001B[0;32m--> 414\u001B[0;31m         \u001B[0mstrategy\u001B[0m\u001B[0;34m.\u001B[0m\u001B[0mreset\u001B[0m\u001B[0;34m(\u001B[0m\u001B[0;34m)\u001B[0m\u001B[0;34m\u001B[0m\u001B[0;34m\u001B[0m\u001B[0m\n\u001B[0m\u001B[1;32m    415\u001B[0m         \u001B[0mrandom_slice\u001B[0m \u001B[0;34m=\u001B[0m \u001B[0mnp\u001B[0m\u001B[0;34m.\u001B[0m\u001B[0mrandom\u001B[0m\u001B[0;34m.\u001B[0m\u001B[0mrandint\u001B[0m\u001B[0;34m(\u001B[0m\u001B[0;36m1_000\u001B[0m\u001B[0;34m,\u001B[0m \u001B[0mtrain_slice\u001B[0m\u001B[0;34m)\u001B[0m\u001B[0;34m\u001B[0m\u001B[0;34m\u001B[0m\u001B[0m\n\u001B[1;32m    416\u001B[0m         \u001B[0msim\u001B[0m \u001B[0;34m=\u001B[0m \u001B[0mSim\u001B[0m\u001B[0;34m(\u001B[0m\u001B[0mmd\u001B[0m\u001B[0;34m[\u001B[0m\u001B[0mrandom_slice\u001B[0m\u001B[0;34m:\u001B[0m\u001B[0;34m]\u001B[0m\u001B[0;34m,\u001B[0m \u001B[0mlatency\u001B[0m\u001B[0;34m,\u001B[0m \u001B[0mmd_latency\u001B[0m\u001B[0;34m)\u001B[0m\u001B[0;34m\u001B[0m\u001B[0;34m\u001B[0m\u001B[0m\n",
      "\u001B[0;32m~/Documents/CMF/HFT/strategies/rl.py\u001B[0m in \u001B[0;36mreset\u001B[0;34m(self)\u001B[0m\n\u001B[1;32m    178\u001B[0m \u001B[0;34m\u001B[0m\u001B[0m\n\u001B[1;32m    179\u001B[0m     \u001B[0;32mdef\u001B[0m \u001B[0mreset\u001B[0m\u001B[0;34m(\u001B[0m\u001B[0mself\u001B[0m\u001B[0;34m)\u001B[0m\u001B[0;34m:\u001B[0m\u001B[0;34m\u001B[0m\u001B[0;34m\u001B[0m\u001B[0m\n\u001B[0;32m--> 180\u001B[0;31m         \u001B[0mself\u001B[0m\u001B[0;34m.\u001B[0m\u001B[0mfeatures_df\u001B[0m\u001B[0;34m[\u001B[0m\u001B[0;34m'inventory_ratio'\u001B[0m\u001B[0;34m]\u001B[0m \u001B[0;34m=\u001B[0m \u001B[0;36m0\u001B[0m\u001B[0;34m\u001B[0m\u001B[0;34m\u001B[0m\u001B[0m\n\u001B[0m\u001B[1;32m    181\u001B[0m         \u001B[0mself\u001B[0m\u001B[0;34m.\u001B[0m\u001B[0mfeatures_df\u001B[0m\u001B[0;34m[\u001B[0m\u001B[0;34m'tpnl'\u001B[0m\u001B[0;34m]\u001B[0m \u001B[0;34m=\u001B[0m \u001B[0;36m0\u001B[0m\u001B[0;34m\u001B[0m\u001B[0;34m\u001B[0m\u001B[0m\n\u001B[1;32m    182\u001B[0m \u001B[0;34m\u001B[0m\u001B[0m\n",
      "\u001B[0;32m/opt/anaconda3/lib/python3.8/site-packages/pandas/core/frame.py\u001B[0m in \u001B[0;36m__setitem__\u001B[0;34m(self, key, value)\u001B[0m\n\u001B[1;32m   3653\u001B[0m         \u001B[0;32melse\u001B[0m\u001B[0;34m:\u001B[0m\u001B[0;34m\u001B[0m\u001B[0;34m\u001B[0m\u001B[0m\n\u001B[1;32m   3654\u001B[0m             \u001B[0;31m# set column\u001B[0m\u001B[0;34m\u001B[0m\u001B[0;34m\u001B[0m\u001B[0;34m\u001B[0m\u001B[0m\n\u001B[0;32m-> 3655\u001B[0;31m             \u001B[0mself\u001B[0m\u001B[0;34m.\u001B[0m\u001B[0m_set_item\u001B[0m\u001B[0;34m(\u001B[0m\u001B[0mkey\u001B[0m\u001B[0;34m,\u001B[0m \u001B[0mvalue\u001B[0m\u001B[0;34m)\u001B[0m\u001B[0;34m\u001B[0m\u001B[0;34m\u001B[0m\u001B[0m\n\u001B[0m\u001B[1;32m   3656\u001B[0m \u001B[0;34m\u001B[0m\u001B[0m\n\u001B[1;32m   3657\u001B[0m     \u001B[0;32mdef\u001B[0m \u001B[0m_setitem_slice\u001B[0m\u001B[0;34m(\u001B[0m\u001B[0mself\u001B[0m\u001B[0;34m,\u001B[0m \u001B[0mkey\u001B[0m\u001B[0;34m:\u001B[0m \u001B[0mslice\u001B[0m\u001B[0;34m,\u001B[0m \u001B[0mvalue\u001B[0m\u001B[0;34m)\u001B[0m\u001B[0;34m:\u001B[0m\u001B[0;34m\u001B[0m\u001B[0;34m\u001B[0m\u001B[0m\n",
      "\u001B[0;32m/opt/anaconda3/lib/python3.8/site-packages/pandas/core/frame.py\u001B[0m in \u001B[0;36m_set_item\u001B[0;34m(self, key, value)\u001B[0m\n\u001B[1;32m   3843\u001B[0m                     \u001B[0mvalue\u001B[0m \u001B[0;34m=\u001B[0m \u001B[0mnp\u001B[0m\u001B[0;34m.\u001B[0m\u001B[0mtile\u001B[0m\u001B[0;34m(\u001B[0m\u001B[0mvalue\u001B[0m\u001B[0;34m,\u001B[0m \u001B[0;34m(\u001B[0m\u001B[0mlen\u001B[0m\u001B[0;34m(\u001B[0m\u001B[0mexisting_piece\u001B[0m\u001B[0;34m.\u001B[0m\u001B[0mcolumns\u001B[0m\u001B[0;34m)\u001B[0m\u001B[0;34m,\u001B[0m \u001B[0;36m1\u001B[0m\u001B[0;34m)\u001B[0m\u001B[0;34m)\u001B[0m\u001B[0;34m.\u001B[0m\u001B[0mT\u001B[0m\u001B[0;34m\u001B[0m\u001B[0;34m\u001B[0m\u001B[0m\n\u001B[1;32m   3844\u001B[0m \u001B[0;34m\u001B[0m\u001B[0m\n\u001B[0;32m-> 3845\u001B[0;31m         \u001B[0mself\u001B[0m\u001B[0;34m.\u001B[0m\u001B[0m_set_item_mgr\u001B[0m\u001B[0;34m(\u001B[0m\u001B[0mkey\u001B[0m\u001B[0;34m,\u001B[0m \u001B[0mvalue\u001B[0m\u001B[0;34m)\u001B[0m\u001B[0;34m\u001B[0m\u001B[0;34m\u001B[0m\u001B[0m\n\u001B[0m\u001B[1;32m   3846\u001B[0m \u001B[0;34m\u001B[0m\u001B[0m\n\u001B[1;32m   3847\u001B[0m     def _set_value(\n",
      "\u001B[0;32m/opt/anaconda3/lib/python3.8/site-packages/pandas/core/frame.py\u001B[0m in \u001B[0;36m_set_item_mgr\u001B[0;34m(self, key, value)\u001B[0m\n\u001B[1;32m   3802\u001B[0m             \u001B[0mself\u001B[0m\u001B[0;34m.\u001B[0m\u001B[0m_mgr\u001B[0m\u001B[0;34m.\u001B[0m\u001B[0minsert\u001B[0m\u001B[0;34m(\u001B[0m\u001B[0mlen\u001B[0m\u001B[0;34m(\u001B[0m\u001B[0mself\u001B[0m\u001B[0;34m.\u001B[0m\u001B[0m_info_axis\u001B[0m\u001B[0;34m)\u001B[0m\u001B[0;34m,\u001B[0m \u001B[0mkey\u001B[0m\u001B[0;34m,\u001B[0m \u001B[0mvalue\u001B[0m\u001B[0;34m)\u001B[0m\u001B[0;34m\u001B[0m\u001B[0;34m\u001B[0m\u001B[0m\n\u001B[1;32m   3803\u001B[0m         \u001B[0;32melse\u001B[0m\u001B[0;34m:\u001B[0m\u001B[0;34m\u001B[0m\u001B[0;34m\u001B[0m\u001B[0m\n\u001B[0;32m-> 3804\u001B[0;31m             \u001B[0mself\u001B[0m\u001B[0;34m.\u001B[0m\u001B[0m_iset_item_mgr\u001B[0m\u001B[0;34m(\u001B[0m\u001B[0mloc\u001B[0m\u001B[0;34m,\u001B[0m \u001B[0mvalue\u001B[0m\u001B[0;34m)\u001B[0m\u001B[0;34m\u001B[0m\u001B[0;34m\u001B[0m\u001B[0m\n\u001B[0m\u001B[1;32m   3805\u001B[0m \u001B[0;34m\u001B[0m\u001B[0m\n\u001B[1;32m   3806\u001B[0m         \u001B[0;31m# check if we are modifying a copy\u001B[0m\u001B[0;34m\u001B[0m\u001B[0;34m\u001B[0m\u001B[0;34m\u001B[0m\u001B[0m\n",
      "\u001B[0;32m/opt/anaconda3/lib/python3.8/site-packages/pandas/core/frame.py\u001B[0m in \u001B[0;36m_iset_item_mgr\u001B[0;34m(self, loc, value, inplace)\u001B[0m\n\u001B[1;32m   3792\u001B[0m     ) -> None:\n\u001B[1;32m   3793\u001B[0m         \u001B[0;31m# when called from _set_item_mgr loc can be anything returned from get_loc\u001B[0m\u001B[0;34m\u001B[0m\u001B[0;34m\u001B[0m\u001B[0;34m\u001B[0m\u001B[0m\n\u001B[0;32m-> 3794\u001B[0;31m         \u001B[0mself\u001B[0m\u001B[0;34m.\u001B[0m\u001B[0m_mgr\u001B[0m\u001B[0;34m.\u001B[0m\u001B[0miset\u001B[0m\u001B[0;34m(\u001B[0m\u001B[0mloc\u001B[0m\u001B[0;34m,\u001B[0m \u001B[0mvalue\u001B[0m\u001B[0;34m,\u001B[0m \u001B[0minplace\u001B[0m\u001B[0;34m=\u001B[0m\u001B[0minplace\u001B[0m\u001B[0;34m)\u001B[0m\u001B[0;34m\u001B[0m\u001B[0;34m\u001B[0m\u001B[0m\n\u001B[0m\u001B[1;32m   3795\u001B[0m         \u001B[0mself\u001B[0m\u001B[0;34m.\u001B[0m\u001B[0m_clear_item_cache\u001B[0m\u001B[0;34m(\u001B[0m\u001B[0;34m)\u001B[0m\u001B[0;34m\u001B[0m\u001B[0;34m\u001B[0m\u001B[0m\n\u001B[1;32m   3796\u001B[0m \u001B[0;34m\u001B[0m\u001B[0m\n",
      "\u001B[0;32m/opt/anaconda3/lib/python3.8/site-packages/pandas/core/internals/managers.py\u001B[0m in \u001B[0;36miset\u001B[0;34m(self, loc, value, inplace)\u001B[0m\n\u001B[1;32m   1149\u001B[0m                     \u001B[0mremoved_blknos\u001B[0m\u001B[0;34m.\u001B[0m\u001B[0mappend\u001B[0m\u001B[0;34m(\u001B[0m\u001B[0mblkno_l\u001B[0m\u001B[0;34m)\u001B[0m\u001B[0;34m\u001B[0m\u001B[0;34m\u001B[0m\u001B[0m\n\u001B[1;32m   1150\u001B[0m                 \u001B[0;32melse\u001B[0m\u001B[0;34m:\u001B[0m\u001B[0;34m\u001B[0m\u001B[0;34m\u001B[0m\u001B[0m\n\u001B[0;32m-> 1151\u001B[0;31m                     \u001B[0mblk\u001B[0m\u001B[0;34m.\u001B[0m\u001B[0mdelete\u001B[0m\u001B[0;34m(\u001B[0m\u001B[0mblk_locs\u001B[0m\u001B[0;34m)\u001B[0m\u001B[0;34m\u001B[0m\u001B[0;34m\u001B[0m\u001B[0m\n\u001B[0m\u001B[1;32m   1152\u001B[0m                     \u001B[0mself\u001B[0m\u001B[0;34m.\u001B[0m\u001B[0m_blklocs\u001B[0m\u001B[0;34m[\u001B[0m\u001B[0mblk\u001B[0m\u001B[0;34m.\u001B[0m\u001B[0mmgr_locs\u001B[0m\u001B[0;34m.\u001B[0m\u001B[0mindexer\u001B[0m\u001B[0;34m]\u001B[0m \u001B[0;34m=\u001B[0m \u001B[0mnp\u001B[0m\u001B[0;34m.\u001B[0m\u001B[0marange\u001B[0m\u001B[0;34m(\u001B[0m\u001B[0mlen\u001B[0m\u001B[0;34m(\u001B[0m\u001B[0mblk\u001B[0m\u001B[0;34m)\u001B[0m\u001B[0;34m)\u001B[0m\u001B[0;34m\u001B[0m\u001B[0;34m\u001B[0m\u001B[0m\n\u001B[1;32m   1153\u001B[0m \u001B[0;34m\u001B[0m\u001B[0m\n",
      "\u001B[0;32m/opt/anaconda3/lib/python3.8/site-packages/pandas/core/internals/blocks.py\u001B[0m in \u001B[0;36mdelete\u001B[0;34m(self, loc)\u001B[0m\n\u001B[1;32m    386\u001B[0m         \u001B[0;31m# _SupportsArray[dtype[Any]]]]], Sequence[Sequence[Sequence[Sequence[\u001B[0m\u001B[0;34m\u001B[0m\u001B[0;34m\u001B[0m\u001B[0;34m\u001B[0m\u001B[0m\n\u001B[1;32m    387\u001B[0m         \u001B[0;31m# _SupportsArray[dtype[Any]]]]]]]\"  [arg-type]\u001B[0m\u001B[0;34m\u001B[0m\u001B[0;34m\u001B[0m\u001B[0;34m\u001B[0m\u001B[0m\n\u001B[0;32m--> 388\u001B[0;31m         \u001B[0mself\u001B[0m\u001B[0;34m.\u001B[0m\u001B[0mvalues\u001B[0m \u001B[0;34m=\u001B[0m \u001B[0mnp\u001B[0m\u001B[0;34m.\u001B[0m\u001B[0mdelete\u001B[0m\u001B[0;34m(\u001B[0m\u001B[0mself\u001B[0m\u001B[0;34m.\u001B[0m\u001B[0mvalues\u001B[0m\u001B[0;34m,\u001B[0m \u001B[0mloc\u001B[0m\u001B[0;34m,\u001B[0m \u001B[0;36m0\u001B[0m\u001B[0;34m)\u001B[0m  \u001B[0;31m# type: ignore[arg-type]\u001B[0m\u001B[0;34m\u001B[0m\u001B[0;34m\u001B[0m\u001B[0m\n\u001B[0m\u001B[1;32m    389\u001B[0m         \u001B[0mself\u001B[0m\u001B[0;34m.\u001B[0m\u001B[0mmgr_locs\u001B[0m \u001B[0;34m=\u001B[0m \u001B[0mself\u001B[0m\u001B[0;34m.\u001B[0m\u001B[0m_mgr_locs\u001B[0m\u001B[0;34m.\u001B[0m\u001B[0mdelete\u001B[0m\u001B[0;34m(\u001B[0m\u001B[0mloc\u001B[0m\u001B[0;34m)\u001B[0m\u001B[0;34m\u001B[0m\u001B[0;34m\u001B[0m\u001B[0m\n\u001B[1;32m    390\u001B[0m         \u001B[0;32mtry\u001B[0m\u001B[0;34m:\u001B[0m\u001B[0;34m\u001B[0m\u001B[0;34m\u001B[0m\u001B[0m\n",
      "\u001B[0;32m<__array_function__ internals>\u001B[0m in \u001B[0;36mdelete\u001B[0;34m(*args, **kwargs)\u001B[0m\n",
      "\u001B[0;32m/opt/anaconda3/lib/python3.8/site-packages/numpy/lib/function_base.py\u001B[0m in \u001B[0;36mdelete\u001B[0;34m(arr, obj, axis)\u001B[0m\n\u001B[1;32m   4553\u001B[0m \u001B[0;34m\u001B[0m\u001B[0m\n\u001B[1;32m   4554\u001B[0m         \u001B[0mslobj\u001B[0m\u001B[0;34m[\u001B[0m\u001B[0maxis\u001B[0m\u001B[0;34m]\u001B[0m \u001B[0;34m=\u001B[0m \u001B[0mkeep\u001B[0m\u001B[0;34m\u001B[0m\u001B[0;34m\u001B[0m\u001B[0m\n\u001B[0;32m-> 4555\u001B[0;31m         \u001B[0mnew\u001B[0m \u001B[0;34m=\u001B[0m \u001B[0marr\u001B[0m\u001B[0;34m[\u001B[0m\u001B[0mtuple\u001B[0m\u001B[0;34m(\u001B[0m\u001B[0mslobj\u001B[0m\u001B[0;34m)\u001B[0m\u001B[0;34m]\u001B[0m\u001B[0;34m\u001B[0m\u001B[0;34m\u001B[0m\u001B[0m\n\u001B[0m\u001B[1;32m   4556\u001B[0m \u001B[0;34m\u001B[0m\u001B[0m\n\u001B[1;32m   4557\u001B[0m     \u001B[0;32mif\u001B[0m \u001B[0mwrap\u001B[0m\u001B[0;34m:\u001B[0m\u001B[0;34m\u001B[0m\u001B[0;34m\u001B[0m\u001B[0m\n",
      "\u001B[0;31mKeyboardInterrupt\u001B[0m: "
     ]
    }
   ],
   "source": [
    "from tqdm.notebook import trange\n",
    "\n",
    "for i in trange(1, 301):\n",
    "    a2c.train(strategy, md_train,\n",
    "              latency=pd.Timedelta(10, 'ms').delta,\n",
    "              md_latency=pd.Timedelta(10, 'ms').delta,\n",
    "              count=50,\n",
    "              train_slice=195_000)\n",
    "    if i % 500 == 0:\n",
    "        reward, pnl, trajectory = evaluate(strategy,\n",
    "                                           md_test,\n",
    "                                           latency=pd.Timedelta(10, 'ms').delta,\n",
    "                                           md_latency=pd.Timedelta(10, 'ms').delta)\n",
    "        wandb.log({\n",
    "            'val reward': reward,\n",
    "            'val pnl': pnl,\n",
    "        })\n",
    "\n",
    "        torch.save(model.state_dict(), \"models/ETH_50step_15_50act_rew_pen.pth\")\n",
    "        \n",
    "#         a2c.entropy_coef /= 10"
   ]
  },
  {
   "cell_type": "code",
   "execution_count": 44,
   "id": "0771bc43",
   "metadata": {
    "pycharm": {
     "name": "#%%\n"
    }
   },
   "outputs": [],
   "source": [
    "model = A2CNetwork(n_actions=10).to(DEVICE)\n",
    "model.load_state_dict(torch.load(\"models/ETH_50step_15_50act_rew_pen.pth\"))\n",
    "model.eval()\n",
    "\n",
    "policy = Policy(model)\n",
    "\n",
    "delay = pd.Timedelta(0.1, 's').delta\n",
    "hold_time = pd.Timedelta(10, 's').delta\n",
    "strategy = RLStrategy(policy, ess_df, 1.0,\n",
    "                      means, stds, delay, hold_time, [ComputeValueTargets(policy)],\n",
    "                      trade_size=0.01, post_only=True, taker_fee=0.0004, maker_fee=-0.00004)"
   ]
  },
  {
   "cell_type": "code",
   "execution_count": 45,
   "id": "6116fc9e",
   "metadata": {
    "pycharm": {
     "name": "#%%\n"
    }
   },
   "outputs": [
    {
     "name": "stdout",
     "output_type": "stream",
     "text": [
      "CPU times: user 2min 8s, sys: 596 ms, total: 2min 8s\n",
      "Wall time: 2min 9s\n"
     ]
    }
   ],
   "source": [
    "%%time\n",
    "strategy.reset()\n",
    "sim = Sim(md_all[230_000:260_000],\n",
    "          execution_latency=pd.Timedelta(10, 'ms').delta,\n",
    "          md_latency=pd.Timedelta(10, 'ms').delta)\n",
    "with torch.no_grad():\n",
    "    trades_list, md_list, updates_list, actions_history, trajectory = strategy.run(sim, mode='test')"
   ]
  },
  {
   "cell_type": "code",
   "execution_count": 64,
   "id": "fffe1db3",
   "metadata": {
    "pycharm": {
     "name": "#%%\n"
    }
   },
   "outputs": [],
   "source": [
    "# with open('../data/rl_model/trades_list_BTC.pickle', 'wb') as f:\n",
    "#     pickle.dump(trades_list, f)\n",
    "    \n",
    "# with open('../data/rl_model/md_list_BTC.pickle', 'wb') as f:\n",
    "#     pickle.dump(md_list, f)\n",
    "    \n",
    "# with open('../data/rl_model/updates_list_BTC.pickle', 'wb') as f:\n",
    "#     pickle.dump(updates_list, f)\n",
    "    \n",
    "# with open('../data/rl_model/actions_history_BTC.pickle', 'wb') as f:\n",
    "#     pickle.dump(actions_history, f)\n",
    "    \n",
    "# # with open('../data/rl_model/trades_list.pickle', 'rb') as f:\n",
    "# #     trades_list = pickle.load(f)\n",
    "    \n",
    "# # with open('../data/rl_model/md_list.pickle', 'rb') as f:\n",
    "# #     md_list = pickle.load(f)\n",
    "    \n",
    "# # with open('../data/rl_model/updates_list.pickle', 'rb') as f:\n",
    "# #     updates_list = pickle.load(f)\n",
    "    \n",
    "# # with open('../data/rl_model/actions_history.pickle', 'rb') as f:\n",
    "# #     actions_history = pickle.load(f)"
   ]
  },
  {
   "cell_type": "code",
   "execution_count": 46,
   "id": "9ab0e70d",
   "metadata": {
    "pycharm": {
     "name": "#%%\n"
    }
   },
   "outputs": [
    {
     "name": "stdout",
     "output_type": "stream",
     "text": [
      "CPU times: user 2.36 s, sys: 4.16 ms, total: 2.36 s\n",
      "Wall time: 2.36 s\n"
     ]
    }
   ],
   "source": [
    "%%time\n",
    "\n",
    "df = get_pnl(updates_list, post_only=True)\n",
    "df['receive_ts'] = pd.to_datetime(df['receive_ts'])"
   ]
  },
  {
   "cell_type": "code",
   "execution_count": 47,
   "id": "fc9c347d",
   "metadata": {
    "pycharm": {
     "name": "#%%\n"
    }
   },
   "outputs": [
    {
     "name": "stdout",
     "output_type": "stream",
     "text": [
      "CPU times: user 2.41 s, sys: 3.16 ms, total: 2.41 s\n",
      "Wall time: 2.42 s\n"
     ]
    }
   ],
   "source": [
    "%%time\n",
    "\n",
    "df_fee = get_pnl(updates_list, post_only=True, maker_fee=-0.00004, taker_fee=0.0004)\n",
    "df_fee['receive_ts'] = pd.to_datetime(df_fee['receive_ts'])"
   ]
  },
  {
   "cell_type": "code",
   "execution_count": 48,
   "id": "8cfd7910",
   "metadata": {
    "pycharm": {
     "name": "#%%\n"
    }
   },
   "outputs": [
    {
     "data": {
      "text/plain": [
       "(9.729999999999837, 2.439999999999992, 1.2300000000000009, 0.02)"
      ]
     },
     "execution_count": 48,
     "metadata": {},
     "output_type": "execute_result"
    }
   ],
   "source": [
    "ask_made, bid_made, ask_take, bid_take = get_volumes(trades_list)\n",
    "ask_made, bid_made, ask_take, bid_take"
   ]
  },
  {
   "cell_type": "code",
   "execution_count": 49,
   "id": "776f184d",
   "metadata": {
    "pycharm": {
     "name": "#%%\n"
    }
   },
   "outputs": [
    {
     "data": {
      "application/vnd.plotly.v1+json": {
       "config": {
        "plotlyServerURL": "https://plot.ly"
       },
       "data": [
        {
         "name": "Price",
         "type": "scatter",
         "x": [
          "2023-01-02T17:58:30.259502",
          "2023-01-02T17:58:42.366152",
          "2023-01-02T17:58:53.372051",
          "2023-01-02T17:59:00.376395",
          "2023-01-02T17:59:12.600699",
          "2023-01-02T17:59:25.891350",
          "2023-01-02T17:59:41.199662",
          "2023-01-02T17:59:50.805713",
          "2023-01-02T17:59:59.992699",
          "2023-01-02T18:00:08.515977",
          "2023-01-02T18:00:22.123577",
          "2023-01-02T18:00:33.829512",
          "2023-01-02T18:00:47.936940",
          "2023-01-02T18:00:59.981642",
          "2023-01-02T18:01:08.648351",
          "2023-01-02T18:01:23.657161",
          "2023-01-02T18:01:36.064442",
          "2023-01-02T18:01:49.172055",
          "2023-01-02T18:01:59.962642",
          "2023-01-02T18:02:10.383833",
          "2023-01-02T18:02:25.992972",
          "2023-01-02T18:02:42.102595",
          "2023-01-02T18:02:52.607925",
          "2023-01-02T18:03:00.021642",
          "2023-01-02T18:03:10.818536",
          "2023-01-02T18:03:21.024305",
          "2023-01-02T18:03:31.929713",
          "2023-01-02T18:03:45.336972",
          "2023-01-02T18:03:57.044442",
          "2023-01-02T18:04:02.743642",
          "2023-01-02T18:04:15.355418",
          "2023-01-02T18:04:27.762065",
          "2023-01-02T18:04:42.270522",
          "2023-01-02T18:04:57.579124",
          "2023-01-02T18:05:04.282658",
          "2023-01-02T18:05:14.788909",
          "2023-01-02T18:05:32.498821",
          "2023-01-02T18:05:46.706706",
          "2023-01-02T18:05:59.958642",
          "2023-01-02T18:06:07.819374",
          "2023-01-02T18:06:15.423516",
          "2023-01-02T18:06:26.530143",
          "2023-01-02T18:06:38.737401",
          "2023-01-02T18:06:49.242365",
          "2023-01-02T18:06:59.347811",
          "2023-01-02T18:07:04.351574",
          "2023-01-02T18:07:14.757272",
          "2023-01-02T18:07:24.863395",
          "2023-01-02T18:07:36.170053",
          "2023-01-02T18:07:47.176035",
          "2023-01-02T18:07:59.283457",
          "2023-01-02T18:08:05.485918",
          "2023-01-02T18:08:14.191546",
          "2023-01-02T18:08:24.896940",
          "2023-01-02T18:08:32.901252",
          "2023-01-02T18:08:42.407446",
          "2023-01-02T18:08:52.212265",
          "2023-01-02T18:09:00.004642",
          "2023-01-02T18:09:08.221379",
          "2023-01-02T18:09:21.229022",
          "2023-01-02T18:09:32.435258",
          "2023-01-02T18:09:43.040749",
          "2023-01-02T18:09:56.248178",
          "2023-01-02T18:10:02.451993",
          "2023-01-02T18:10:13.559255",
          "2023-01-02T18:10:27.566362",
          "2023-01-02T18:10:40.372691",
          "2023-01-02T18:10:51.179116",
          "2023-01-02T18:10:59.974642",
          "2023-01-02T18:11:08.388943",
          "2023-01-02T18:11:20.495960",
          "2023-01-02T18:11:33.503069",
          "2023-01-02T18:11:44.608703",
          "2023-01-02T18:11:56.016556",
          "2023-01-02T18:12:02.019539",
          "2023-01-02T18:12:12.424663",
          "2023-01-02T18:12:24.459999",
          "2023-01-02T18:12:36.238763",
          "2023-01-02T18:12:47.544634",
          "2023-01-02T18:12:59.945642",
          "2023-01-02T18:13:06.656457",
          "2023-01-02T18:13:19.763546",
          "2023-01-02T18:13:29.869332",
          "2023-01-02T18:13:41.075575",
          "2023-01-02T18:13:53.382432",
          "2023-01-02T18:14:00.486470",
          "2023-01-02T18:14:11.893402",
          "2023-01-02T18:14:22.599586",
          "2023-01-02T18:14:34.405986",
          "2023-01-02T18:14:46.212940",
          "2023-01-02T18:14:59.320554",
          "2023-01-02T18:15:04.522644",
          "2023-01-02T18:15:14.529179",
          "2023-01-02T18:15:25.734776",
          "2023-01-02T18:15:38.342351",
          "2023-01-02T18:15:49.549450",
          "2023-01-02T18:15:59.949642",
          "2023-01-02T18:16:05.458018",
          "2023-01-02T18:16:15.864128",
          "2023-01-02T18:16:28.270449",
          "2023-01-02T18:16:40.276871",
          "2023-01-02T18:16:54.985822",
          "2023-01-02T18:17:05.529642",
          "2023-01-02T18:17:21.900805",
          "2023-01-02T18:17:39.912037",
          "2023-01-02T18:17:53.019586",
          "2023-01-02T18:18:00.032642",
          "2023-01-02T18:18:10.129449",
          "2023-01-02T18:18:20.835386",
          "2023-01-02T18:18:31.140862",
          "2023-01-02T18:18:41.346448",
          "2023-01-02T18:18:54.054372",
          "2023-01-02T18:19:01.157952",
          "2023-01-02T18:19:16.567539",
          "2023-01-02T18:19:31.175177",
          "2023-01-02T18:19:45.782942",
          "2023-01-02T18:19:58.690690",
          "2023-01-02T18:20:04.695310",
          "2023-01-02T18:20:15.601487",
          "2023-01-02T18:20:28.208263",
          "2023-01-02T18:20:41.214705",
          "2023-01-02T18:20:51.421365",
          "2023-01-02T18:20:59.424642",
          "2023-01-02T18:21:04.828008",
          "2023-01-02T18:21:16.034280",
          "2023-01-02T18:21:28.842540",
          "2023-01-02T18:21:42.149193",
          "2023-01-02T18:21:53.054743",
          "2023-01-02T18:22:00.025642",
          "2023-01-02T18:22:11.065055",
          "2023-01-02T18:22:19.470291",
          "2023-01-02T18:22:26.874154",
          "2023-01-02T18:22:36.980229",
          "2023-01-02T18:22:49.987038",
          "2023-01-02T18:23:00.003642",
          "2023-01-02T18:23:07.997541",
          "2023-01-02T18:23:18.603488",
          "2023-01-02T18:23:30.710593",
          "2023-01-02T18:23:42.116089",
          "2023-01-02T18:23:53.723273",
          "2023-01-02T18:24:00.527312",
          "2023-01-02T18:24:11.233352",
          "2023-01-02T18:24:22.038980",
          "2023-01-02T18:24:32.744896",
          "2023-01-02T18:24:39.549091",
          "2023-01-02T18:24:49.454793",
          "2023-01-02T18:24:59.760517",
          "2023-01-02T18:25:04.863236",
          "2023-01-02T18:25:14.716642",
          "2023-01-02T18:25:24.673817",
          "2023-01-02T18:25:36.481129",
          "2023-01-02T18:25:47.186692",
          "2023-01-02T18:25:57.191709",
          "2023-01-02T18:26:03.395692",
          "2023-01-02T18:26:13.302200",
          "2023-01-02T18:26:23.306835",
          "2023-01-02T18:26:34.113468",
          "2023-01-02T18:26:47.520876",
          "2023-01-02T18:26:55.226340",
          "2023-01-02T18:27:00.775642",
          "2023-01-02T18:27:10.233680",
          "2023-01-02T18:27:20.139602",
          "2023-01-02T18:27:31.146097",
          "2023-01-02T18:27:43.852690",
          "2023-01-02T18:27:55.759743",
          "2023-01-02T18:28:01.364173",
          "2023-01-02T18:28:12.326642",
          "2023-01-02T18:28:20.474619",
          "2023-01-02T18:28:31.180645",
          "2023-01-02T18:28:42.986874",
          "2023-01-02T18:28:54.294410",
          "2023-01-02T18:29:00.797885",
          "2023-01-02T18:29:11.103076",
          "2023-01-02T18:29:21.709047",
          "2023-01-02T18:29:35.370642",
          "2023-01-02T18:29:49.524816",
          "2023-01-02T18:29:59.998642",
          "2023-01-02T18:30:09.837313",
          "2023-01-02T18:30:20.543560",
          "2023-01-02T18:30:29.827642",
          "2023-01-02T18:30:40.354260",
          "2023-01-02T18:30:52.461156",
          "2023-01-02T18:31:00.019642",
          "2023-01-02T18:31:07.268660",
          "2023-01-02T18:31:19.676153",
          "2023-01-02T18:31:31.082928",
          "2023-01-02T18:31:41.989136",
          "2023-01-02T18:31:53.194600",
          "2023-01-02T18:32:00.027642",
          "2023-01-02T18:32:10.604797",
          "2023-01-02T18:32:22.187642",
          "2023-01-02T18:32:32.017022",
          "2023-01-02T18:32:45.825033",
          "2023-01-02T18:32:59.983642",
          "2023-01-02T18:33:10.738982",
          "2023-01-02T18:33:18.943820",
          "2023-01-02T18:33:29.250378",
          "2023-01-02T18:33:38.554782",
          "2023-01-02T18:33:48.061348",
          "2023-01-02T18:33:59.969642",
          "2023-01-02T18:34:05.770966",
          "2023-01-02T18:34:16.277029",
          "2023-01-02T18:34:27.582827",
          "2023-01-02T18:34:41.191242",
          "2023-01-02T18:34:51.697969",
          "2023-01-02T18:35:00.703348",
          "2023-01-02T18:35:11.309518",
          "2023-01-02T18:35:21.314643",
          "2023-01-02T18:35:31.720911",
          "2023-01-02T18:35:44.955642",
          "2023-01-02T18:35:59.536719",
          "2023-01-02T18:36:06.914642",
          "2023-01-02T18:36:19.648152",
          "2023-01-02T18:36:29.052653",
          "2023-01-02T18:36:41.160302",
          "2023-01-02T18:36:53.366829",
          "2023-01-02T18:37:00.001642",
          "2023-01-02T18:37:12.176803",
          "2023-01-02T18:37:24.084561",
          "2023-01-02T18:37:36.592576",
          "2023-01-02T18:37:51.699669",
          "2023-01-02T18:38:00.505272",
          "2023-01-02T18:38:11.811683",
          "2023-01-02T18:38:21.316671",
          "2023-01-02T18:38:32.423836",
          "2023-01-02T18:38:45.631403",
          "2023-01-02T18:38:58.038405",
          "2023-01-02T18:39:03.641999",
          "2023-01-02T18:39:15.349245",
          "2023-01-02T18:39:25.378642",
          "2023-01-02T18:39:35.259881",
          "2023-01-02T18:39:45.466172",
          "2023-01-02T18:39:57.673515",
          "2023-01-02T18:40:03.276572",
          "2023-01-02T18:40:13.482256",
          "2023-01-02T18:40:24.588044",
          "2023-01-02T18:40:36.095187",
          "2023-01-02T18:40:47.500934",
          "2023-01-02T18:40:55.706109",
          "2023-01-02T18:41:01.108712",
          "2023-01-02T18:41:07.713245",
          "2023-01-02T18:41:18.719321",
          "2023-01-02T18:41:30.725597",
          "2023-01-02T18:41:41.932556",
          "2023-01-02T18:41:52.537920",
          "2023-01-02T18:42:00.016642",
          "2023-01-02T18:42:10.648880",
          "2023-01-02T18:42:25.357633",
          "2023-01-02T18:42:40.565867",
          "2023-01-02T18:42:51.572744",
          "2023-01-02T18:43:00.000642",
          "2023-01-02T18:43:08.369642",
          "2023-01-02T18:43:19.989592",
          "2023-01-02T18:43:35.298242",
          "2023-01-02T18:43:46.403870",
          "2023-01-02T18:43:58.285642",
          "2023-01-02T18:44:03.614576",
          "2023-01-02T18:44:14.119798",
          "2023-01-02T18:44:25.427436",
          "2023-01-02T18:44:40.635983",
          "2023-01-02T18:44:51.142267",
          "2023-01-02T18:44:59.974642",
          "2023-01-02T18:45:06.951117",
          "2023-01-02T18:45:17.858581",
          "2023-01-02T18:45:30.764635",
          "2023-01-02T18:45:47.374372",
          "2023-01-02T18:45:56.479219",
          "2023-01-02T18:46:01.482053",
          "2023-01-02T18:46:12.435642",
          "2023-01-02T18:46:23.060642",
          "2023-01-02T18:46:32.400485",
          "2023-01-02T18:46:42.504859",
          "2023-01-02T18:46:47.157000",
          "2023-01-02T18:46:56.512624",
          "2023-01-02T18:47:01.415374",
          "2023-01-02T18:47:13.522465",
          "2023-01-02T18:47:25.830023",
          "2023-01-02T18:47:36.436519",
          "2023-01-02T18:47:51.243939",
          "2023-01-02T18:48:00.011642",
          "2023-01-02T18:48:08.554170",
          "2023-01-02T18:48:19.760577",
          "2023-01-02T18:48:30.666947",
          "2023-01-02T18:48:43.774461",
          "2023-01-02T18:48:55.180682",
          "2023-01-02T18:49:03.084791",
          "2023-01-02T18:49:11.789825",
          "2023-01-02T18:49:22.079642",
          "2023-01-02T18:49:32.000834",
          "2023-01-02T18:49:41.907013",
          "2023-01-02T18:49:50.510993",
          "2023-01-02T18:49:59.953642",
          "2023-01-02T18:50:05.220224",
          "2023-01-02T18:50:16.825886",
          "2023-01-02T18:50:29.133450",
          "2023-01-02T18:50:41.239860",
          "2023-01-02T18:50:53.346700",
          "2023-01-02T18:51:00.034642",
          "2023-01-02T18:51:06.847642",
          "2023-01-02T18:51:14.359465",
          "2023-01-02T18:51:26.366411",
          "2023-01-02T18:51:37.772095",
          "2023-01-02T18:51:50.178983"
         ],
         "xaxis": "x",
         "y": [
          1217.1350000000002,
          1217.1350000000002,
          1217.1350000000002,
          1217.1350000000002,
          1217.1350000000002,
          1217.1350000000002,
          1217.1350000000002,
          1217.085,
          1217.085,
          1217.085,
          1217.085,
          1217.085,
          1217.085,
          1217.085,
          1217.085,
          1217.085,
          1217.085,
          1217.085,
          1217.085,
          1217.085,
          1217.085,
          1217.085,
          1217.1350000000002,
          1217.1350000000002,
          1217.1350000000002,
          1217.1350000000002,
          1217.1350000000002,
          1217.1149999999998,
          1217.1149999999998,
          1217.0949999999998,
          1217.0949999999998,
          1217.005,
          1217.005,
          1217.005,
          1217.005,
          1217.005,
          1217.005,
          1217.005,
          1216.9850000000001,
          1216.9650000000001,
          1216.685,
          1216.685,
          1216.685,
          1216.685,
          1216.685,
          1216.685,
          1216.685,
          1216.685,
          1216.685,
          1216.685,
          1216.685,
          1216.685,
          1216.665,
          1216.665,
          1216.755,
          1216.875,
          1216.875,
          1216.875,
          1216.875,
          1216.875,
          1216.875,
          1216.875,
          1216.875,
          1216.875,
          1216.875,
          1216.8449999999998,
          1216.8449999999998,
          1216.8449999999998,
          1216.8449999999998,
          1216.8449999999998,
          1216.8449999999998,
          1216.8449999999998,
          1216.8449999999998,
          1216.8449999999998,
          1216.8449999999998,
          1216.8449999999998,
          1216.8449999999998,
          1216.8449999999998,
          1216.8449999999998,
          1216.8449999999998,
          1216.8449999999998,
          1216.8449999999998,
          1216.7849999999999,
          1216.7849999999999,
          1216.7849999999999,
          1216.7849999999999,
          1216.7849999999999,
          1216.7849999999999,
          1216.7849999999999,
          1216.7849999999999,
          1216.7849999999999,
          1216.745,
          1216.745,
          1216.745,
          1216.745,
          1216.745,
          1217.0749999999998,
          1217.0949999999998,
          1217.1350000000002,
          1217.1350000000002,
          1217.1350000000002,
          1217.1350000000002,
          1217.1350000000002,
          1217.1350000000002,
          1217.1350000000002,
          1217.1350000000002,
          1217.1350000000002,
          1217.1550000000002,
          1217.1550000000002,
          1217.1550000000002,
          1217.2649999999999,
          1217.355,
          1217.355,
          1217.355,
          1217.355,
          1217.355,
          1217.355,
          1217.355,
          1217.355,
          1217.355,
          1217.355,
          1217.605,
          1217.8449999999998,
          1217.8449999999998,
          1217.8449999999998,
          1217.855,
          1217.855,
          1217.855,
          1217.855,
          1217.855,
          1218.0749999999998,
          1218.145,
          1218.145,
          1218.145,
          1218.145,
          1218.105,
          1218.105,
          1218.105,
          1218.125,
          1218.125,
          1218.125,
          1218.125,
          1218.125,
          1218.125,
          1217.745,
          1217.7150000000001,
          1217.5949999999998,
          1217.505,
          1217.505,
          1217.505,
          1217.505,
          1217.505,
          1217.505,
          1217.505,
          1217.645,
          1217.645,
          1217.645,
          1217.645,
          1217.975,
          1217.975,
          1218.1149999999998,
          1218.1149999999998,
          1218.1149999999998,
          1218.1149999999998,
          1218.1149999999998,
          1218.1149999999998,
          1218.1149999999998,
          1217.975,
          1217.975,
          1217.975,
          1217.975,
          1217.975,
          1217.8850000000002,
          1217.8449999999998,
          1217.8449999999998,
          1217.8449999999998,
          1217.8449999999998,
          1217.8449999999998,
          1217.8449999999998,
          1217.85,
          1217.955,
          1218.0149999999999,
          1218.0149999999999,
          1218.005,
          1218.005,
          1217.835,
          1217.755,
          1217.755,
          1217.755,
          1217.795,
          1217.795,
          1217.795,
          1217.795,
          1217.795,
          1217.795,
          1217.9250000000002,
          1217.9250000000002,
          1217.9250000000002,
          1217.9250000000002,
          1217.9250000000002,
          1217.9250000000002,
          1217.9250000000002,
          1217.995,
          1217.995,
          1217.995,
          1217.995,
          1217.995,
          1217.995,
          1217.995,
          1217.995,
          1217.995,
          1217.9850000000001,
          1217.975,
          1217.975,
          1217.975,
          1217.975,
          1217.975,
          1217.975,
          1217.975,
          1217.975,
          1217.975,
          1217.975,
          1217.975,
          1217.975,
          1217.975,
          1217.9850000000001,
          1217.995,
          1217.995,
          1217.995,
          1218.0749999999998,
          1218.105,
          1218.1149999999998,
          1218.1149999999998,
          1218.1149999999998,
          1218.125,
          1218.125,
          1218.125,
          1218.125,
          1217.815,
          1217.815,
          1217.935,
          1217.935,
          1217.935,
          1217.935,
          1217.935,
          1217.935,
          1217.935,
          1217.935,
          1217.935,
          1217.935,
          1217.935,
          1217.935,
          1217.935,
          1217.935,
          1217.935,
          1217.935,
          1217.935,
          1217.935,
          1217.935,
          1217.935,
          1217.935,
          1217.935,
          1217.935,
          1217.935,
          1217.935,
          1217.935,
          1218.0349999999999,
          1218.0349999999999,
          1218.0349999999999,
          1218.0349999999999,
          1218.0349999999999,
          1218.0349999999999,
          1218.4850000000001,
          1218.565,
          1218.665,
          1218.665,
          1218.665,
          1218.5949999999998,
          1218.5949999999998,
          1218.5949999999998,
          1218.5949999999998,
          1218.5949999999998,
          1218.5949999999998,
          1218.5949999999998,
          1218.6350000000002,
          1218.6350000000002,
          1218.8249999999998,
          1218.8249999999998,
          1218.8249999999998,
          1218.935,
          1219.0549999999998,
          1219.0549999999998,
          1219.0149999999999,
          1219.0149999999999,
          1219.0149999999999,
          1219.0149999999999,
          1219.0149999999999,
          1219.0149999999999,
          1219.005,
          1218.875,
          1218.875,
          1218.875,
          1218.875
         ],
         "yaxis": "y"
        },
        {
         "name": "PnL without fees",
         "type": "scatter",
         "x": [
          "2023-01-02T17:58:30.259502",
          "2023-01-02T17:58:42.366152",
          "2023-01-02T17:58:53.372051",
          "2023-01-02T17:59:00.376395",
          "2023-01-02T17:59:12.600699",
          "2023-01-02T17:59:25.891350",
          "2023-01-02T17:59:41.199662",
          "2023-01-02T17:59:50.805713",
          "2023-01-02T17:59:59.992699",
          "2023-01-02T18:00:08.515977",
          "2023-01-02T18:00:22.123577",
          "2023-01-02T18:00:33.829512",
          "2023-01-02T18:00:47.936940",
          "2023-01-02T18:00:59.981642",
          "2023-01-02T18:01:08.648351",
          "2023-01-02T18:01:23.657161",
          "2023-01-02T18:01:36.064442",
          "2023-01-02T18:01:49.172055",
          "2023-01-02T18:01:59.962642",
          "2023-01-02T18:02:10.383833",
          "2023-01-02T18:02:25.992972",
          "2023-01-02T18:02:42.102595",
          "2023-01-02T18:02:52.607925",
          "2023-01-02T18:03:00.021642",
          "2023-01-02T18:03:10.818536",
          "2023-01-02T18:03:21.024305",
          "2023-01-02T18:03:31.929713",
          "2023-01-02T18:03:45.336972",
          "2023-01-02T18:03:57.044442",
          "2023-01-02T18:04:02.743642",
          "2023-01-02T18:04:15.355418",
          "2023-01-02T18:04:27.762065",
          "2023-01-02T18:04:42.270522",
          "2023-01-02T18:04:57.579124",
          "2023-01-02T18:05:04.282658",
          "2023-01-02T18:05:14.788909",
          "2023-01-02T18:05:32.498821",
          "2023-01-02T18:05:46.706706",
          "2023-01-02T18:05:59.958642",
          "2023-01-02T18:06:07.819374",
          "2023-01-02T18:06:15.423516",
          "2023-01-02T18:06:26.530143",
          "2023-01-02T18:06:38.737401",
          "2023-01-02T18:06:49.242365",
          "2023-01-02T18:06:59.347811",
          "2023-01-02T18:07:04.351574",
          "2023-01-02T18:07:14.757272",
          "2023-01-02T18:07:24.863395",
          "2023-01-02T18:07:36.170053",
          "2023-01-02T18:07:47.176035",
          "2023-01-02T18:07:59.283457",
          "2023-01-02T18:08:05.485918",
          "2023-01-02T18:08:14.191546",
          "2023-01-02T18:08:24.896940",
          "2023-01-02T18:08:32.901252",
          "2023-01-02T18:08:42.407446",
          "2023-01-02T18:08:52.212265",
          "2023-01-02T18:09:00.004642",
          "2023-01-02T18:09:08.221379",
          "2023-01-02T18:09:21.229022",
          "2023-01-02T18:09:32.435258",
          "2023-01-02T18:09:43.040749",
          "2023-01-02T18:09:56.248178",
          "2023-01-02T18:10:02.451993",
          "2023-01-02T18:10:13.559255",
          "2023-01-02T18:10:27.566362",
          "2023-01-02T18:10:40.372691",
          "2023-01-02T18:10:51.179116",
          "2023-01-02T18:10:59.974642",
          "2023-01-02T18:11:08.388943",
          "2023-01-02T18:11:20.495960",
          "2023-01-02T18:11:33.503069",
          "2023-01-02T18:11:44.608703",
          "2023-01-02T18:11:56.016556",
          "2023-01-02T18:12:02.019539",
          "2023-01-02T18:12:12.424663",
          "2023-01-02T18:12:24.459999",
          "2023-01-02T18:12:36.238763",
          "2023-01-02T18:12:47.544634",
          "2023-01-02T18:12:59.945642",
          "2023-01-02T18:13:06.656457",
          "2023-01-02T18:13:19.763546",
          "2023-01-02T18:13:29.869332",
          "2023-01-02T18:13:41.075575",
          "2023-01-02T18:13:53.382432",
          "2023-01-02T18:14:00.486470",
          "2023-01-02T18:14:11.893402",
          "2023-01-02T18:14:22.599586",
          "2023-01-02T18:14:34.405986",
          "2023-01-02T18:14:46.212940",
          "2023-01-02T18:14:59.320554",
          "2023-01-02T18:15:04.522644",
          "2023-01-02T18:15:14.529179",
          "2023-01-02T18:15:25.734776",
          "2023-01-02T18:15:38.342351",
          "2023-01-02T18:15:49.549450",
          "2023-01-02T18:15:59.949642",
          "2023-01-02T18:16:05.458018",
          "2023-01-02T18:16:15.864128",
          "2023-01-02T18:16:28.270449",
          "2023-01-02T18:16:40.276871",
          "2023-01-02T18:16:54.985822",
          "2023-01-02T18:17:05.529642",
          "2023-01-02T18:17:21.900805",
          "2023-01-02T18:17:39.912037",
          "2023-01-02T18:17:53.019586",
          "2023-01-02T18:18:00.032642",
          "2023-01-02T18:18:10.129449",
          "2023-01-02T18:18:20.835386",
          "2023-01-02T18:18:31.140862",
          "2023-01-02T18:18:41.346448",
          "2023-01-02T18:18:54.054372",
          "2023-01-02T18:19:01.157952",
          "2023-01-02T18:19:16.567539",
          "2023-01-02T18:19:31.175177",
          "2023-01-02T18:19:45.782942",
          "2023-01-02T18:19:58.690690",
          "2023-01-02T18:20:04.695310",
          "2023-01-02T18:20:15.601487",
          "2023-01-02T18:20:28.208263",
          "2023-01-02T18:20:41.214705",
          "2023-01-02T18:20:51.421365",
          "2023-01-02T18:20:59.424642",
          "2023-01-02T18:21:04.828008",
          "2023-01-02T18:21:16.034280",
          "2023-01-02T18:21:28.842540",
          "2023-01-02T18:21:42.149193",
          "2023-01-02T18:21:53.054743",
          "2023-01-02T18:22:00.025642",
          "2023-01-02T18:22:11.065055",
          "2023-01-02T18:22:19.470291",
          "2023-01-02T18:22:26.874154",
          "2023-01-02T18:22:36.980229",
          "2023-01-02T18:22:49.987038",
          "2023-01-02T18:23:00.003642",
          "2023-01-02T18:23:07.997541",
          "2023-01-02T18:23:18.603488",
          "2023-01-02T18:23:30.710593",
          "2023-01-02T18:23:42.116089",
          "2023-01-02T18:23:53.723273",
          "2023-01-02T18:24:00.527312",
          "2023-01-02T18:24:11.233352",
          "2023-01-02T18:24:22.038980",
          "2023-01-02T18:24:32.744896",
          "2023-01-02T18:24:39.549091",
          "2023-01-02T18:24:49.454793",
          "2023-01-02T18:24:59.760517",
          "2023-01-02T18:25:04.863236",
          "2023-01-02T18:25:14.716642",
          "2023-01-02T18:25:24.673817",
          "2023-01-02T18:25:36.481129",
          "2023-01-02T18:25:47.186692",
          "2023-01-02T18:25:57.191709",
          "2023-01-02T18:26:03.395692",
          "2023-01-02T18:26:13.302200",
          "2023-01-02T18:26:23.306835",
          "2023-01-02T18:26:34.113468",
          "2023-01-02T18:26:47.520876",
          "2023-01-02T18:26:55.226340",
          "2023-01-02T18:27:00.775642",
          "2023-01-02T18:27:10.233680",
          "2023-01-02T18:27:20.139602",
          "2023-01-02T18:27:31.146097",
          "2023-01-02T18:27:43.852690",
          "2023-01-02T18:27:55.759743",
          "2023-01-02T18:28:01.364173",
          "2023-01-02T18:28:12.326642",
          "2023-01-02T18:28:20.474619",
          "2023-01-02T18:28:31.180645",
          "2023-01-02T18:28:42.986874",
          "2023-01-02T18:28:54.294410",
          "2023-01-02T18:29:00.797885",
          "2023-01-02T18:29:11.103076",
          "2023-01-02T18:29:21.709047",
          "2023-01-02T18:29:35.370642",
          "2023-01-02T18:29:49.524816",
          "2023-01-02T18:29:59.998642",
          "2023-01-02T18:30:09.837313",
          "2023-01-02T18:30:20.543560",
          "2023-01-02T18:30:29.827642",
          "2023-01-02T18:30:40.354260",
          "2023-01-02T18:30:52.461156",
          "2023-01-02T18:31:00.019642",
          "2023-01-02T18:31:07.268660",
          "2023-01-02T18:31:19.676153",
          "2023-01-02T18:31:31.082928",
          "2023-01-02T18:31:41.989136",
          "2023-01-02T18:31:53.194600",
          "2023-01-02T18:32:00.027642",
          "2023-01-02T18:32:10.604797",
          "2023-01-02T18:32:22.187642",
          "2023-01-02T18:32:32.017022",
          "2023-01-02T18:32:45.825033",
          "2023-01-02T18:32:59.983642",
          "2023-01-02T18:33:10.738982",
          "2023-01-02T18:33:18.943820",
          "2023-01-02T18:33:29.250378",
          "2023-01-02T18:33:38.554782",
          "2023-01-02T18:33:48.061348",
          "2023-01-02T18:33:59.969642",
          "2023-01-02T18:34:05.770966",
          "2023-01-02T18:34:16.277029",
          "2023-01-02T18:34:27.582827",
          "2023-01-02T18:34:41.191242",
          "2023-01-02T18:34:51.697969",
          "2023-01-02T18:35:00.703348",
          "2023-01-02T18:35:11.309518",
          "2023-01-02T18:35:21.314643",
          "2023-01-02T18:35:31.720911",
          "2023-01-02T18:35:44.955642",
          "2023-01-02T18:35:59.536719",
          "2023-01-02T18:36:06.914642",
          "2023-01-02T18:36:19.648152",
          "2023-01-02T18:36:29.052653",
          "2023-01-02T18:36:41.160302",
          "2023-01-02T18:36:53.366829",
          "2023-01-02T18:37:00.001642",
          "2023-01-02T18:37:12.176803",
          "2023-01-02T18:37:24.084561",
          "2023-01-02T18:37:36.592576",
          "2023-01-02T18:37:51.699669",
          "2023-01-02T18:38:00.505272",
          "2023-01-02T18:38:11.811683",
          "2023-01-02T18:38:21.316671",
          "2023-01-02T18:38:32.423836",
          "2023-01-02T18:38:45.631403",
          "2023-01-02T18:38:58.038405",
          "2023-01-02T18:39:03.641999",
          "2023-01-02T18:39:15.349245",
          "2023-01-02T18:39:25.378642",
          "2023-01-02T18:39:35.259881",
          "2023-01-02T18:39:45.466172",
          "2023-01-02T18:39:57.673515",
          "2023-01-02T18:40:03.276572",
          "2023-01-02T18:40:13.482256",
          "2023-01-02T18:40:24.588044",
          "2023-01-02T18:40:36.095187",
          "2023-01-02T18:40:47.500934",
          "2023-01-02T18:40:55.706109",
          "2023-01-02T18:41:01.108712",
          "2023-01-02T18:41:07.713245",
          "2023-01-02T18:41:18.719321",
          "2023-01-02T18:41:30.725597",
          "2023-01-02T18:41:41.932556",
          "2023-01-02T18:41:52.537920",
          "2023-01-02T18:42:00.016642",
          "2023-01-02T18:42:10.648880",
          "2023-01-02T18:42:25.357633",
          "2023-01-02T18:42:40.565867",
          "2023-01-02T18:42:51.572744",
          "2023-01-02T18:43:00.000642",
          "2023-01-02T18:43:08.369642",
          "2023-01-02T18:43:19.989592",
          "2023-01-02T18:43:35.298242",
          "2023-01-02T18:43:46.403870",
          "2023-01-02T18:43:58.285642",
          "2023-01-02T18:44:03.614576",
          "2023-01-02T18:44:14.119798",
          "2023-01-02T18:44:25.427436",
          "2023-01-02T18:44:40.635983",
          "2023-01-02T18:44:51.142267",
          "2023-01-02T18:44:59.974642",
          "2023-01-02T18:45:06.951117",
          "2023-01-02T18:45:17.858581",
          "2023-01-02T18:45:30.764635",
          "2023-01-02T18:45:47.374372",
          "2023-01-02T18:45:56.479219",
          "2023-01-02T18:46:01.482053",
          "2023-01-02T18:46:12.435642",
          "2023-01-02T18:46:23.060642",
          "2023-01-02T18:46:32.400485",
          "2023-01-02T18:46:42.504859",
          "2023-01-02T18:46:47.157000",
          "2023-01-02T18:46:56.512624",
          "2023-01-02T18:47:01.415374",
          "2023-01-02T18:47:13.522465",
          "2023-01-02T18:47:25.830023",
          "2023-01-02T18:47:36.436519",
          "2023-01-02T18:47:51.243939",
          "2023-01-02T18:48:00.011642",
          "2023-01-02T18:48:08.554170",
          "2023-01-02T18:48:19.760577",
          "2023-01-02T18:48:30.666947",
          "2023-01-02T18:48:43.774461",
          "2023-01-02T18:48:55.180682",
          "2023-01-02T18:49:03.084791",
          "2023-01-02T18:49:11.789825",
          "2023-01-02T18:49:22.079642",
          "2023-01-02T18:49:32.000834",
          "2023-01-02T18:49:41.907013",
          "2023-01-02T18:49:50.510993",
          "2023-01-02T18:49:59.953642",
          "2023-01-02T18:50:05.220224",
          "2023-01-02T18:50:16.825886",
          "2023-01-02T18:50:29.133450",
          "2023-01-02T18:50:41.239860",
          "2023-01-02T18:50:53.346700",
          "2023-01-02T18:51:00.034642",
          "2023-01-02T18:51:06.847642",
          "2023-01-02T18:51:14.359465",
          "2023-01-02T18:51:26.366411",
          "2023-01-02T18:51:37.772095",
          "2023-01-02T18:51:50.178983"
         ],
         "xaxis": "x2",
         "y": [
          0,
          4.999999999988347E-5,
          9.999999999976694E-5,
          9.999999999976694E-5,
          9.999999999976694E-5,
          9.999999999976694E-5,
          9.999999999976694E-5,
          9.999999999976694E-5,
          9.999999999976694E-5,
          9.999999999976694E-5,
          9.999999999976694E-5,
          9.999999999976694E-5,
          9.999999999976694E-5,
          9.999999999976694E-5,
          9.999999999976694E-5,
          9.999999999976694E-5,
          9.999999999976694E-5,
          9.999999999976694E-5,
          1.4999999999787406E-4,
          1.4999999999787406E-4,
          1.4999999999787406E-4,
          1.4999999999787406E-4,
          -0.004500000000007276,
          -0.004500000000007276,
          -0.004500000000007276,
          -0.004500000000007276,
          -0.004500000000007276,
          -8.999999999161901E-4,
          -8.999999999161901E-4,
          0.002700000000061209,
          0.002700000000061209,
          0.01890000000003056,
          0.01890000000003056,
          0.01890000000003056,
          0.01895000000004643,
          0.020449999999755164,
          0.020850000000109503,
          0.021900000000869113,
          0.04830000000220025,
          0.0738500000024942,
          0.33570000000258915,
          0.3364000000017313,
          0.3389999999981228,
          0.34065000000100554,
          0.34155000000646396,
          0.34160000000701984,
          0.34200000001010267,
          0.34220000001187145,
          0.34225000001242734,
          0.3423000000129832,
          0.34330000002091765,
          0.3444000000304186,
          0.3960000000283799,
          0.3960000000283799,
          0.16560000002800734,
          -0.14599999996926272,
          -0.14599999996926272,
          -0.14599999996926272,
          -0.14599999996926272,
          -0.14599999996926272,
          -0.14599999996926272,
          -0.14599999996926272,
          -0.14594999996870683,
          -0.14594999996870683,
          -0.1456999999704749,
          -0.0671499999716616,
          -0.06704999997191408,
          -0.06704999997191408,
          -0.0664999999680731,
          -0.06559999995943144,
          -0.06529999995746039,
          -0.06529999995746039,
          -0.06529999995746039,
          -0.06514999995579274,
          -0.06504999995513572,
          -0.06499999995457983,
          -0.06484999995291219,
          -0.06474999995225517,
          -0.06469999995260878,
          -0.06469999995260878,
          -0.06469999995260878,
          -0.06469999995260878,
          0.11170000004722169,
          0.11170000004722169,
          0.11170000004722169,
          0.11175000004777758,
          0.11185000004797985,
          0.11185000004797985,
          0.11185000004797985,
          0.11185000004797985,
          0.11185000004797985,
          0.23065000004771719,
          0.23070000004781832,
          0.23080000004847534,
          0.232250000055501,
          0.2348500000534841,
          -1.119149999952242,
          -1.2028499999523774,
          -1.370449999953962,
          -1.370449999953962,
          -1.370449999953962,
          -1.370449999953962,
          -1.370449999953962,
          -1.370449999953962,
          -1.370449999953962,
          -1.370049999951334,
          -1.3699999999507781,
          -1.4551999999503096,
          -1.4551999999503096,
          -1.4551999999503096,
          -1.9237999999495514,
          -2.3094499999479012,
          -2.3094499999479012,
          -2.3094499999479012,
          -2.3094499999479012,
          -2.3094499999479012,
          -2.3094499999479012,
          -2.3094499999479012,
          -2.3094499999479012,
          -2.3094499999479012,
          -2.3094499999479012,
          -3.43574999993416,
          -4.595999999917694,
          -4.595999999917694,
          -4.595999999917694,
          -4.648399999919093,
          -4.648399999919093,
          -4.648399999919093,
          -4.648399999919093,
          -4.648399999919093,
          -5.863899999921159,
          -6.272699999921315,
          -6.272699999921315,
          -6.272699999921315,
          -6.272699999921315,
          -6.039099999921746,
          -6.038949999921897,
          -6.038949999921897,
          -6.1551499999213775,
          -6.1551499999213775,
          -6.1551499999213775,
          -6.1551499999213775,
          -6.1551499999213775,
          -6.1551499999213775,
          -4.093049999945833,
          -3.9361499999467924,
          -3.3085499999451713,
          -2.8378499999471387,
          -2.8378499999471387,
          -2.8378499999471387,
          -2.8378499999471387,
          -2.8378499999471387,
          -2.8378499999471387,
          -2.8378499999471387,
          -3.570049999945695,
          -3.570049999945695,
          -3.570049999945695,
          -3.570049999945695,
          -5.29594999994606,
          -5.29594999994606,
          -6.028149999944617,
          -6.028149999944617,
          -6.028149999944617,
          -6.0280999999449705,
          -6.0280999999449705,
          -6.0280999999449705,
          -6.0280999999449705,
          -5.299999999951979,
          -5.299949999952332,
          -5.299949999952332,
          -5.299899999951776,
          -5.299899999951776,
          -4.849899999953777,
          -4.649899999951231,
          -4.649899999951231,
          -4.649599999951533,
          -4.649349999950573,
          -4.649299999950017,
          -4.648799999948096,
          -4.6741999999467225,
          -5.214249999947242,
          -5.5232499999474385,
          -5.5232499999474385,
          -5.47174999994877,
          -5.471449999951801,
          -4.606149999951413,
          -4.198949999951765,
          -4.198949999951765,
          -4.198949999951765,
          -4.402549999951589,
          -4.402549999951589,
          -4.402549999951589,
          -4.402549999951589,
          -4.402549999951589,
          -4.402549999951589,
          -5.064249999952153,
          -5.064249999952153,
          -5.064249999952153,
          -5.064249999952153,
          -5.064249999952153,
          -5.064249999952153,
          -5.064249999952153,
          -5.420549999950708,
          -5.420549999950708,
          -5.420549999950708,
          -5.420549999950708,
          -5.420549999950708,
          -5.420549999950708,
          -5.420549999950708,
          -5.420549999950708,
          -5.420549999950708,
          -5.369649999951434,
          -5.318749999950342,
          -5.318749999950342,
          -5.318499999950291,
          -5.317299999946044,
          -5.3161499999432635,
          -5.3161499999432635,
          -5.3161499999432635,
          -5.316049999943061,
          -5.316049999943061,
          -5.315899999942303,
          -5.3157499999424545,
          -5.315199999940887,
          -5.315199999940887,
          -5.372199999941586,
          -5.429199999940465,
          -5.429199999940465,
          -5.429199999940465,
          -5.885199999939687,
          -6.055699999940771,
          -6.1136999999389445,
          -6.1136999999389445,
          -6.1136999999389445,
          -6.171699999940756,
          -6.171699999940756,
          -6.171699999940756,
          -6.171699999940756,
          -4.491849999955775,
          -4.491849999955775,
          -5.124049999953058,
          -5.123949999952856,
          -5.1238999999523,
          -5.1238999999523,
          -5.1238999999523,
          -5.1238999999523,
          -5.1238999999523,
          -5.123849999952654,
          -5.123749999951542,
          -5.123299999950177,
          -5.123099999948863,
          -5.123099999948863,
          -5.123099999948863,
          -5.123099999948863,
          -5.122999999948661,
          -5.122849999947903,
          -5.122649999947498,
          -5.122599999946942,
          -5.122549999946386,
          -5.122549999946386,
          -5.1211999999404725,
          -5.120149999935165,
          -5.119949999934761,
          -5.119949999934761,
          -5.119949999934761,
          -5.119949999934761,
          -5.720949999933509,
          -5.720949999933509,
          -5.720949999933509,
          -5.720949999933509,
          -5.720949999933509,
          -5.720949999933509,
          -8.61969999991561,
          -9.160549999911382,
          -9.837549999911062,
          -9.837549999911062,
          -9.837549999911062,
          -9.363649999910194,
          -9.363649999910194,
          -9.363649999910194,
          -9.363649999910194,
          -9.363649999910194,
          -9.363599999909638,
          -9.363599999909638,
          -9.634799999912502,
          -9.634799999912502,
          -10.922949999910998,
          -10.922949999910998,
          -10.922949999910998,
          -11.669849999911094,
          -12.512549999910334,
          -12.512549999910334,
          -12.220149999910063,
          -12.220149999910063,
          -12.220149999910063,
          -12.220149999910063,
          -12.220149999910063,
          -12.220149999910063,
          -12.14704999991227,
          -11.196899999909874,
          -11.196849999911137,
          -11.196849999911137,
          -11.196849999911137
         ],
         "yaxis": "y2"
        },
        {
         "name": "PnL including fees",
         "type": "scatter",
         "x": [
          "2023-01-02T17:58:30.259502",
          "2023-01-02T17:58:42.366152",
          "2023-01-02T17:58:53.372051",
          "2023-01-02T17:59:00.376395",
          "2023-01-02T17:59:12.600699",
          "2023-01-02T17:59:25.891350",
          "2023-01-02T17:59:41.199662",
          "2023-01-02T17:59:50.805713",
          "2023-01-02T17:59:59.992699",
          "2023-01-02T18:00:08.515977",
          "2023-01-02T18:00:22.123577",
          "2023-01-02T18:00:33.829512",
          "2023-01-02T18:00:47.936940",
          "2023-01-02T18:00:59.981642",
          "2023-01-02T18:01:08.648351",
          "2023-01-02T18:01:23.657161",
          "2023-01-02T18:01:36.064442",
          "2023-01-02T18:01:49.172055",
          "2023-01-02T18:01:59.962642",
          "2023-01-02T18:02:10.383833",
          "2023-01-02T18:02:25.992972",
          "2023-01-02T18:02:42.102595",
          "2023-01-02T18:02:52.607925",
          "2023-01-02T18:03:00.021642",
          "2023-01-02T18:03:10.818536",
          "2023-01-02T18:03:21.024305",
          "2023-01-02T18:03:31.929713",
          "2023-01-02T18:03:45.336972",
          "2023-01-02T18:03:57.044442",
          "2023-01-02T18:04:02.743642",
          "2023-01-02T18:04:15.355418",
          "2023-01-02T18:04:27.762065",
          "2023-01-02T18:04:42.270522",
          "2023-01-02T18:04:57.579124",
          "2023-01-02T18:05:04.282658",
          "2023-01-02T18:05:14.788909",
          "2023-01-02T18:05:32.498821",
          "2023-01-02T18:05:46.706706",
          "2023-01-02T18:05:59.958642",
          "2023-01-02T18:06:07.819374",
          "2023-01-02T18:06:15.423516",
          "2023-01-02T18:06:26.530143",
          "2023-01-02T18:06:38.737401",
          "2023-01-02T18:06:49.242365",
          "2023-01-02T18:06:59.347811",
          "2023-01-02T18:07:04.351574",
          "2023-01-02T18:07:14.757272",
          "2023-01-02T18:07:24.863395",
          "2023-01-02T18:07:36.170053",
          "2023-01-02T18:07:47.176035",
          "2023-01-02T18:07:59.283457",
          "2023-01-02T18:08:05.485918",
          "2023-01-02T18:08:14.191546",
          "2023-01-02T18:08:24.896940",
          "2023-01-02T18:08:32.901252",
          "2023-01-02T18:08:42.407446",
          "2023-01-02T18:08:52.212265",
          "2023-01-02T18:09:00.004642",
          "2023-01-02T18:09:08.221379",
          "2023-01-02T18:09:21.229022",
          "2023-01-02T18:09:32.435258",
          "2023-01-02T18:09:43.040749",
          "2023-01-02T18:09:56.248178",
          "2023-01-02T18:10:02.451993",
          "2023-01-02T18:10:13.559255",
          "2023-01-02T18:10:27.566362",
          "2023-01-02T18:10:40.372691",
          "2023-01-02T18:10:51.179116",
          "2023-01-02T18:10:59.974642",
          "2023-01-02T18:11:08.388943",
          "2023-01-02T18:11:20.495960",
          "2023-01-02T18:11:33.503069",
          "2023-01-02T18:11:44.608703",
          "2023-01-02T18:11:56.016556",
          "2023-01-02T18:12:02.019539",
          "2023-01-02T18:12:12.424663",
          "2023-01-02T18:12:24.459999",
          "2023-01-02T18:12:36.238763",
          "2023-01-02T18:12:47.544634",
          "2023-01-02T18:12:59.945642",
          "2023-01-02T18:13:06.656457",
          "2023-01-02T18:13:19.763546",
          "2023-01-02T18:13:29.869332",
          "2023-01-02T18:13:41.075575",
          "2023-01-02T18:13:53.382432",
          "2023-01-02T18:14:00.486470",
          "2023-01-02T18:14:11.893402",
          "2023-01-02T18:14:22.599586",
          "2023-01-02T18:14:34.405986",
          "2023-01-02T18:14:46.212940",
          "2023-01-02T18:14:59.320554",
          "2023-01-02T18:15:04.522644",
          "2023-01-02T18:15:14.529179",
          "2023-01-02T18:15:25.734776",
          "2023-01-02T18:15:38.342351",
          "2023-01-02T18:15:49.549450",
          "2023-01-02T18:15:59.949642",
          "2023-01-02T18:16:05.458018",
          "2023-01-02T18:16:15.864128",
          "2023-01-02T18:16:28.270449",
          "2023-01-02T18:16:40.276871",
          "2023-01-02T18:16:54.985822",
          "2023-01-02T18:17:05.529642",
          "2023-01-02T18:17:21.900805",
          "2023-01-02T18:17:39.912037",
          "2023-01-02T18:17:53.019586",
          "2023-01-02T18:18:00.032642",
          "2023-01-02T18:18:10.129449",
          "2023-01-02T18:18:20.835386",
          "2023-01-02T18:18:31.140862",
          "2023-01-02T18:18:41.346448",
          "2023-01-02T18:18:54.054372",
          "2023-01-02T18:19:01.157952",
          "2023-01-02T18:19:16.567539",
          "2023-01-02T18:19:31.175177",
          "2023-01-02T18:19:45.782942",
          "2023-01-02T18:19:58.690690",
          "2023-01-02T18:20:04.695310",
          "2023-01-02T18:20:15.601487",
          "2023-01-02T18:20:28.208263",
          "2023-01-02T18:20:41.214705",
          "2023-01-02T18:20:51.421365",
          "2023-01-02T18:20:59.424642",
          "2023-01-02T18:21:04.828008",
          "2023-01-02T18:21:16.034280",
          "2023-01-02T18:21:28.842540",
          "2023-01-02T18:21:42.149193",
          "2023-01-02T18:21:53.054743",
          "2023-01-02T18:22:00.025642",
          "2023-01-02T18:22:11.065055",
          "2023-01-02T18:22:19.470291",
          "2023-01-02T18:22:26.874154",
          "2023-01-02T18:22:36.980229",
          "2023-01-02T18:22:49.987038",
          "2023-01-02T18:23:00.003642",
          "2023-01-02T18:23:07.997541",
          "2023-01-02T18:23:18.603488",
          "2023-01-02T18:23:30.710593",
          "2023-01-02T18:23:42.116089",
          "2023-01-02T18:23:53.723273",
          "2023-01-02T18:24:00.527312",
          "2023-01-02T18:24:11.233352",
          "2023-01-02T18:24:22.038980",
          "2023-01-02T18:24:32.744896",
          "2023-01-02T18:24:39.549091",
          "2023-01-02T18:24:49.454793",
          "2023-01-02T18:24:59.760517",
          "2023-01-02T18:25:04.863236",
          "2023-01-02T18:25:14.716642",
          "2023-01-02T18:25:24.673817",
          "2023-01-02T18:25:36.481129",
          "2023-01-02T18:25:47.186692",
          "2023-01-02T18:25:57.191709",
          "2023-01-02T18:26:03.395692",
          "2023-01-02T18:26:13.302200",
          "2023-01-02T18:26:23.306835",
          "2023-01-02T18:26:34.113468",
          "2023-01-02T18:26:47.520876",
          "2023-01-02T18:26:55.226340",
          "2023-01-02T18:27:00.775642",
          "2023-01-02T18:27:10.233680",
          "2023-01-02T18:27:20.139602",
          "2023-01-02T18:27:31.146097",
          "2023-01-02T18:27:43.852690",
          "2023-01-02T18:27:55.759743",
          "2023-01-02T18:28:01.364173",
          "2023-01-02T18:28:12.326642",
          "2023-01-02T18:28:20.474619",
          "2023-01-02T18:28:31.180645",
          "2023-01-02T18:28:42.986874",
          "2023-01-02T18:28:54.294410",
          "2023-01-02T18:29:00.797885",
          "2023-01-02T18:29:11.103076",
          "2023-01-02T18:29:21.709047",
          "2023-01-02T18:29:35.370642",
          "2023-01-02T18:29:49.524816",
          "2023-01-02T18:29:59.998642",
          "2023-01-02T18:30:09.837313",
          "2023-01-02T18:30:20.543560",
          "2023-01-02T18:30:29.827642",
          "2023-01-02T18:30:40.354260",
          "2023-01-02T18:30:52.461156",
          "2023-01-02T18:31:00.019642",
          "2023-01-02T18:31:07.268660",
          "2023-01-02T18:31:19.676153",
          "2023-01-02T18:31:31.082928",
          "2023-01-02T18:31:41.989136",
          "2023-01-02T18:31:53.194600",
          "2023-01-02T18:32:00.027642",
          "2023-01-02T18:32:10.604797",
          "2023-01-02T18:32:22.187642",
          "2023-01-02T18:32:32.017022",
          "2023-01-02T18:32:45.825033",
          "2023-01-02T18:32:59.983642",
          "2023-01-02T18:33:10.738982",
          "2023-01-02T18:33:18.943820",
          "2023-01-02T18:33:29.250378",
          "2023-01-02T18:33:38.554782",
          "2023-01-02T18:33:48.061348",
          "2023-01-02T18:33:59.969642",
          "2023-01-02T18:34:05.770966",
          "2023-01-02T18:34:16.277029",
          "2023-01-02T18:34:27.582827",
          "2023-01-02T18:34:41.191242",
          "2023-01-02T18:34:51.697969",
          "2023-01-02T18:35:00.703348",
          "2023-01-02T18:35:11.309518",
          "2023-01-02T18:35:21.314643",
          "2023-01-02T18:35:31.720911",
          "2023-01-02T18:35:44.955642",
          "2023-01-02T18:35:59.536719",
          "2023-01-02T18:36:06.914642",
          "2023-01-02T18:36:19.648152",
          "2023-01-02T18:36:29.052653",
          "2023-01-02T18:36:41.160302",
          "2023-01-02T18:36:53.366829",
          "2023-01-02T18:37:00.001642",
          "2023-01-02T18:37:12.176803",
          "2023-01-02T18:37:24.084561",
          "2023-01-02T18:37:36.592576",
          "2023-01-02T18:37:51.699669",
          "2023-01-02T18:38:00.505272",
          "2023-01-02T18:38:11.811683",
          "2023-01-02T18:38:21.316671",
          "2023-01-02T18:38:32.423836",
          "2023-01-02T18:38:45.631403",
          "2023-01-02T18:38:58.038405",
          "2023-01-02T18:39:03.641999",
          "2023-01-02T18:39:15.349245",
          "2023-01-02T18:39:25.378642",
          "2023-01-02T18:39:35.259881",
          "2023-01-02T18:39:45.466172",
          "2023-01-02T18:39:57.673515",
          "2023-01-02T18:40:03.276572",
          "2023-01-02T18:40:13.482256",
          "2023-01-02T18:40:24.588044",
          "2023-01-02T18:40:36.095187",
          "2023-01-02T18:40:47.500934",
          "2023-01-02T18:40:55.706109",
          "2023-01-02T18:41:01.108712",
          "2023-01-02T18:41:07.713245",
          "2023-01-02T18:41:18.719321",
          "2023-01-02T18:41:30.725597",
          "2023-01-02T18:41:41.932556",
          "2023-01-02T18:41:52.537920",
          "2023-01-02T18:42:00.016642",
          "2023-01-02T18:42:10.648880",
          "2023-01-02T18:42:25.357633",
          "2023-01-02T18:42:40.565867",
          "2023-01-02T18:42:51.572744",
          "2023-01-02T18:43:00.000642",
          "2023-01-02T18:43:08.369642",
          "2023-01-02T18:43:19.989592",
          "2023-01-02T18:43:35.298242",
          "2023-01-02T18:43:46.403870",
          "2023-01-02T18:43:58.285642",
          "2023-01-02T18:44:03.614576",
          "2023-01-02T18:44:14.119798",
          "2023-01-02T18:44:25.427436",
          "2023-01-02T18:44:40.635983",
          "2023-01-02T18:44:51.142267",
          "2023-01-02T18:44:59.974642",
          "2023-01-02T18:45:06.951117",
          "2023-01-02T18:45:17.858581",
          "2023-01-02T18:45:30.764635",
          "2023-01-02T18:45:47.374372",
          "2023-01-02T18:45:56.479219",
          "2023-01-02T18:46:01.482053",
          "2023-01-02T18:46:12.435642",
          "2023-01-02T18:46:23.060642",
          "2023-01-02T18:46:32.400485",
          "2023-01-02T18:46:42.504859",
          "2023-01-02T18:46:47.157000",
          "2023-01-02T18:46:56.512624",
          "2023-01-02T18:47:01.415374",
          "2023-01-02T18:47:13.522465",
          "2023-01-02T18:47:25.830023",
          "2023-01-02T18:47:36.436519",
          "2023-01-02T18:47:51.243939",
          "2023-01-02T18:48:00.011642",
          "2023-01-02T18:48:08.554170",
          "2023-01-02T18:48:19.760577",
          "2023-01-02T18:48:30.666947",
          "2023-01-02T18:48:43.774461",
          "2023-01-02T18:48:55.180682",
          "2023-01-02T18:49:03.084791",
          "2023-01-02T18:49:11.789825",
          "2023-01-02T18:49:22.079642",
          "2023-01-02T18:49:32.000834",
          "2023-01-02T18:49:41.907013",
          "2023-01-02T18:49:50.510993",
          "2023-01-02T18:49:59.953642",
          "2023-01-02T18:50:05.220224",
          "2023-01-02T18:50:16.825886",
          "2023-01-02T18:50:29.133450",
          "2023-01-02T18:50:41.239860",
          "2023-01-02T18:50:53.346700",
          "2023-01-02T18:51:00.034642",
          "2023-01-02T18:51:06.847642",
          "2023-01-02T18:51:14.359465",
          "2023-01-02T18:51:26.366411",
          "2023-01-02T18:51:37.772095",
          "2023-01-02T18:51:50.178983"
         ],
         "xaxis": "x2",
         "y": [
          0,
          5.368520000015309E-4,
          0.00107370799999984,
          0.00107370799999984,
          0.00107370799999984,
          0.00107370799999984,
          0.00107370799999984,
          0.00107370799999984,
          0.00107370799999984,
          0.00107370799999984,
          0.00107370799999984,
          0.00107370799999984,
          0.00107370799999984,
          0.00107370799999984,
          0.00107370799999984,
          0.00107370799999984,
          0.00107370799999984,
          0.00107370799999984,
          0.0016105439999982707,
          0.0016105439999982707,
          0.0016105439999982707,
          0.0016105439999982707,
          0.005236896000013758,
          0.005236896000013758,
          0.005236896000013758,
          0.005236896000013758,
          0.005236896000013758,
          0.008836896000104844,
          0.008836896000104844,
          0.012436896000082243,
          0.012436896000082243,
          0.028636896000051593,
          0.028636896000051593,
          0.028636896000051593,
          0.029173696000043492,
          0.045277815999384075,
          0.04957224799920823,
          0.06084513199857611,
          0.11061171600135822,
          0.15125206400216484,
          0.42721758800144016,
          0.43473105200109785,
          0.46263820399940414,
          0.4803485120037294,
          0.49000868000985065,
          0.49054535601044336,
          0.49483876401382076,
          0.49698546801573684,
          0.49752214401632955,
          0.49805882001692225,
          0.5087923360256354,
          0.5205992080359465,
          0.5760925840345408,
          0.5760925840345408,
          0.34569258403416825,
          0.037986408036431385,
          0.037986408036431385,
          0.037986408036431385,
          0.037986408036431385,
          0.037986408036431385,
          0.037986408036431385,
          0.037986408036431385,
          0.038523160037129855,
          0.038523160037129855,
          0.04120690403624394,
          0.1221905960346703,
          0.12326406803413192,
          0.12326406803413192,
          0.1291682000360197,
          0.13882952004132676,
          0.1420499560422286,
          0.1420499560422286,
          0.1420499560422286,
          0.14366017604334047,
          0.14473365604362698,
          0.1452703960439976,
          0.1468806160451095,
          0.147954096045396,
          0.14849083204489943,
          0.14849083204489943,
          0.14849083204489943,
          0.14849083204489943,
          0.3248908320447299,
          0.3248908320447299,
          0.3248908320447299,
          0.32542754804535434,
          0.3265009800456937,
          0.3265009800456937,
          0.3265009800456937,
          0.3265009800456937,
          0.3265009800456937,
          0.44530098004543106,
          0.4458376760453575,
          0.44691107604558056,
          0.4624753640464405,
          0.49038376006501494,
          -0.8412272479135936,
          -0.9239535839133168,
          -1.0915535839149015,
          -1.0915535839149015,
          -1.0915535839149015,
          -1.0915535839149015,
          -1.0915535839149015,
          -1.0915535839149015,
          -1.0915535839149015,
          -1.0872587399126132,
          -1.0867218839121051,
          -1.1719218839116365,
          -1.1719218839116365,
          -1.1719218839116365,
          -1.6405218839108784,
          -2.024711147911148,
          -2.024711147911148,
          -2.024711147911148,
          -2.024711147911148,
          -2.024711147911148,
          -2.024711147911148,
          -2.024711147911148,
          -2.024711147911148,
          -2.024711147911148,
          -2.024711147911148,
          -3.1276352838840467,
          -4.264990415875218,
          -4.264990415875218,
          -4.264990415875218,
          -4.317390415876616,
          -4.317390415876616,
          -4.317390415876616,
          -4.317390415876616,
          -4.317390415876616,
          -5.503659123874058,
          -5.912459123874214,
          -5.912459123874214,
          -5.912459123874214,
          -5.912459123874214,
          -5.678859123874645,
          -5.677247403876208,
          -5.677247403876208,
          -5.793447403875689,
          -5.793447403875689,
          -5.793447403875689,
          -5.793447403875689,
          -5.793447403875689,
          -5.793447403875689,
          -3.7030898919028914,
          -3.5461898919038504,
          -2.9185898919022293,
          -2.4478898919041967,
          -2.4478898919041967,
          -2.4478898919041967,
          -2.4478898919041967,
          -2.4478898919041967,
          -2.4478898919041967,
          -2.4478898919041967,
          -3.180089891902753,
          -3.180089891902753,
          -3.180089891902753,
          -3.180089891902753,
          -4.905989891903118,
          -4.905989891903118,
          -5.638189891901675,
          -5.638189891901675,
          -5.638189891901675,
          -5.6376526479025415,
          -5.6376526479025415,
          -5.6376526479025415,
          -5.6376526479025415,
          -4.898834359909415,
          -4.8982971719096895,
          -4.8982971719096895,
          -4.897759979909097,
          -4.897759979909097,
          -4.447759979911098,
          -4.247759979908551,
          -4.247759979908551,
          -4.244537155910621,
          -4.241851459911231,
          -4.241314323910956,
          -4.235942923912262,
          -4.258420087912782,
          -4.797982919913011,
          -5.106982919913207,
          -5.106982919913207,
          -5.055482919914539,
          -5.052259719917856,
          -4.186959719917468,
          -3.77975971991782,
          -3.77975971991782,
          -3.77975971991782,
          -3.983359719917644,
          -3.983359719917644,
          -3.983359719917644,
          -3.983359719917644,
          -3.983359719917644,
          -3.983359719917644,
          -4.645059719918208,
          -4.645059719918208,
          -4.645059719918208,
          -4.645059719918208,
          -4.645059719918208,
          -4.645059719918208,
          -4.645059719918208,
          -5.001359719916763,
          -5.001359719916763,
          -5.001359719916763,
          -5.001359719916763,
          -5.001359719916763,
          -5.001359719916763,
          -5.001359719916763,
          -5.001359719916763,
          -5.001359719916763,
          -4.95045971991749,
          -4.899559719916397,
          -4.899559719916397,
          -4.896873759916161,
          -4.88398115191103,
          -4.871625735907401,
          -4.871625735907401,
          -4.871625735907401,
          -4.87055135990704,
          -4.87055135990704,
          -4.868939791906087,
          -4.867328215906127,
          -4.861419107904112,
          -4.861419107904112,
          -4.9184191079048105,
          -4.97541910790369,
          -4.97541910790369,
          -4.97541910790369,
          -5.4314191079029115,
          -5.597046667900031,
          -5.655046667898205,
          -5.655046667898205,
          -5.655046667898205,
          -5.7130466679000165,
          -5.7130466679000165,
          -5.7130466679000165,
          -5.7130466679000165,
          -4.005425759923128,
          -4.005425759923128,
          -4.635677247921194,
          -4.63460289592058,
          -4.634065719919818,
          -4.634065719919818,
          -4.634065719919818,
          -4.634065719919818,
          -4.634065719919818,
          -4.633528543919965,
          -4.632454191918441,
          -4.627619611916089,
          -4.62547090791395,
          -4.62547090791395,
          -4.62547090791395,
          -4.62547090791395,
          -4.624396555913336,
          -4.622785027911959,
          -4.620636327911598,
          -4.620099151910836,
          -4.619561975910074,
          -4.619561975910074,
          -4.60505823190033,
          -4.593777535890695,
          -4.591628831889466,
          -4.591628831889466,
          -4.591628831889466,
          -4.591628831889466,
          -5.192628831888214,
          -5.192628831888214,
          -5.192628831888214,
          -5.192628831888214,
          -5.192628831888214,
          -5.192628831888214,
          -8.055806839869547,
          -8.595194627869205,
          -9.272194627868885,
          -9.272194627868885,
          -9.272194627868885,
          -8.798294627868017,
          -8.798294627868017,
          -8.798294627868017,
          -8.798294627868017,
          -8.798294627868017,
          -8.797757187867319,
          -8.797757187867319,
          -9.068957187870183,
          -9.068957187870183,
          -10.35661965586769,
          -10.35661965586769,
          -10.35661965586769,
          -11.103519655867785,
          -11.920864427853303,
          -11.920864427853303,
          -11.628464427853032,
          -11.628464427853032,
          -11.628464427853032,
          -11.628464427853032,
          -11.628464427853032,
          -11.628464427853032,
          -11.555364427855238,
          -10.604726871853927,
          -10.60418932385437,
          -10.60418932385437,
          -10.60418932385437
         ],
         "yaxis": "y2"
        },
        {
         "name": "Inventory Size",
         "type": "scatter",
         "x": [
          "2023-01-02T17:58:30.259502",
          "2023-01-02T17:58:42.366152",
          "2023-01-02T17:58:53.372051",
          "2023-01-02T17:59:00.376395",
          "2023-01-02T17:59:12.600699",
          "2023-01-02T17:59:25.891350",
          "2023-01-02T17:59:41.199662",
          "2023-01-02T17:59:50.805713",
          "2023-01-02T17:59:59.992699",
          "2023-01-02T18:00:08.515977",
          "2023-01-02T18:00:22.123577",
          "2023-01-02T18:00:33.829512",
          "2023-01-02T18:00:47.936940",
          "2023-01-02T18:00:59.981642",
          "2023-01-02T18:01:08.648351",
          "2023-01-02T18:01:23.657161",
          "2023-01-02T18:01:36.064442",
          "2023-01-02T18:01:49.172055",
          "2023-01-02T18:01:59.962642",
          "2023-01-02T18:02:10.383833",
          "2023-01-02T18:02:25.992972",
          "2023-01-02T18:02:42.102595",
          "2023-01-02T18:02:52.607925",
          "2023-01-02T18:03:00.021642",
          "2023-01-02T18:03:10.818536",
          "2023-01-02T18:03:21.024305",
          "2023-01-02T18:03:31.929713",
          "2023-01-02T18:03:45.336972",
          "2023-01-02T18:03:57.044442",
          "2023-01-02T18:04:02.743642",
          "2023-01-02T18:04:15.355418",
          "2023-01-02T18:04:27.762065",
          "2023-01-02T18:04:42.270522",
          "2023-01-02T18:04:57.579124",
          "2023-01-02T18:05:04.282658",
          "2023-01-02T18:05:14.788909",
          "2023-01-02T18:05:32.498821",
          "2023-01-02T18:05:46.706706",
          "2023-01-02T18:05:59.958642",
          "2023-01-02T18:06:07.819374",
          "2023-01-02T18:06:15.423516",
          "2023-01-02T18:06:26.530143",
          "2023-01-02T18:06:38.737401",
          "2023-01-02T18:06:49.242365",
          "2023-01-02T18:06:59.347811",
          "2023-01-02T18:07:04.351574",
          "2023-01-02T18:07:14.757272",
          "2023-01-02T18:07:24.863395",
          "2023-01-02T18:07:36.170053",
          "2023-01-02T18:07:47.176035",
          "2023-01-02T18:07:59.283457",
          "2023-01-02T18:08:05.485918",
          "2023-01-02T18:08:14.191546",
          "2023-01-02T18:08:24.896940",
          "2023-01-02T18:08:32.901252",
          "2023-01-02T18:08:42.407446",
          "2023-01-02T18:08:52.212265",
          "2023-01-02T18:09:00.004642",
          "2023-01-02T18:09:08.221379",
          "2023-01-02T18:09:21.229022",
          "2023-01-02T18:09:32.435258",
          "2023-01-02T18:09:43.040749",
          "2023-01-02T18:09:56.248178",
          "2023-01-02T18:10:02.451993",
          "2023-01-02T18:10:13.559255",
          "2023-01-02T18:10:27.566362",
          "2023-01-02T18:10:40.372691",
          "2023-01-02T18:10:51.179116",
          "2023-01-02T18:10:59.974642",
          "2023-01-02T18:11:08.388943",
          "2023-01-02T18:11:20.495960",
          "2023-01-02T18:11:33.503069",
          "2023-01-02T18:11:44.608703",
          "2023-01-02T18:11:56.016556",
          "2023-01-02T18:12:02.019539",
          "2023-01-02T18:12:12.424663",
          "2023-01-02T18:12:24.459999",
          "2023-01-02T18:12:36.238763",
          "2023-01-02T18:12:47.544634",
          "2023-01-02T18:12:59.945642",
          "2023-01-02T18:13:06.656457",
          "2023-01-02T18:13:19.763546",
          "2023-01-02T18:13:29.869332",
          "2023-01-02T18:13:41.075575",
          "2023-01-02T18:13:53.382432",
          "2023-01-02T18:14:00.486470",
          "2023-01-02T18:14:11.893402",
          "2023-01-02T18:14:22.599586",
          "2023-01-02T18:14:34.405986",
          "2023-01-02T18:14:46.212940",
          "2023-01-02T18:14:59.320554",
          "2023-01-02T18:15:04.522644",
          "2023-01-02T18:15:14.529179",
          "2023-01-02T18:15:25.734776",
          "2023-01-02T18:15:38.342351",
          "2023-01-02T18:15:49.549450",
          "2023-01-02T18:15:59.949642",
          "2023-01-02T18:16:05.458018",
          "2023-01-02T18:16:15.864128",
          "2023-01-02T18:16:28.270449",
          "2023-01-02T18:16:40.276871",
          "2023-01-02T18:16:54.985822",
          "2023-01-02T18:17:05.529642",
          "2023-01-02T18:17:21.900805",
          "2023-01-02T18:17:39.912037",
          "2023-01-02T18:17:53.019586",
          "2023-01-02T18:18:00.032642",
          "2023-01-02T18:18:10.129449",
          "2023-01-02T18:18:20.835386",
          "2023-01-02T18:18:31.140862",
          "2023-01-02T18:18:41.346448",
          "2023-01-02T18:18:54.054372",
          "2023-01-02T18:19:01.157952",
          "2023-01-02T18:19:16.567539",
          "2023-01-02T18:19:31.175177",
          "2023-01-02T18:19:45.782942",
          "2023-01-02T18:19:58.690690",
          "2023-01-02T18:20:04.695310",
          "2023-01-02T18:20:15.601487",
          "2023-01-02T18:20:28.208263",
          "2023-01-02T18:20:41.214705",
          "2023-01-02T18:20:51.421365",
          "2023-01-02T18:20:59.424642",
          "2023-01-02T18:21:04.828008",
          "2023-01-02T18:21:16.034280",
          "2023-01-02T18:21:28.842540",
          "2023-01-02T18:21:42.149193",
          "2023-01-02T18:21:53.054743",
          "2023-01-02T18:22:00.025642",
          "2023-01-02T18:22:11.065055",
          "2023-01-02T18:22:19.470291",
          "2023-01-02T18:22:26.874154",
          "2023-01-02T18:22:36.980229",
          "2023-01-02T18:22:49.987038",
          "2023-01-02T18:23:00.003642",
          "2023-01-02T18:23:07.997541",
          "2023-01-02T18:23:18.603488",
          "2023-01-02T18:23:30.710593",
          "2023-01-02T18:23:42.116089",
          "2023-01-02T18:23:53.723273",
          "2023-01-02T18:24:00.527312",
          "2023-01-02T18:24:11.233352",
          "2023-01-02T18:24:22.038980",
          "2023-01-02T18:24:32.744896",
          "2023-01-02T18:24:39.549091",
          "2023-01-02T18:24:49.454793",
          "2023-01-02T18:24:59.760517",
          "2023-01-02T18:25:04.863236",
          "2023-01-02T18:25:14.716642",
          "2023-01-02T18:25:24.673817",
          "2023-01-02T18:25:36.481129",
          "2023-01-02T18:25:47.186692",
          "2023-01-02T18:25:57.191709",
          "2023-01-02T18:26:03.395692",
          "2023-01-02T18:26:13.302200",
          "2023-01-02T18:26:23.306835",
          "2023-01-02T18:26:34.113468",
          "2023-01-02T18:26:47.520876",
          "2023-01-02T18:26:55.226340",
          "2023-01-02T18:27:00.775642",
          "2023-01-02T18:27:10.233680",
          "2023-01-02T18:27:20.139602",
          "2023-01-02T18:27:31.146097",
          "2023-01-02T18:27:43.852690",
          "2023-01-02T18:27:55.759743",
          "2023-01-02T18:28:01.364173",
          "2023-01-02T18:28:12.326642",
          "2023-01-02T18:28:20.474619",
          "2023-01-02T18:28:31.180645",
          "2023-01-02T18:28:42.986874",
          "2023-01-02T18:28:54.294410",
          "2023-01-02T18:29:00.797885",
          "2023-01-02T18:29:11.103076",
          "2023-01-02T18:29:21.709047",
          "2023-01-02T18:29:35.370642",
          "2023-01-02T18:29:49.524816",
          "2023-01-02T18:29:59.998642",
          "2023-01-02T18:30:09.837313",
          "2023-01-02T18:30:20.543560",
          "2023-01-02T18:30:29.827642",
          "2023-01-02T18:30:40.354260",
          "2023-01-02T18:30:52.461156",
          "2023-01-02T18:31:00.019642",
          "2023-01-02T18:31:07.268660",
          "2023-01-02T18:31:19.676153",
          "2023-01-02T18:31:31.082928",
          "2023-01-02T18:31:41.989136",
          "2023-01-02T18:31:53.194600",
          "2023-01-02T18:32:00.027642",
          "2023-01-02T18:32:10.604797",
          "2023-01-02T18:32:22.187642",
          "2023-01-02T18:32:32.017022",
          "2023-01-02T18:32:45.825033",
          "2023-01-02T18:32:59.983642",
          "2023-01-02T18:33:10.738982",
          "2023-01-02T18:33:18.943820",
          "2023-01-02T18:33:29.250378",
          "2023-01-02T18:33:38.554782",
          "2023-01-02T18:33:48.061348",
          "2023-01-02T18:33:59.969642",
          "2023-01-02T18:34:05.770966",
          "2023-01-02T18:34:16.277029",
          "2023-01-02T18:34:27.582827",
          "2023-01-02T18:34:41.191242",
          "2023-01-02T18:34:51.697969",
          "2023-01-02T18:35:00.703348",
          "2023-01-02T18:35:11.309518",
          "2023-01-02T18:35:21.314643",
          "2023-01-02T18:35:31.720911",
          "2023-01-02T18:35:44.955642",
          "2023-01-02T18:35:59.536719",
          "2023-01-02T18:36:06.914642",
          "2023-01-02T18:36:19.648152",
          "2023-01-02T18:36:29.052653",
          "2023-01-02T18:36:41.160302",
          "2023-01-02T18:36:53.366829",
          "2023-01-02T18:37:00.001642",
          "2023-01-02T18:37:12.176803",
          "2023-01-02T18:37:24.084561",
          "2023-01-02T18:37:36.592576",
          "2023-01-02T18:37:51.699669",
          "2023-01-02T18:38:00.505272",
          "2023-01-02T18:38:11.811683",
          "2023-01-02T18:38:21.316671",
          "2023-01-02T18:38:32.423836",
          "2023-01-02T18:38:45.631403",
          "2023-01-02T18:38:58.038405",
          "2023-01-02T18:39:03.641999",
          "2023-01-02T18:39:15.349245",
          "2023-01-02T18:39:25.378642",
          "2023-01-02T18:39:35.259881",
          "2023-01-02T18:39:45.466172",
          "2023-01-02T18:39:57.673515",
          "2023-01-02T18:40:03.276572",
          "2023-01-02T18:40:13.482256",
          "2023-01-02T18:40:24.588044",
          "2023-01-02T18:40:36.095187",
          "2023-01-02T18:40:47.500934",
          "2023-01-02T18:40:55.706109",
          "2023-01-02T18:41:01.108712",
          "2023-01-02T18:41:07.713245",
          "2023-01-02T18:41:18.719321",
          "2023-01-02T18:41:30.725597",
          "2023-01-02T18:41:41.932556",
          "2023-01-02T18:41:52.537920",
          "2023-01-02T18:42:00.016642",
          "2023-01-02T18:42:10.648880",
          "2023-01-02T18:42:25.357633",
          "2023-01-02T18:42:40.565867",
          "2023-01-02T18:42:51.572744",
          "2023-01-02T18:43:00.000642",
          "2023-01-02T18:43:08.369642",
          "2023-01-02T18:43:19.989592",
          "2023-01-02T18:43:35.298242",
          "2023-01-02T18:43:46.403870",
          "2023-01-02T18:43:58.285642",
          "2023-01-02T18:44:03.614576",
          "2023-01-02T18:44:14.119798",
          "2023-01-02T18:44:25.427436",
          "2023-01-02T18:44:40.635983",
          "2023-01-02T18:44:51.142267",
          "2023-01-02T18:44:59.974642",
          "2023-01-02T18:45:06.951117",
          "2023-01-02T18:45:17.858581",
          "2023-01-02T18:45:30.764635",
          "2023-01-02T18:45:47.374372",
          "2023-01-02T18:45:56.479219",
          "2023-01-02T18:46:01.482053",
          "2023-01-02T18:46:12.435642",
          "2023-01-02T18:46:23.060642",
          "2023-01-02T18:46:32.400485",
          "2023-01-02T18:46:42.504859",
          "2023-01-02T18:46:47.157000",
          "2023-01-02T18:46:56.512624",
          "2023-01-02T18:47:01.415374",
          "2023-01-02T18:47:13.522465",
          "2023-01-02T18:47:25.830023",
          "2023-01-02T18:47:36.436519",
          "2023-01-02T18:47:51.243939",
          "2023-01-02T18:48:00.011642",
          "2023-01-02T18:48:08.554170",
          "2023-01-02T18:48:19.760577",
          "2023-01-02T18:48:30.666947",
          "2023-01-02T18:48:43.774461",
          "2023-01-02T18:48:55.180682",
          "2023-01-02T18:49:03.084791",
          "2023-01-02T18:49:11.789825",
          "2023-01-02T18:49:22.079642",
          "2023-01-02T18:49:32.000834",
          "2023-01-02T18:49:41.907013",
          "2023-01-02T18:49:50.510993",
          "2023-01-02T18:49:59.953642",
          "2023-01-02T18:50:05.220224",
          "2023-01-02T18:50:16.825886",
          "2023-01-02T18:50:29.133450",
          "2023-01-02T18:50:41.239860",
          "2023-01-02T18:50:53.346700",
          "2023-01-02T18:51:00.034642",
          "2023-01-02T18:51:06.847642",
          "2023-01-02T18:51:14.359465",
          "2023-01-02T18:51:26.366411",
          "2023-01-02T18:51:37.772095",
          "2023-01-02T18:51:50.178983"
         ],
         "xaxis": "x3",
         "y": [
          0,
          0.01,
          0,
          0,
          0,
          0,
          0,
          0,
          0,
          0,
          0,
          0,
          0,
          0,
          0,
          0,
          0,
          0,
          -0.01,
          -0.01,
          -0.01,
          -0.01,
          -0.18000000000000002,
          -0.18000000000000002,
          -0.18000000000000002,
          -0.18000000000000002,
          -0.18000000000000002,
          -0.18000000000000002,
          -0.18000000000000002,
          -0.18000000000000002,
          -0.18000000000000002,
          -0.18000000000000002,
          -0.18000000000000002,
          -0.18000000000000002,
          -0.17,
          -0.47000000000000025,
          -0.5500000000000003,
          -0.7600000000000005,
          -1.2000000000000008,
          -1.1100000000000008,
          -0.9200000000000006,
          -1.0600000000000007,
          -1.5800000000000012,
          -1.9100000000000015,
          -2.0899999999999994,
          -2.099999999999999,
          -2.1799999999999975,
          -2.2199999999999966,
          -2.2299999999999964,
          -2.239999999999996,
          -2.4199999999999924,
          -2.6399999999999877,
          -2.5599999999999894,
          -2.5599999999999894,
          -2.5599999999999894,
          -2.6399999999999877,
          -2.6399999999999877,
          -2.6399999999999877,
          -2.6399999999999877,
          -2.6399999999999877,
          -2.6399999999999877,
          -2.6399999999999877,
          -2.6499999999999875,
          -2.6499999999999875,
          -2.619999999999988,
          -2.569999999999989,
          -2.5499999999999896,
          -2.5499999999999896,
          -2.619999999999988,
          -2.7999999999999843,
          -2.8399999999999834,
          -2.8399999999999834,
          -2.8399999999999834,
          -2.869999999999983,
          -2.8899999999999824,
          -2.899999999999982,
          -2.9299999999999815,
          -2.949999999999981,
          -2.9399999999999813,
          -2.9399999999999813,
          -2.9399999999999813,
          -2.9399999999999813,
          -2.9399999999999813,
          -2.9399999999999813,
          -2.9399999999999813,
          -2.949999999999981,
          -2.9699999999999807,
          -2.9699999999999807,
          -2.9699999999999807,
          -2.9699999999999807,
          -2.9699999999999807,
          -2.9699999999999807,
          -2.959999999999981,
          -2.9799999999999804,
          -3.2099999999999755,
          -3.709999999999965,
          -4.1699999999999555,
          -4.189999999999955,
          -4.189999999999955,
          -4.189999999999955,
          -4.189999999999955,
          -4.189999999999955,
          -4.189999999999955,
          -4.189999999999955,
          -4.189999999999955,
          -4.249999999999954,
          -4.259999999999954,
          -4.259999999999954,
          -4.259999999999954,
          -4.259999999999954,
          -4.259999999999954,
          -4.289999999999953,
          -4.289999999999953,
          -4.289999999999953,
          -4.289999999999953,
          -4.289999999999953,
          -4.289999999999953,
          -4.289999999999953,
          -4.289999999999953,
          -4.289999999999953,
          -4.289999999999953,
          -4.769999999999943,
          -5.239999999999933,
          -5.239999999999933,
          -5.239999999999933,
          -5.239999999999933,
          -5.239999999999933,
          -5.239999999999933,
          -5.239999999999933,
          -5.239999999999933,
          -5.83999999999992,
          -5.83999999999992,
          -5.83999999999992,
          -5.83999999999992,
          -5.83999999999992,
          -5.83999999999992,
          -5.809999999999921,
          -5.809999999999921,
          -5.809999999999921,
          -5.809999999999921,
          -5.809999999999921,
          -5.809999999999921,
          -5.809999999999921,
          -5.809999999999921,
          -5.229999999999933,
          -5.229999999999933,
          -5.229999999999933,
          -5.229999999999933,
          -5.229999999999933,
          -5.229999999999933,
          -5.229999999999933,
          -5.229999999999933,
          -5.229999999999933,
          -5.229999999999933,
          -5.229999999999933,
          -5.229999999999933,
          -5.229999999999933,
          -5.229999999999933,
          -5.229999999999933,
          -5.229999999999933,
          -5.229999999999933,
          -5.229999999999933,
          -5.229999999999933,
          -5.219999999999933,
          -5.219999999999933,
          -5.219999999999933,
          -5.219999999999933,
          -4.999999999999938,
          -4.989999999999938,
          -4.989999999999938,
          -4.999999999999938,
          -4.999999999999938,
          -4.999999999999938,
          -4.999999999999938,
          -4.999999999999938,
          -4.979999999999938,
          -5.009999999999938,
          -4.999999999999938,
          -5.099999999999936,
          -5.139999999999935,
          -5.149999999999935,
          -5.149999999999935,
          -5.149999999999935,
          -5.149999999999935,
          -5.089999999999936,
          -5.089999999999936,
          -5.089999999999936,
          -5.089999999999936,
          -5.089999999999936,
          -5.089999999999936,
          -5.089999999999936,
          -5.089999999999936,
          -5.089999999999936,
          -5.089999999999936,
          -5.089999999999936,
          -5.089999999999936,
          -5.089999999999936,
          -5.089999999999936,
          -5.089999999999936,
          -5.089999999999936,
          -5.089999999999936,
          -5.089999999999936,
          -5.089999999999936,
          -5.089999999999936,
          -5.089999999999936,
          -5.089999999999936,
          -5.089999999999936,
          -5.089999999999936,
          -5.089999999999936,
          -5.089999999999936,
          -5.089999999999936,
          -5.089999999999936,
          -5.089999999999936,
          -5.089999999999936,
          -5.139999999999935,
          -5.37999999999993,
          -5.609999999999925,
          -5.609999999999925,
          -5.609999999999925,
          -5.589999999999925,
          -5.589999999999925,
          -5.5799999999999255,
          -5.609999999999925,
          -5.699999999999923,
          -5.699999999999923,
          -5.699999999999923,
          -5.699999999999923,
          -5.699999999999923,
          -5.699999999999923,
          -5.699999999999923,
          -5.799999999999921,
          -5.799999999999921,
          -5.799999999999921,
          -5.799999999999921,
          -5.799999999999921,
          -5.799999999999921,
          -5.799999999999921,
          -5.799999999999921,
          -5.229999999999933,
          -5.229999999999933,
          -5.269999999999932,
          -5.289999999999932,
          -5.299999999999931,
          -5.299999999999931,
          -5.299999999999931,
          -5.299999999999931,
          -5.299999999999931,
          -5.309999999999931,
          -5.329999999999931,
          -5.399999999999929,
          -5.4399999999999284,
          -5.4399999999999284,
          -5.4399999999999284,
          -5.4399999999999284,
          -5.459999999999928,
          -5.489999999999927,
          -5.509999999999927,
          -5.519999999999927,
          -5.5299999999999265,
          -5.5299999999999265,
          -5.759999999999922,
          -5.969999999999917,
          -6.009999999999916,
          -6.009999999999916,
          -6.009999999999916,
          -6.009999999999916,
          -6.009999999999916,
          -6.009999999999916,
          -6.009999999999916,
          -6.009999999999916,
          -6.009999999999916,
          -6.009999999999916,
          -6.739999999999901,
          -6.7699999999999,
          -6.7699999999999,
          -6.7699999999999,
          -6.7699999999999,
          -6.7699999999999,
          -6.7699999999999,
          -6.7699999999999,
          -6.7699999999999,
          -6.7699999999999,
          -6.7799999999999,
          -6.7799999999999,
          -6.7799999999999,
          -6.7799999999999,
          -6.7899999999999,
          -6.7899999999999,
          -6.7899999999999,
          -6.7899999999999,
          -7.309999999999889,
          -7.309999999999889,
          -7.309999999999889,
          -7.309999999999889,
          -7.309999999999889,
          -7.309999999999889,
          -7.309999999999889,
          -7.309999999999889,
          -7.309999999999889,
          -7.299999999999889,
          -7.289999999999889,
          -7.289999999999889,
          -7.289999999999889
         ],
         "yaxis": "y3"
        }
       ],
       "layout": {
        "annotations": [
         {
          "font": {
           "size": 16
          },
          "showarrow": false,
          "text": "Price",
          "x": 0.5,
          "xanchor": "center",
          "xref": "paper",
          "y": 1,
          "yanchor": "bottom",
          "yref": "paper"
         },
         {
          "font": {
           "size": 16
          },
          "showarrow": false,
          "text": "PnL",
          "x": 0.5,
          "xanchor": "center",
          "xref": "paper",
          "y": 0.6111111111111112,
          "yanchor": "bottom",
          "yref": "paper"
         },
         {
          "font": {
           "size": 16
          },
          "showarrow": false,
          "text": "Inventory Size",
          "x": 0.5,
          "xanchor": "center",
          "xref": "paper",
          "y": 0.22222222222222224,
          "yanchor": "bottom",
          "yref": "paper"
         }
        ],
        "height": 700,
        "template": {
         "data": {
          "bar": [
           {
            "error_x": {
             "color": "#2a3f5f"
            },
            "error_y": {
             "color": "#2a3f5f"
            },
            "marker": {
             "line": {
              "color": "#E5ECF6",
              "width": 0.5
             },
             "pattern": {
              "fillmode": "overlay",
              "size": 10,
              "solidity": 0.2
             }
            },
            "type": "bar"
           }
          ],
          "barpolar": [
           {
            "marker": {
             "line": {
              "color": "#E5ECF6",
              "width": 0.5
             },
             "pattern": {
              "fillmode": "overlay",
              "size": 10,
              "solidity": 0.2
             }
            },
            "type": "barpolar"
           }
          ],
          "carpet": [
           {
            "aaxis": {
             "endlinecolor": "#2a3f5f",
             "gridcolor": "white",
             "linecolor": "white",
             "minorgridcolor": "white",
             "startlinecolor": "#2a3f5f"
            },
            "baxis": {
             "endlinecolor": "#2a3f5f",
             "gridcolor": "white",
             "linecolor": "white",
             "minorgridcolor": "white",
             "startlinecolor": "#2a3f5f"
            },
            "type": "carpet"
           }
          ],
          "choropleth": [
           {
            "colorbar": {
             "outlinewidth": 0,
             "ticks": ""
            },
            "type": "choropleth"
           }
          ],
          "contour": [
           {
            "colorbar": {
             "outlinewidth": 0,
             "ticks": ""
            },
            "colorscale": [
             [
              0,
              "#0d0887"
             ],
             [
              0.1111111111111111,
              "#46039f"
             ],
             [
              0.2222222222222222,
              "#7201a8"
             ],
             [
              0.3333333333333333,
              "#9c179e"
             ],
             [
              0.4444444444444444,
              "#bd3786"
             ],
             [
              0.5555555555555556,
              "#d8576b"
             ],
             [
              0.6666666666666666,
              "#ed7953"
             ],
             [
              0.7777777777777778,
              "#fb9f3a"
             ],
             [
              0.8888888888888888,
              "#fdca26"
             ],
             [
              1,
              "#f0f921"
             ]
            ],
            "type": "contour"
           }
          ],
          "contourcarpet": [
           {
            "colorbar": {
             "outlinewidth": 0,
             "ticks": ""
            },
            "type": "contourcarpet"
           }
          ],
          "heatmap": [
           {
            "colorbar": {
             "outlinewidth": 0,
             "ticks": ""
            },
            "colorscale": [
             [
              0,
              "#0d0887"
             ],
             [
              0.1111111111111111,
              "#46039f"
             ],
             [
              0.2222222222222222,
              "#7201a8"
             ],
             [
              0.3333333333333333,
              "#9c179e"
             ],
             [
              0.4444444444444444,
              "#bd3786"
             ],
             [
              0.5555555555555556,
              "#d8576b"
             ],
             [
              0.6666666666666666,
              "#ed7953"
             ],
             [
              0.7777777777777778,
              "#fb9f3a"
             ],
             [
              0.8888888888888888,
              "#fdca26"
             ],
             [
              1,
              "#f0f921"
             ]
            ],
            "type": "heatmap"
           }
          ],
          "heatmapgl": [
           {
            "colorbar": {
             "outlinewidth": 0,
             "ticks": ""
            },
            "colorscale": [
             [
              0,
              "#0d0887"
             ],
             [
              0.1111111111111111,
              "#46039f"
             ],
             [
              0.2222222222222222,
              "#7201a8"
             ],
             [
              0.3333333333333333,
              "#9c179e"
             ],
             [
              0.4444444444444444,
              "#bd3786"
             ],
             [
              0.5555555555555556,
              "#d8576b"
             ],
             [
              0.6666666666666666,
              "#ed7953"
             ],
             [
              0.7777777777777778,
              "#fb9f3a"
             ],
             [
              0.8888888888888888,
              "#fdca26"
             ],
             [
              1,
              "#f0f921"
             ]
            ],
            "type": "heatmapgl"
           }
          ],
          "histogram": [
           {
            "marker": {
             "pattern": {
              "fillmode": "overlay",
              "size": 10,
              "solidity": 0.2
             }
            },
            "type": "histogram"
           }
          ],
          "histogram2d": [
           {
            "colorbar": {
             "outlinewidth": 0,
             "ticks": ""
            },
            "colorscale": [
             [
              0,
              "#0d0887"
             ],
             [
              0.1111111111111111,
              "#46039f"
             ],
             [
              0.2222222222222222,
              "#7201a8"
             ],
             [
              0.3333333333333333,
              "#9c179e"
             ],
             [
              0.4444444444444444,
              "#bd3786"
             ],
             [
              0.5555555555555556,
              "#d8576b"
             ],
             [
              0.6666666666666666,
              "#ed7953"
             ],
             [
              0.7777777777777778,
              "#fb9f3a"
             ],
             [
              0.8888888888888888,
              "#fdca26"
             ],
             [
              1,
              "#f0f921"
             ]
            ],
            "type": "histogram2d"
           }
          ],
          "histogram2dcontour": [
           {
            "colorbar": {
             "outlinewidth": 0,
             "ticks": ""
            },
            "colorscale": [
             [
              0,
              "#0d0887"
             ],
             [
              0.1111111111111111,
              "#46039f"
             ],
             [
              0.2222222222222222,
              "#7201a8"
             ],
             [
              0.3333333333333333,
              "#9c179e"
             ],
             [
              0.4444444444444444,
              "#bd3786"
             ],
             [
              0.5555555555555556,
              "#d8576b"
             ],
             [
              0.6666666666666666,
              "#ed7953"
             ],
             [
              0.7777777777777778,
              "#fb9f3a"
             ],
             [
              0.8888888888888888,
              "#fdca26"
             ],
             [
              1,
              "#f0f921"
             ]
            ],
            "type": "histogram2dcontour"
           }
          ],
          "mesh3d": [
           {
            "colorbar": {
             "outlinewidth": 0,
             "ticks": ""
            },
            "type": "mesh3d"
           }
          ],
          "parcoords": [
           {
            "line": {
             "colorbar": {
              "outlinewidth": 0,
              "ticks": ""
             }
            },
            "type": "parcoords"
           }
          ],
          "pie": [
           {
            "automargin": true,
            "type": "pie"
           }
          ],
          "scatter": [
           {
            "fillpattern": {
             "fillmode": "overlay",
             "size": 10,
             "solidity": 0.2
            },
            "type": "scatter"
           }
          ],
          "scatter3d": [
           {
            "line": {
             "colorbar": {
              "outlinewidth": 0,
              "ticks": ""
             }
            },
            "marker": {
             "colorbar": {
              "outlinewidth": 0,
              "ticks": ""
             }
            },
            "type": "scatter3d"
           }
          ],
          "scattercarpet": [
           {
            "marker": {
             "colorbar": {
              "outlinewidth": 0,
              "ticks": ""
             }
            },
            "type": "scattercarpet"
           }
          ],
          "scattergeo": [
           {
            "marker": {
             "colorbar": {
              "outlinewidth": 0,
              "ticks": ""
             }
            },
            "type": "scattergeo"
           }
          ],
          "scattergl": [
           {
            "marker": {
             "colorbar": {
              "outlinewidth": 0,
              "ticks": ""
             }
            },
            "type": "scattergl"
           }
          ],
          "scattermapbox": [
           {
            "marker": {
             "colorbar": {
              "outlinewidth": 0,
              "ticks": ""
             }
            },
            "type": "scattermapbox"
           }
          ],
          "scatterpolar": [
           {
            "marker": {
             "colorbar": {
              "outlinewidth": 0,
              "ticks": ""
             }
            },
            "type": "scatterpolar"
           }
          ],
          "scatterpolargl": [
           {
            "marker": {
             "colorbar": {
              "outlinewidth": 0,
              "ticks": ""
             }
            },
            "type": "scatterpolargl"
           }
          ],
          "scatterternary": [
           {
            "marker": {
             "colorbar": {
              "outlinewidth": 0,
              "ticks": ""
             }
            },
            "type": "scatterternary"
           }
          ],
          "surface": [
           {
            "colorbar": {
             "outlinewidth": 0,
             "ticks": ""
            },
            "colorscale": [
             [
              0,
              "#0d0887"
             ],
             [
              0.1111111111111111,
              "#46039f"
             ],
             [
              0.2222222222222222,
              "#7201a8"
             ],
             [
              0.3333333333333333,
              "#9c179e"
             ],
             [
              0.4444444444444444,
              "#bd3786"
             ],
             [
              0.5555555555555556,
              "#d8576b"
             ],
             [
              0.6666666666666666,
              "#ed7953"
             ],
             [
              0.7777777777777778,
              "#fb9f3a"
             ],
             [
              0.8888888888888888,
              "#fdca26"
             ],
             [
              1,
              "#f0f921"
             ]
            ],
            "type": "surface"
           }
          ],
          "table": [
           {
            "cells": {
             "fill": {
              "color": "#EBF0F8"
             },
             "line": {
              "color": "white"
             }
            },
            "header": {
             "fill": {
              "color": "#C8D4E3"
             },
             "line": {
              "color": "white"
             }
            },
            "type": "table"
           }
          ]
         },
         "layout": {
          "annotationdefaults": {
           "arrowcolor": "#2a3f5f",
           "arrowhead": 0,
           "arrowwidth": 1
          },
          "autotypenumbers": "strict",
          "coloraxis": {
           "colorbar": {
            "outlinewidth": 0,
            "ticks": ""
           }
          },
          "colorscale": {
           "diverging": [
            [
             0,
             "#8e0152"
            ],
            [
             0.1,
             "#c51b7d"
            ],
            [
             0.2,
             "#de77ae"
            ],
            [
             0.3,
             "#f1b6da"
            ],
            [
             0.4,
             "#fde0ef"
            ],
            [
             0.5,
             "#f7f7f7"
            ],
            [
             0.6,
             "#e6f5d0"
            ],
            [
             0.7,
             "#b8e186"
            ],
            [
             0.8,
             "#7fbc41"
            ],
            [
             0.9,
             "#4d9221"
            ],
            [
             1,
             "#276419"
            ]
           ],
           "sequential": [
            [
             0,
             "#0d0887"
            ],
            [
             0.1111111111111111,
             "#46039f"
            ],
            [
             0.2222222222222222,
             "#7201a8"
            ],
            [
             0.3333333333333333,
             "#9c179e"
            ],
            [
             0.4444444444444444,
             "#bd3786"
            ],
            [
             0.5555555555555556,
             "#d8576b"
            ],
            [
             0.6666666666666666,
             "#ed7953"
            ],
            [
             0.7777777777777778,
             "#fb9f3a"
            ],
            [
             0.8888888888888888,
             "#fdca26"
            ],
            [
             1,
             "#f0f921"
            ]
           ],
           "sequentialminus": [
            [
             0,
             "#0d0887"
            ],
            [
             0.1111111111111111,
             "#46039f"
            ],
            [
             0.2222222222222222,
             "#7201a8"
            ],
            [
             0.3333333333333333,
             "#9c179e"
            ],
            [
             0.4444444444444444,
             "#bd3786"
            ],
            [
             0.5555555555555556,
             "#d8576b"
            ],
            [
             0.6666666666666666,
             "#ed7953"
            ],
            [
             0.7777777777777778,
             "#fb9f3a"
            ],
            [
             0.8888888888888888,
             "#fdca26"
            ],
            [
             1,
             "#f0f921"
            ]
           ]
          },
          "colorway": [
           "#636efa",
           "#EF553B",
           "#00cc96",
           "#ab63fa",
           "#FFA15A",
           "#19d3f3",
           "#FF6692",
           "#B6E880",
           "#FF97FF",
           "#FECB52"
          ],
          "font": {
           "color": "#2a3f5f"
          },
          "geo": {
           "bgcolor": "white",
           "lakecolor": "white",
           "landcolor": "#E5ECF6",
           "showlakes": true,
           "showland": true,
           "subunitcolor": "white"
          },
          "hoverlabel": {
           "align": "left"
          },
          "hovermode": "closest",
          "mapbox": {
           "style": "light"
          },
          "paper_bgcolor": "white",
          "plot_bgcolor": "#E5ECF6",
          "polar": {
           "angularaxis": {
            "gridcolor": "white",
            "linecolor": "white",
            "ticks": ""
           },
           "bgcolor": "#E5ECF6",
           "radialaxis": {
            "gridcolor": "white",
            "linecolor": "white",
            "ticks": ""
           }
          },
          "scene": {
           "xaxis": {
            "backgroundcolor": "#E5ECF6",
            "gridcolor": "white",
            "gridwidth": 2,
            "linecolor": "white",
            "showbackground": true,
            "ticks": "",
            "zerolinecolor": "white"
           },
           "yaxis": {
            "backgroundcolor": "#E5ECF6",
            "gridcolor": "white",
            "gridwidth": 2,
            "linecolor": "white",
            "showbackground": true,
            "ticks": "",
            "zerolinecolor": "white"
           },
           "zaxis": {
            "backgroundcolor": "#E5ECF6",
            "gridcolor": "white",
            "gridwidth": 2,
            "linecolor": "white",
            "showbackground": true,
            "ticks": "",
            "zerolinecolor": "white"
           }
          },
          "shapedefaults": {
           "line": {
            "color": "#2a3f5f"
           }
          },
          "ternary": {
           "aaxis": {
            "gridcolor": "white",
            "linecolor": "white",
            "ticks": ""
           },
           "baxis": {
            "gridcolor": "white",
            "linecolor": "white",
            "ticks": ""
           },
           "bgcolor": "#E5ECF6",
           "caxis": {
            "gridcolor": "white",
            "linecolor": "white",
            "ticks": ""
           }
          },
          "title": {
           "x": 0.05
          },
          "xaxis": {
           "automargin": true,
           "gridcolor": "white",
           "linecolor": "white",
           "ticks": "",
           "title": {
            "standoff": 15
           },
           "zerolinecolor": "white",
           "zerolinewidth": 2
          },
          "yaxis": {
           "automargin": true,
           "gridcolor": "white",
           "linecolor": "white",
           "ticks": "",
           "title": {
            "standoff": 15
           },
           "zerolinecolor": "white",
           "zerolinewidth": 2
          }
         }
        },
        "title": {
         "text": "RL Strategy: maker fee = -0.004%"
        },
        "xaxis": {
         "anchor": "y",
         "domain": [
          0,
          1
         ]
        },
        "xaxis2": {
         "anchor": "y2",
         "domain": [
          0,
          1
         ]
        },
        "xaxis3": {
         "anchor": "y3",
         "domain": [
          0,
          1
         ]
        },
        "yaxis": {
         "anchor": "x",
         "domain": [
          0.7777777777777778,
          1
         ],
         "title": {
          "text": "USD"
         }
        },
        "yaxis2": {
         "anchor": "x2",
         "domain": [
          0.3888888888888889,
          0.6111111111111112
         ],
         "title": {
          "text": "USD"
         }
        },
        "yaxis3": {
         "anchor": "x3",
         "domain": [
          0,
          0.22222222222222224
         ],
         "title": {
          "text": "BTC"
         }
        }
       }
      },
      "text/html": [
       "<div>                            <div id=\"ac284d86-d88e-4d40-8503-660d45334f89\" class=\"plotly-graph-div\" style=\"height:700px; width:100%;\"></div>            <script type=\"text/javascript\">                require([\"plotly\"], function(Plotly) {                    window.PLOTLYENV=window.PLOTLYENV || {};                                    if (document.getElementById(\"ac284d86-d88e-4d40-8503-660d45334f89\")) {                    Plotly.newPlot(                        \"ac284d86-d88e-4d40-8503-660d45334f89\",                        [{\"name\":\"Price\",\"x\":[\"2023-01-02T17:58:30.259502\",\"2023-01-02T17:58:42.366152\",\"2023-01-02T17:58:53.372051\",\"2023-01-02T17:59:00.376395\",\"2023-01-02T17:59:12.600699\",\"2023-01-02T17:59:25.891350\",\"2023-01-02T17:59:41.199662\",\"2023-01-02T17:59:50.805713\",\"2023-01-02T17:59:59.992699\",\"2023-01-02T18:00:08.515977\",\"2023-01-02T18:00:22.123577\",\"2023-01-02T18:00:33.829512\",\"2023-01-02T18:00:47.936940\",\"2023-01-02T18:00:59.981642\",\"2023-01-02T18:01:08.648351\",\"2023-01-02T18:01:23.657161\",\"2023-01-02T18:01:36.064442\",\"2023-01-02T18:01:49.172055\",\"2023-01-02T18:01:59.962642\",\"2023-01-02T18:02:10.383833\",\"2023-01-02T18:02:25.992972\",\"2023-01-02T18:02:42.102595\",\"2023-01-02T18:02:52.607925\",\"2023-01-02T18:03:00.021642\",\"2023-01-02T18:03:10.818536\",\"2023-01-02T18:03:21.024305\",\"2023-01-02T18:03:31.929713\",\"2023-01-02T18:03:45.336972\",\"2023-01-02T18:03:57.044442\",\"2023-01-02T18:04:02.743642\",\"2023-01-02T18:04:15.355418\",\"2023-01-02T18:04:27.762065\",\"2023-01-02T18:04:42.270522\",\"2023-01-02T18:04:57.579124\",\"2023-01-02T18:05:04.282658\",\"2023-01-02T18:05:14.788909\",\"2023-01-02T18:05:32.498821\",\"2023-01-02T18:05:46.706706\",\"2023-01-02T18:05:59.958642\",\"2023-01-02T18:06:07.819374\",\"2023-01-02T18:06:15.423516\",\"2023-01-02T18:06:26.530143\",\"2023-01-02T18:06:38.737401\",\"2023-01-02T18:06:49.242365\",\"2023-01-02T18:06:59.347811\",\"2023-01-02T18:07:04.351574\",\"2023-01-02T18:07:14.757272\",\"2023-01-02T18:07:24.863395\",\"2023-01-02T18:07:36.170053\",\"2023-01-02T18:07:47.176035\",\"2023-01-02T18:07:59.283457\",\"2023-01-02T18:08:05.485918\",\"2023-01-02T18:08:14.191546\",\"2023-01-02T18:08:24.896940\",\"2023-01-02T18:08:32.901252\",\"2023-01-02T18:08:42.407446\",\"2023-01-02T18:08:52.212265\",\"2023-01-02T18:09:00.004642\",\"2023-01-02T18:09:08.221379\",\"2023-01-02T18:09:21.229022\",\"2023-01-02T18:09:32.435258\",\"2023-01-02T18:09:43.040749\",\"2023-01-02T18:09:56.248178\",\"2023-01-02T18:10:02.451993\",\"2023-01-02T18:10:13.559255\",\"2023-01-02T18:10:27.566362\",\"2023-01-02T18:10:40.372691\",\"2023-01-02T18:10:51.179116\",\"2023-01-02T18:10:59.974642\",\"2023-01-02T18:11:08.388943\",\"2023-01-02T18:11:20.495960\",\"2023-01-02T18:11:33.503069\",\"2023-01-02T18:11:44.608703\",\"2023-01-02T18:11:56.016556\",\"2023-01-02T18:12:02.019539\",\"2023-01-02T18:12:12.424663\",\"2023-01-02T18:12:24.459999\",\"2023-01-02T18:12:36.238763\",\"2023-01-02T18:12:47.544634\",\"2023-01-02T18:12:59.945642\",\"2023-01-02T18:13:06.656457\",\"2023-01-02T18:13:19.763546\",\"2023-01-02T18:13:29.869332\",\"2023-01-02T18:13:41.075575\",\"2023-01-02T18:13:53.382432\",\"2023-01-02T18:14:00.486470\",\"2023-01-02T18:14:11.893402\",\"2023-01-02T18:14:22.599586\",\"2023-01-02T18:14:34.405986\",\"2023-01-02T18:14:46.212940\",\"2023-01-02T18:14:59.320554\",\"2023-01-02T18:15:04.522644\",\"2023-01-02T18:15:14.529179\",\"2023-01-02T18:15:25.734776\",\"2023-01-02T18:15:38.342351\",\"2023-01-02T18:15:49.549450\",\"2023-01-02T18:15:59.949642\",\"2023-01-02T18:16:05.458018\",\"2023-01-02T18:16:15.864128\",\"2023-01-02T18:16:28.270449\",\"2023-01-02T18:16:40.276871\",\"2023-01-02T18:16:54.985822\",\"2023-01-02T18:17:05.529642\",\"2023-01-02T18:17:21.900805\",\"2023-01-02T18:17:39.912037\",\"2023-01-02T18:17:53.019586\",\"2023-01-02T18:18:00.032642\",\"2023-01-02T18:18:10.129449\",\"2023-01-02T18:18:20.835386\",\"2023-01-02T18:18:31.140862\",\"2023-01-02T18:18:41.346448\",\"2023-01-02T18:18:54.054372\",\"2023-01-02T18:19:01.157952\",\"2023-01-02T18:19:16.567539\",\"2023-01-02T18:19:31.175177\",\"2023-01-02T18:19:45.782942\",\"2023-01-02T18:19:58.690690\",\"2023-01-02T18:20:04.695310\",\"2023-01-02T18:20:15.601487\",\"2023-01-02T18:20:28.208263\",\"2023-01-02T18:20:41.214705\",\"2023-01-02T18:20:51.421365\",\"2023-01-02T18:20:59.424642\",\"2023-01-02T18:21:04.828008\",\"2023-01-02T18:21:16.034280\",\"2023-01-02T18:21:28.842540\",\"2023-01-02T18:21:42.149193\",\"2023-01-02T18:21:53.054743\",\"2023-01-02T18:22:00.025642\",\"2023-01-02T18:22:11.065055\",\"2023-01-02T18:22:19.470291\",\"2023-01-02T18:22:26.874154\",\"2023-01-02T18:22:36.980229\",\"2023-01-02T18:22:49.987038\",\"2023-01-02T18:23:00.003642\",\"2023-01-02T18:23:07.997541\",\"2023-01-02T18:23:18.603488\",\"2023-01-02T18:23:30.710593\",\"2023-01-02T18:23:42.116089\",\"2023-01-02T18:23:53.723273\",\"2023-01-02T18:24:00.527312\",\"2023-01-02T18:24:11.233352\",\"2023-01-02T18:24:22.038980\",\"2023-01-02T18:24:32.744896\",\"2023-01-02T18:24:39.549091\",\"2023-01-02T18:24:49.454793\",\"2023-01-02T18:24:59.760517\",\"2023-01-02T18:25:04.863236\",\"2023-01-02T18:25:14.716642\",\"2023-01-02T18:25:24.673817\",\"2023-01-02T18:25:36.481129\",\"2023-01-02T18:25:47.186692\",\"2023-01-02T18:25:57.191709\",\"2023-01-02T18:26:03.395692\",\"2023-01-02T18:26:13.302200\",\"2023-01-02T18:26:23.306835\",\"2023-01-02T18:26:34.113468\",\"2023-01-02T18:26:47.520876\",\"2023-01-02T18:26:55.226340\",\"2023-01-02T18:27:00.775642\",\"2023-01-02T18:27:10.233680\",\"2023-01-02T18:27:20.139602\",\"2023-01-02T18:27:31.146097\",\"2023-01-02T18:27:43.852690\",\"2023-01-02T18:27:55.759743\",\"2023-01-02T18:28:01.364173\",\"2023-01-02T18:28:12.326642\",\"2023-01-02T18:28:20.474619\",\"2023-01-02T18:28:31.180645\",\"2023-01-02T18:28:42.986874\",\"2023-01-02T18:28:54.294410\",\"2023-01-02T18:29:00.797885\",\"2023-01-02T18:29:11.103076\",\"2023-01-02T18:29:21.709047\",\"2023-01-02T18:29:35.370642\",\"2023-01-02T18:29:49.524816\",\"2023-01-02T18:29:59.998642\",\"2023-01-02T18:30:09.837313\",\"2023-01-02T18:30:20.543560\",\"2023-01-02T18:30:29.827642\",\"2023-01-02T18:30:40.354260\",\"2023-01-02T18:30:52.461156\",\"2023-01-02T18:31:00.019642\",\"2023-01-02T18:31:07.268660\",\"2023-01-02T18:31:19.676153\",\"2023-01-02T18:31:31.082928\",\"2023-01-02T18:31:41.989136\",\"2023-01-02T18:31:53.194600\",\"2023-01-02T18:32:00.027642\",\"2023-01-02T18:32:10.604797\",\"2023-01-02T18:32:22.187642\",\"2023-01-02T18:32:32.017022\",\"2023-01-02T18:32:45.825033\",\"2023-01-02T18:32:59.983642\",\"2023-01-02T18:33:10.738982\",\"2023-01-02T18:33:18.943820\",\"2023-01-02T18:33:29.250378\",\"2023-01-02T18:33:38.554782\",\"2023-01-02T18:33:48.061348\",\"2023-01-02T18:33:59.969642\",\"2023-01-02T18:34:05.770966\",\"2023-01-02T18:34:16.277029\",\"2023-01-02T18:34:27.582827\",\"2023-01-02T18:34:41.191242\",\"2023-01-02T18:34:51.697969\",\"2023-01-02T18:35:00.703348\",\"2023-01-02T18:35:11.309518\",\"2023-01-02T18:35:21.314643\",\"2023-01-02T18:35:31.720911\",\"2023-01-02T18:35:44.955642\",\"2023-01-02T18:35:59.536719\",\"2023-01-02T18:36:06.914642\",\"2023-01-02T18:36:19.648152\",\"2023-01-02T18:36:29.052653\",\"2023-01-02T18:36:41.160302\",\"2023-01-02T18:36:53.366829\",\"2023-01-02T18:37:00.001642\",\"2023-01-02T18:37:12.176803\",\"2023-01-02T18:37:24.084561\",\"2023-01-02T18:37:36.592576\",\"2023-01-02T18:37:51.699669\",\"2023-01-02T18:38:00.505272\",\"2023-01-02T18:38:11.811683\",\"2023-01-02T18:38:21.316671\",\"2023-01-02T18:38:32.423836\",\"2023-01-02T18:38:45.631403\",\"2023-01-02T18:38:58.038405\",\"2023-01-02T18:39:03.641999\",\"2023-01-02T18:39:15.349245\",\"2023-01-02T18:39:25.378642\",\"2023-01-02T18:39:35.259881\",\"2023-01-02T18:39:45.466172\",\"2023-01-02T18:39:57.673515\",\"2023-01-02T18:40:03.276572\",\"2023-01-02T18:40:13.482256\",\"2023-01-02T18:40:24.588044\",\"2023-01-02T18:40:36.095187\",\"2023-01-02T18:40:47.500934\",\"2023-01-02T18:40:55.706109\",\"2023-01-02T18:41:01.108712\",\"2023-01-02T18:41:07.713245\",\"2023-01-02T18:41:18.719321\",\"2023-01-02T18:41:30.725597\",\"2023-01-02T18:41:41.932556\",\"2023-01-02T18:41:52.537920\",\"2023-01-02T18:42:00.016642\",\"2023-01-02T18:42:10.648880\",\"2023-01-02T18:42:25.357633\",\"2023-01-02T18:42:40.565867\",\"2023-01-02T18:42:51.572744\",\"2023-01-02T18:43:00.000642\",\"2023-01-02T18:43:08.369642\",\"2023-01-02T18:43:19.989592\",\"2023-01-02T18:43:35.298242\",\"2023-01-02T18:43:46.403870\",\"2023-01-02T18:43:58.285642\",\"2023-01-02T18:44:03.614576\",\"2023-01-02T18:44:14.119798\",\"2023-01-02T18:44:25.427436\",\"2023-01-02T18:44:40.635983\",\"2023-01-02T18:44:51.142267\",\"2023-01-02T18:44:59.974642\",\"2023-01-02T18:45:06.951117\",\"2023-01-02T18:45:17.858581\",\"2023-01-02T18:45:30.764635\",\"2023-01-02T18:45:47.374372\",\"2023-01-02T18:45:56.479219\",\"2023-01-02T18:46:01.482053\",\"2023-01-02T18:46:12.435642\",\"2023-01-02T18:46:23.060642\",\"2023-01-02T18:46:32.400485\",\"2023-01-02T18:46:42.504859\",\"2023-01-02T18:46:47.157000\",\"2023-01-02T18:46:56.512624\",\"2023-01-02T18:47:01.415374\",\"2023-01-02T18:47:13.522465\",\"2023-01-02T18:47:25.830023\",\"2023-01-02T18:47:36.436519\",\"2023-01-02T18:47:51.243939\",\"2023-01-02T18:48:00.011642\",\"2023-01-02T18:48:08.554170\",\"2023-01-02T18:48:19.760577\",\"2023-01-02T18:48:30.666947\",\"2023-01-02T18:48:43.774461\",\"2023-01-02T18:48:55.180682\",\"2023-01-02T18:49:03.084791\",\"2023-01-02T18:49:11.789825\",\"2023-01-02T18:49:22.079642\",\"2023-01-02T18:49:32.000834\",\"2023-01-02T18:49:41.907013\",\"2023-01-02T18:49:50.510993\",\"2023-01-02T18:49:59.953642\",\"2023-01-02T18:50:05.220224\",\"2023-01-02T18:50:16.825886\",\"2023-01-02T18:50:29.133450\",\"2023-01-02T18:50:41.239860\",\"2023-01-02T18:50:53.346700\",\"2023-01-02T18:51:00.034642\",\"2023-01-02T18:51:06.847642\",\"2023-01-02T18:51:14.359465\",\"2023-01-02T18:51:26.366411\",\"2023-01-02T18:51:37.772095\",\"2023-01-02T18:51:50.178983\"],\"y\":[1217.1350000000002,1217.1350000000002,1217.1350000000002,1217.1350000000002,1217.1350000000002,1217.1350000000002,1217.1350000000002,1217.085,1217.085,1217.085,1217.085,1217.085,1217.085,1217.085,1217.085,1217.085,1217.085,1217.085,1217.085,1217.085,1217.085,1217.085,1217.1350000000002,1217.1350000000002,1217.1350000000002,1217.1350000000002,1217.1350000000002,1217.1149999999998,1217.1149999999998,1217.0949999999998,1217.0949999999998,1217.005,1217.005,1217.005,1217.005,1217.005,1217.005,1217.005,1216.9850000000001,1216.9650000000001,1216.685,1216.685,1216.685,1216.685,1216.685,1216.685,1216.685,1216.685,1216.685,1216.685,1216.685,1216.685,1216.665,1216.665,1216.755,1216.875,1216.875,1216.875,1216.875,1216.875,1216.875,1216.875,1216.875,1216.875,1216.875,1216.8449999999998,1216.8449999999998,1216.8449999999998,1216.8449999999998,1216.8449999999998,1216.8449999999998,1216.8449999999998,1216.8449999999998,1216.8449999999998,1216.8449999999998,1216.8449999999998,1216.8449999999998,1216.8449999999998,1216.8449999999998,1216.8449999999998,1216.8449999999998,1216.8449999999998,1216.7849999999999,1216.7849999999999,1216.7849999999999,1216.7849999999999,1216.7849999999999,1216.7849999999999,1216.7849999999999,1216.7849999999999,1216.7849999999999,1216.745,1216.745,1216.745,1216.745,1216.745,1217.0749999999998,1217.0949999999998,1217.1350000000002,1217.1350000000002,1217.1350000000002,1217.1350000000002,1217.1350000000002,1217.1350000000002,1217.1350000000002,1217.1350000000002,1217.1350000000002,1217.1550000000002,1217.1550000000002,1217.1550000000002,1217.2649999999999,1217.355,1217.355,1217.355,1217.355,1217.355,1217.355,1217.355,1217.355,1217.355,1217.355,1217.605,1217.8449999999998,1217.8449999999998,1217.8449999999998,1217.855,1217.855,1217.855,1217.855,1217.855,1218.0749999999998,1218.145,1218.145,1218.145,1218.145,1218.105,1218.105,1218.105,1218.125,1218.125,1218.125,1218.125,1218.125,1218.125,1217.745,1217.7150000000001,1217.5949999999998,1217.505,1217.505,1217.505,1217.505,1217.505,1217.505,1217.505,1217.645,1217.645,1217.645,1217.645,1217.975,1217.975,1218.1149999999998,1218.1149999999998,1218.1149999999998,1218.1149999999998,1218.1149999999998,1218.1149999999998,1218.1149999999998,1217.975,1217.975,1217.975,1217.975,1217.975,1217.8850000000002,1217.8449999999998,1217.8449999999998,1217.8449999999998,1217.8449999999998,1217.8449999999998,1217.8449999999998,1217.85,1217.955,1218.0149999999999,1218.0149999999999,1218.005,1218.005,1217.835,1217.755,1217.755,1217.755,1217.795,1217.795,1217.795,1217.795,1217.795,1217.795,1217.9250000000002,1217.9250000000002,1217.9250000000002,1217.9250000000002,1217.9250000000002,1217.9250000000002,1217.9250000000002,1217.995,1217.995,1217.995,1217.995,1217.995,1217.995,1217.995,1217.995,1217.995,1217.9850000000001,1217.975,1217.975,1217.975,1217.975,1217.975,1217.975,1217.975,1217.975,1217.975,1217.975,1217.975,1217.975,1217.975,1217.9850000000001,1217.995,1217.995,1217.995,1218.0749999999998,1218.105,1218.1149999999998,1218.1149999999998,1218.1149999999998,1218.125,1218.125,1218.125,1218.125,1217.815,1217.815,1217.935,1217.935,1217.935,1217.935,1217.935,1217.935,1217.935,1217.935,1217.935,1217.935,1217.935,1217.935,1217.935,1217.935,1217.935,1217.935,1217.935,1217.935,1217.935,1217.935,1217.935,1217.935,1217.935,1217.935,1217.935,1217.935,1218.0349999999999,1218.0349999999999,1218.0349999999999,1218.0349999999999,1218.0349999999999,1218.0349999999999,1218.4850000000001,1218.565,1218.665,1218.665,1218.665,1218.5949999999998,1218.5949999999998,1218.5949999999998,1218.5949999999998,1218.5949999999998,1218.5949999999998,1218.5949999999998,1218.6350000000002,1218.6350000000002,1218.8249999999998,1218.8249999999998,1218.8249999999998,1218.935,1219.0549999999998,1219.0549999999998,1219.0149999999999,1219.0149999999999,1219.0149999999999,1219.0149999999999,1219.0149999999999,1219.0149999999999,1219.005,1218.875,1218.875,1218.875,1218.875],\"type\":\"scatter\",\"xaxis\":\"x\",\"yaxis\":\"y\"},{\"name\":\"PnL without fees\",\"x\":[\"2023-01-02T17:58:30.259502\",\"2023-01-02T17:58:42.366152\",\"2023-01-02T17:58:53.372051\",\"2023-01-02T17:59:00.376395\",\"2023-01-02T17:59:12.600699\",\"2023-01-02T17:59:25.891350\",\"2023-01-02T17:59:41.199662\",\"2023-01-02T17:59:50.805713\",\"2023-01-02T17:59:59.992699\",\"2023-01-02T18:00:08.515977\",\"2023-01-02T18:00:22.123577\",\"2023-01-02T18:00:33.829512\",\"2023-01-02T18:00:47.936940\",\"2023-01-02T18:00:59.981642\",\"2023-01-02T18:01:08.648351\",\"2023-01-02T18:01:23.657161\",\"2023-01-02T18:01:36.064442\",\"2023-01-02T18:01:49.172055\",\"2023-01-02T18:01:59.962642\",\"2023-01-02T18:02:10.383833\",\"2023-01-02T18:02:25.992972\",\"2023-01-02T18:02:42.102595\",\"2023-01-02T18:02:52.607925\",\"2023-01-02T18:03:00.021642\",\"2023-01-02T18:03:10.818536\",\"2023-01-02T18:03:21.024305\",\"2023-01-02T18:03:31.929713\",\"2023-01-02T18:03:45.336972\",\"2023-01-02T18:03:57.044442\",\"2023-01-02T18:04:02.743642\",\"2023-01-02T18:04:15.355418\",\"2023-01-02T18:04:27.762065\",\"2023-01-02T18:04:42.270522\",\"2023-01-02T18:04:57.579124\",\"2023-01-02T18:05:04.282658\",\"2023-01-02T18:05:14.788909\",\"2023-01-02T18:05:32.498821\",\"2023-01-02T18:05:46.706706\",\"2023-01-02T18:05:59.958642\",\"2023-01-02T18:06:07.819374\",\"2023-01-02T18:06:15.423516\",\"2023-01-02T18:06:26.530143\",\"2023-01-02T18:06:38.737401\",\"2023-01-02T18:06:49.242365\",\"2023-01-02T18:06:59.347811\",\"2023-01-02T18:07:04.351574\",\"2023-01-02T18:07:14.757272\",\"2023-01-02T18:07:24.863395\",\"2023-01-02T18:07:36.170053\",\"2023-01-02T18:07:47.176035\",\"2023-01-02T18:07:59.283457\",\"2023-01-02T18:08:05.485918\",\"2023-01-02T18:08:14.191546\",\"2023-01-02T18:08:24.896940\",\"2023-01-02T18:08:32.901252\",\"2023-01-02T18:08:42.407446\",\"2023-01-02T18:08:52.212265\",\"2023-01-02T18:09:00.004642\",\"2023-01-02T18:09:08.221379\",\"2023-01-02T18:09:21.229022\",\"2023-01-02T18:09:32.435258\",\"2023-01-02T18:09:43.040749\",\"2023-01-02T18:09:56.248178\",\"2023-01-02T18:10:02.451993\",\"2023-01-02T18:10:13.559255\",\"2023-01-02T18:10:27.566362\",\"2023-01-02T18:10:40.372691\",\"2023-01-02T18:10:51.179116\",\"2023-01-02T18:10:59.974642\",\"2023-01-02T18:11:08.388943\",\"2023-01-02T18:11:20.495960\",\"2023-01-02T18:11:33.503069\",\"2023-01-02T18:11:44.608703\",\"2023-01-02T18:11:56.016556\",\"2023-01-02T18:12:02.019539\",\"2023-01-02T18:12:12.424663\",\"2023-01-02T18:12:24.459999\",\"2023-01-02T18:12:36.238763\",\"2023-01-02T18:12:47.544634\",\"2023-01-02T18:12:59.945642\",\"2023-01-02T18:13:06.656457\",\"2023-01-02T18:13:19.763546\",\"2023-01-02T18:13:29.869332\",\"2023-01-02T18:13:41.075575\",\"2023-01-02T18:13:53.382432\",\"2023-01-02T18:14:00.486470\",\"2023-01-02T18:14:11.893402\",\"2023-01-02T18:14:22.599586\",\"2023-01-02T18:14:34.405986\",\"2023-01-02T18:14:46.212940\",\"2023-01-02T18:14:59.320554\",\"2023-01-02T18:15:04.522644\",\"2023-01-02T18:15:14.529179\",\"2023-01-02T18:15:25.734776\",\"2023-01-02T18:15:38.342351\",\"2023-01-02T18:15:49.549450\",\"2023-01-02T18:15:59.949642\",\"2023-01-02T18:16:05.458018\",\"2023-01-02T18:16:15.864128\",\"2023-01-02T18:16:28.270449\",\"2023-01-02T18:16:40.276871\",\"2023-01-02T18:16:54.985822\",\"2023-01-02T18:17:05.529642\",\"2023-01-02T18:17:21.900805\",\"2023-01-02T18:17:39.912037\",\"2023-01-02T18:17:53.019586\",\"2023-01-02T18:18:00.032642\",\"2023-01-02T18:18:10.129449\",\"2023-01-02T18:18:20.835386\",\"2023-01-02T18:18:31.140862\",\"2023-01-02T18:18:41.346448\",\"2023-01-02T18:18:54.054372\",\"2023-01-02T18:19:01.157952\",\"2023-01-02T18:19:16.567539\",\"2023-01-02T18:19:31.175177\",\"2023-01-02T18:19:45.782942\",\"2023-01-02T18:19:58.690690\",\"2023-01-02T18:20:04.695310\",\"2023-01-02T18:20:15.601487\",\"2023-01-02T18:20:28.208263\",\"2023-01-02T18:20:41.214705\",\"2023-01-02T18:20:51.421365\",\"2023-01-02T18:20:59.424642\",\"2023-01-02T18:21:04.828008\",\"2023-01-02T18:21:16.034280\",\"2023-01-02T18:21:28.842540\",\"2023-01-02T18:21:42.149193\",\"2023-01-02T18:21:53.054743\",\"2023-01-02T18:22:00.025642\",\"2023-01-02T18:22:11.065055\",\"2023-01-02T18:22:19.470291\",\"2023-01-02T18:22:26.874154\",\"2023-01-02T18:22:36.980229\",\"2023-01-02T18:22:49.987038\",\"2023-01-02T18:23:00.003642\",\"2023-01-02T18:23:07.997541\",\"2023-01-02T18:23:18.603488\",\"2023-01-02T18:23:30.710593\",\"2023-01-02T18:23:42.116089\",\"2023-01-02T18:23:53.723273\",\"2023-01-02T18:24:00.527312\",\"2023-01-02T18:24:11.233352\",\"2023-01-02T18:24:22.038980\",\"2023-01-02T18:24:32.744896\",\"2023-01-02T18:24:39.549091\",\"2023-01-02T18:24:49.454793\",\"2023-01-02T18:24:59.760517\",\"2023-01-02T18:25:04.863236\",\"2023-01-02T18:25:14.716642\",\"2023-01-02T18:25:24.673817\",\"2023-01-02T18:25:36.481129\",\"2023-01-02T18:25:47.186692\",\"2023-01-02T18:25:57.191709\",\"2023-01-02T18:26:03.395692\",\"2023-01-02T18:26:13.302200\",\"2023-01-02T18:26:23.306835\",\"2023-01-02T18:26:34.113468\",\"2023-01-02T18:26:47.520876\",\"2023-01-02T18:26:55.226340\",\"2023-01-02T18:27:00.775642\",\"2023-01-02T18:27:10.233680\",\"2023-01-02T18:27:20.139602\",\"2023-01-02T18:27:31.146097\",\"2023-01-02T18:27:43.852690\",\"2023-01-02T18:27:55.759743\",\"2023-01-02T18:28:01.364173\",\"2023-01-02T18:28:12.326642\",\"2023-01-02T18:28:20.474619\",\"2023-01-02T18:28:31.180645\",\"2023-01-02T18:28:42.986874\",\"2023-01-02T18:28:54.294410\",\"2023-01-02T18:29:00.797885\",\"2023-01-02T18:29:11.103076\",\"2023-01-02T18:29:21.709047\",\"2023-01-02T18:29:35.370642\",\"2023-01-02T18:29:49.524816\",\"2023-01-02T18:29:59.998642\",\"2023-01-02T18:30:09.837313\",\"2023-01-02T18:30:20.543560\",\"2023-01-02T18:30:29.827642\",\"2023-01-02T18:30:40.354260\",\"2023-01-02T18:30:52.461156\",\"2023-01-02T18:31:00.019642\",\"2023-01-02T18:31:07.268660\",\"2023-01-02T18:31:19.676153\",\"2023-01-02T18:31:31.082928\",\"2023-01-02T18:31:41.989136\",\"2023-01-02T18:31:53.194600\",\"2023-01-02T18:32:00.027642\",\"2023-01-02T18:32:10.604797\",\"2023-01-02T18:32:22.187642\",\"2023-01-02T18:32:32.017022\",\"2023-01-02T18:32:45.825033\",\"2023-01-02T18:32:59.983642\",\"2023-01-02T18:33:10.738982\",\"2023-01-02T18:33:18.943820\",\"2023-01-02T18:33:29.250378\",\"2023-01-02T18:33:38.554782\",\"2023-01-02T18:33:48.061348\",\"2023-01-02T18:33:59.969642\",\"2023-01-02T18:34:05.770966\",\"2023-01-02T18:34:16.277029\",\"2023-01-02T18:34:27.582827\",\"2023-01-02T18:34:41.191242\",\"2023-01-02T18:34:51.697969\",\"2023-01-02T18:35:00.703348\",\"2023-01-02T18:35:11.309518\",\"2023-01-02T18:35:21.314643\",\"2023-01-02T18:35:31.720911\",\"2023-01-02T18:35:44.955642\",\"2023-01-02T18:35:59.536719\",\"2023-01-02T18:36:06.914642\",\"2023-01-02T18:36:19.648152\",\"2023-01-02T18:36:29.052653\",\"2023-01-02T18:36:41.160302\",\"2023-01-02T18:36:53.366829\",\"2023-01-02T18:37:00.001642\",\"2023-01-02T18:37:12.176803\",\"2023-01-02T18:37:24.084561\",\"2023-01-02T18:37:36.592576\",\"2023-01-02T18:37:51.699669\",\"2023-01-02T18:38:00.505272\",\"2023-01-02T18:38:11.811683\",\"2023-01-02T18:38:21.316671\",\"2023-01-02T18:38:32.423836\",\"2023-01-02T18:38:45.631403\",\"2023-01-02T18:38:58.038405\",\"2023-01-02T18:39:03.641999\",\"2023-01-02T18:39:15.349245\",\"2023-01-02T18:39:25.378642\",\"2023-01-02T18:39:35.259881\",\"2023-01-02T18:39:45.466172\",\"2023-01-02T18:39:57.673515\",\"2023-01-02T18:40:03.276572\",\"2023-01-02T18:40:13.482256\",\"2023-01-02T18:40:24.588044\",\"2023-01-02T18:40:36.095187\",\"2023-01-02T18:40:47.500934\",\"2023-01-02T18:40:55.706109\",\"2023-01-02T18:41:01.108712\",\"2023-01-02T18:41:07.713245\",\"2023-01-02T18:41:18.719321\",\"2023-01-02T18:41:30.725597\",\"2023-01-02T18:41:41.932556\",\"2023-01-02T18:41:52.537920\",\"2023-01-02T18:42:00.016642\",\"2023-01-02T18:42:10.648880\",\"2023-01-02T18:42:25.357633\",\"2023-01-02T18:42:40.565867\",\"2023-01-02T18:42:51.572744\",\"2023-01-02T18:43:00.000642\",\"2023-01-02T18:43:08.369642\",\"2023-01-02T18:43:19.989592\",\"2023-01-02T18:43:35.298242\",\"2023-01-02T18:43:46.403870\",\"2023-01-02T18:43:58.285642\",\"2023-01-02T18:44:03.614576\",\"2023-01-02T18:44:14.119798\",\"2023-01-02T18:44:25.427436\",\"2023-01-02T18:44:40.635983\",\"2023-01-02T18:44:51.142267\",\"2023-01-02T18:44:59.974642\",\"2023-01-02T18:45:06.951117\",\"2023-01-02T18:45:17.858581\",\"2023-01-02T18:45:30.764635\",\"2023-01-02T18:45:47.374372\",\"2023-01-02T18:45:56.479219\",\"2023-01-02T18:46:01.482053\",\"2023-01-02T18:46:12.435642\",\"2023-01-02T18:46:23.060642\",\"2023-01-02T18:46:32.400485\",\"2023-01-02T18:46:42.504859\",\"2023-01-02T18:46:47.157000\",\"2023-01-02T18:46:56.512624\",\"2023-01-02T18:47:01.415374\",\"2023-01-02T18:47:13.522465\",\"2023-01-02T18:47:25.830023\",\"2023-01-02T18:47:36.436519\",\"2023-01-02T18:47:51.243939\",\"2023-01-02T18:48:00.011642\",\"2023-01-02T18:48:08.554170\",\"2023-01-02T18:48:19.760577\",\"2023-01-02T18:48:30.666947\",\"2023-01-02T18:48:43.774461\",\"2023-01-02T18:48:55.180682\",\"2023-01-02T18:49:03.084791\",\"2023-01-02T18:49:11.789825\",\"2023-01-02T18:49:22.079642\",\"2023-01-02T18:49:32.000834\",\"2023-01-02T18:49:41.907013\",\"2023-01-02T18:49:50.510993\",\"2023-01-02T18:49:59.953642\",\"2023-01-02T18:50:05.220224\",\"2023-01-02T18:50:16.825886\",\"2023-01-02T18:50:29.133450\",\"2023-01-02T18:50:41.239860\",\"2023-01-02T18:50:53.346700\",\"2023-01-02T18:51:00.034642\",\"2023-01-02T18:51:06.847642\",\"2023-01-02T18:51:14.359465\",\"2023-01-02T18:51:26.366411\",\"2023-01-02T18:51:37.772095\",\"2023-01-02T18:51:50.178983\"],\"y\":[0.0,4.999999999988347e-05,9.999999999976694e-05,9.999999999976694e-05,9.999999999976694e-05,9.999999999976694e-05,9.999999999976694e-05,9.999999999976694e-05,9.999999999976694e-05,9.999999999976694e-05,9.999999999976694e-05,9.999999999976694e-05,9.999999999976694e-05,9.999999999976694e-05,9.999999999976694e-05,9.999999999976694e-05,9.999999999976694e-05,9.999999999976694e-05,0.00014999999999787406,0.00014999999999787406,0.00014999999999787406,0.00014999999999787406,-0.004500000000007276,-0.004500000000007276,-0.004500000000007276,-0.004500000000007276,-0.004500000000007276,-0.0008999999999161901,-0.0008999999999161901,0.002700000000061209,0.002700000000061209,0.01890000000003056,0.01890000000003056,0.01890000000003056,0.01895000000004643,0.020449999999755164,0.020850000000109503,0.021900000000869113,0.04830000000220025,0.0738500000024942,0.33570000000258915,0.3364000000017313,0.3389999999981228,0.34065000000100554,0.34155000000646396,0.34160000000701984,0.34200000001010267,0.34220000001187145,0.34225000001242734,0.3423000000129832,0.34330000002091765,0.3444000000304186,0.3960000000283799,0.3960000000283799,0.16560000002800734,-0.14599999996926272,-0.14599999996926272,-0.14599999996926272,-0.14599999996926272,-0.14599999996926272,-0.14599999996926272,-0.14599999996926272,-0.14594999996870683,-0.14594999996870683,-0.1456999999704749,-0.0671499999716616,-0.06704999997191408,-0.06704999997191408,-0.0664999999680731,-0.06559999995943144,-0.06529999995746039,-0.06529999995746039,-0.06529999995746039,-0.06514999995579274,-0.06504999995513572,-0.06499999995457983,-0.06484999995291219,-0.06474999995225517,-0.06469999995260878,-0.06469999995260878,-0.06469999995260878,-0.06469999995260878,0.11170000004722169,0.11170000004722169,0.11170000004722169,0.11175000004777758,0.11185000004797985,0.11185000004797985,0.11185000004797985,0.11185000004797985,0.11185000004797985,0.23065000004771719,0.23070000004781832,0.23080000004847534,0.232250000055501,0.2348500000534841,-1.119149999952242,-1.2028499999523774,-1.370449999953962,-1.370449999953962,-1.370449999953962,-1.370449999953962,-1.370449999953962,-1.370449999953962,-1.370449999953962,-1.370049999951334,-1.3699999999507781,-1.4551999999503096,-1.4551999999503096,-1.4551999999503096,-1.9237999999495514,-2.3094499999479012,-2.3094499999479012,-2.3094499999479012,-2.3094499999479012,-2.3094499999479012,-2.3094499999479012,-2.3094499999479012,-2.3094499999479012,-2.3094499999479012,-2.3094499999479012,-3.43574999993416,-4.595999999917694,-4.595999999917694,-4.595999999917694,-4.648399999919093,-4.648399999919093,-4.648399999919093,-4.648399999919093,-4.648399999919093,-5.863899999921159,-6.272699999921315,-6.272699999921315,-6.272699999921315,-6.272699999921315,-6.039099999921746,-6.038949999921897,-6.038949999921897,-6.1551499999213775,-6.1551499999213775,-6.1551499999213775,-6.1551499999213775,-6.1551499999213775,-6.1551499999213775,-4.093049999945833,-3.9361499999467924,-3.3085499999451713,-2.8378499999471387,-2.8378499999471387,-2.8378499999471387,-2.8378499999471387,-2.8378499999471387,-2.8378499999471387,-2.8378499999471387,-3.570049999945695,-3.570049999945695,-3.570049999945695,-3.570049999945695,-5.29594999994606,-5.29594999994606,-6.028149999944617,-6.028149999944617,-6.028149999944617,-6.0280999999449705,-6.0280999999449705,-6.0280999999449705,-6.0280999999449705,-5.299999999951979,-5.299949999952332,-5.299949999952332,-5.299899999951776,-5.299899999951776,-4.849899999953777,-4.649899999951231,-4.649899999951231,-4.649599999951533,-4.649349999950573,-4.649299999950017,-4.648799999948096,-4.6741999999467225,-5.214249999947242,-5.5232499999474385,-5.5232499999474385,-5.47174999994877,-5.471449999951801,-4.606149999951413,-4.198949999951765,-4.198949999951765,-4.198949999951765,-4.402549999951589,-4.402549999951589,-4.402549999951589,-4.402549999951589,-4.402549999951589,-4.402549999951589,-5.064249999952153,-5.064249999952153,-5.064249999952153,-5.064249999952153,-5.064249999952153,-5.064249999952153,-5.064249999952153,-5.420549999950708,-5.420549999950708,-5.420549999950708,-5.420549999950708,-5.420549999950708,-5.420549999950708,-5.420549999950708,-5.420549999950708,-5.420549999950708,-5.369649999951434,-5.318749999950342,-5.318749999950342,-5.318499999950291,-5.317299999946044,-5.3161499999432635,-5.3161499999432635,-5.3161499999432635,-5.316049999943061,-5.316049999943061,-5.315899999942303,-5.3157499999424545,-5.315199999940887,-5.315199999940887,-5.372199999941586,-5.429199999940465,-5.429199999940465,-5.429199999940465,-5.885199999939687,-6.055699999940771,-6.1136999999389445,-6.1136999999389445,-6.1136999999389445,-6.171699999940756,-6.171699999940756,-6.171699999940756,-6.171699999940756,-4.491849999955775,-4.491849999955775,-5.124049999953058,-5.123949999952856,-5.1238999999523,-5.1238999999523,-5.1238999999523,-5.1238999999523,-5.1238999999523,-5.123849999952654,-5.123749999951542,-5.123299999950177,-5.123099999948863,-5.123099999948863,-5.123099999948863,-5.123099999948863,-5.122999999948661,-5.122849999947903,-5.122649999947498,-5.122599999946942,-5.122549999946386,-5.122549999946386,-5.1211999999404725,-5.120149999935165,-5.119949999934761,-5.119949999934761,-5.119949999934761,-5.119949999934761,-5.720949999933509,-5.720949999933509,-5.720949999933509,-5.720949999933509,-5.720949999933509,-5.720949999933509,-8.61969999991561,-9.160549999911382,-9.837549999911062,-9.837549999911062,-9.837549999911062,-9.363649999910194,-9.363649999910194,-9.363649999910194,-9.363649999910194,-9.363649999910194,-9.363599999909638,-9.363599999909638,-9.634799999912502,-9.634799999912502,-10.922949999910998,-10.922949999910998,-10.922949999910998,-11.669849999911094,-12.512549999910334,-12.512549999910334,-12.220149999910063,-12.220149999910063,-12.220149999910063,-12.220149999910063,-12.220149999910063,-12.220149999910063,-12.14704999991227,-11.196899999909874,-11.196849999911137,-11.196849999911137,-11.196849999911137],\"type\":\"scatter\",\"xaxis\":\"x2\",\"yaxis\":\"y2\"},{\"name\":\"PnL including fees\",\"x\":[\"2023-01-02T17:58:30.259502\",\"2023-01-02T17:58:42.366152\",\"2023-01-02T17:58:53.372051\",\"2023-01-02T17:59:00.376395\",\"2023-01-02T17:59:12.600699\",\"2023-01-02T17:59:25.891350\",\"2023-01-02T17:59:41.199662\",\"2023-01-02T17:59:50.805713\",\"2023-01-02T17:59:59.992699\",\"2023-01-02T18:00:08.515977\",\"2023-01-02T18:00:22.123577\",\"2023-01-02T18:00:33.829512\",\"2023-01-02T18:00:47.936940\",\"2023-01-02T18:00:59.981642\",\"2023-01-02T18:01:08.648351\",\"2023-01-02T18:01:23.657161\",\"2023-01-02T18:01:36.064442\",\"2023-01-02T18:01:49.172055\",\"2023-01-02T18:01:59.962642\",\"2023-01-02T18:02:10.383833\",\"2023-01-02T18:02:25.992972\",\"2023-01-02T18:02:42.102595\",\"2023-01-02T18:02:52.607925\",\"2023-01-02T18:03:00.021642\",\"2023-01-02T18:03:10.818536\",\"2023-01-02T18:03:21.024305\",\"2023-01-02T18:03:31.929713\",\"2023-01-02T18:03:45.336972\",\"2023-01-02T18:03:57.044442\",\"2023-01-02T18:04:02.743642\",\"2023-01-02T18:04:15.355418\",\"2023-01-02T18:04:27.762065\",\"2023-01-02T18:04:42.270522\",\"2023-01-02T18:04:57.579124\",\"2023-01-02T18:05:04.282658\",\"2023-01-02T18:05:14.788909\",\"2023-01-02T18:05:32.498821\",\"2023-01-02T18:05:46.706706\",\"2023-01-02T18:05:59.958642\",\"2023-01-02T18:06:07.819374\",\"2023-01-02T18:06:15.423516\",\"2023-01-02T18:06:26.530143\",\"2023-01-02T18:06:38.737401\",\"2023-01-02T18:06:49.242365\",\"2023-01-02T18:06:59.347811\",\"2023-01-02T18:07:04.351574\",\"2023-01-02T18:07:14.757272\",\"2023-01-02T18:07:24.863395\",\"2023-01-02T18:07:36.170053\",\"2023-01-02T18:07:47.176035\",\"2023-01-02T18:07:59.283457\",\"2023-01-02T18:08:05.485918\",\"2023-01-02T18:08:14.191546\",\"2023-01-02T18:08:24.896940\",\"2023-01-02T18:08:32.901252\",\"2023-01-02T18:08:42.407446\",\"2023-01-02T18:08:52.212265\",\"2023-01-02T18:09:00.004642\",\"2023-01-02T18:09:08.221379\",\"2023-01-02T18:09:21.229022\",\"2023-01-02T18:09:32.435258\",\"2023-01-02T18:09:43.040749\",\"2023-01-02T18:09:56.248178\",\"2023-01-02T18:10:02.451993\",\"2023-01-02T18:10:13.559255\",\"2023-01-02T18:10:27.566362\",\"2023-01-02T18:10:40.372691\",\"2023-01-02T18:10:51.179116\",\"2023-01-02T18:10:59.974642\",\"2023-01-02T18:11:08.388943\",\"2023-01-02T18:11:20.495960\",\"2023-01-02T18:11:33.503069\",\"2023-01-02T18:11:44.608703\",\"2023-01-02T18:11:56.016556\",\"2023-01-02T18:12:02.019539\",\"2023-01-02T18:12:12.424663\",\"2023-01-02T18:12:24.459999\",\"2023-01-02T18:12:36.238763\",\"2023-01-02T18:12:47.544634\",\"2023-01-02T18:12:59.945642\",\"2023-01-02T18:13:06.656457\",\"2023-01-02T18:13:19.763546\",\"2023-01-02T18:13:29.869332\",\"2023-01-02T18:13:41.075575\",\"2023-01-02T18:13:53.382432\",\"2023-01-02T18:14:00.486470\",\"2023-01-02T18:14:11.893402\",\"2023-01-02T18:14:22.599586\",\"2023-01-02T18:14:34.405986\",\"2023-01-02T18:14:46.212940\",\"2023-01-02T18:14:59.320554\",\"2023-01-02T18:15:04.522644\",\"2023-01-02T18:15:14.529179\",\"2023-01-02T18:15:25.734776\",\"2023-01-02T18:15:38.342351\",\"2023-01-02T18:15:49.549450\",\"2023-01-02T18:15:59.949642\",\"2023-01-02T18:16:05.458018\",\"2023-01-02T18:16:15.864128\",\"2023-01-02T18:16:28.270449\",\"2023-01-02T18:16:40.276871\",\"2023-01-02T18:16:54.985822\",\"2023-01-02T18:17:05.529642\",\"2023-01-02T18:17:21.900805\",\"2023-01-02T18:17:39.912037\",\"2023-01-02T18:17:53.019586\",\"2023-01-02T18:18:00.032642\",\"2023-01-02T18:18:10.129449\",\"2023-01-02T18:18:20.835386\",\"2023-01-02T18:18:31.140862\",\"2023-01-02T18:18:41.346448\",\"2023-01-02T18:18:54.054372\",\"2023-01-02T18:19:01.157952\",\"2023-01-02T18:19:16.567539\",\"2023-01-02T18:19:31.175177\",\"2023-01-02T18:19:45.782942\",\"2023-01-02T18:19:58.690690\",\"2023-01-02T18:20:04.695310\",\"2023-01-02T18:20:15.601487\",\"2023-01-02T18:20:28.208263\",\"2023-01-02T18:20:41.214705\",\"2023-01-02T18:20:51.421365\",\"2023-01-02T18:20:59.424642\",\"2023-01-02T18:21:04.828008\",\"2023-01-02T18:21:16.034280\",\"2023-01-02T18:21:28.842540\",\"2023-01-02T18:21:42.149193\",\"2023-01-02T18:21:53.054743\",\"2023-01-02T18:22:00.025642\",\"2023-01-02T18:22:11.065055\",\"2023-01-02T18:22:19.470291\",\"2023-01-02T18:22:26.874154\",\"2023-01-02T18:22:36.980229\",\"2023-01-02T18:22:49.987038\",\"2023-01-02T18:23:00.003642\",\"2023-01-02T18:23:07.997541\",\"2023-01-02T18:23:18.603488\",\"2023-01-02T18:23:30.710593\",\"2023-01-02T18:23:42.116089\",\"2023-01-02T18:23:53.723273\",\"2023-01-02T18:24:00.527312\",\"2023-01-02T18:24:11.233352\",\"2023-01-02T18:24:22.038980\",\"2023-01-02T18:24:32.744896\",\"2023-01-02T18:24:39.549091\",\"2023-01-02T18:24:49.454793\",\"2023-01-02T18:24:59.760517\",\"2023-01-02T18:25:04.863236\",\"2023-01-02T18:25:14.716642\",\"2023-01-02T18:25:24.673817\",\"2023-01-02T18:25:36.481129\",\"2023-01-02T18:25:47.186692\",\"2023-01-02T18:25:57.191709\",\"2023-01-02T18:26:03.395692\",\"2023-01-02T18:26:13.302200\",\"2023-01-02T18:26:23.306835\",\"2023-01-02T18:26:34.113468\",\"2023-01-02T18:26:47.520876\",\"2023-01-02T18:26:55.226340\",\"2023-01-02T18:27:00.775642\",\"2023-01-02T18:27:10.233680\",\"2023-01-02T18:27:20.139602\",\"2023-01-02T18:27:31.146097\",\"2023-01-02T18:27:43.852690\",\"2023-01-02T18:27:55.759743\",\"2023-01-02T18:28:01.364173\",\"2023-01-02T18:28:12.326642\",\"2023-01-02T18:28:20.474619\",\"2023-01-02T18:28:31.180645\",\"2023-01-02T18:28:42.986874\",\"2023-01-02T18:28:54.294410\",\"2023-01-02T18:29:00.797885\",\"2023-01-02T18:29:11.103076\",\"2023-01-02T18:29:21.709047\",\"2023-01-02T18:29:35.370642\",\"2023-01-02T18:29:49.524816\",\"2023-01-02T18:29:59.998642\",\"2023-01-02T18:30:09.837313\",\"2023-01-02T18:30:20.543560\",\"2023-01-02T18:30:29.827642\",\"2023-01-02T18:30:40.354260\",\"2023-01-02T18:30:52.461156\",\"2023-01-02T18:31:00.019642\",\"2023-01-02T18:31:07.268660\",\"2023-01-02T18:31:19.676153\",\"2023-01-02T18:31:31.082928\",\"2023-01-02T18:31:41.989136\",\"2023-01-02T18:31:53.194600\",\"2023-01-02T18:32:00.027642\",\"2023-01-02T18:32:10.604797\",\"2023-01-02T18:32:22.187642\",\"2023-01-02T18:32:32.017022\",\"2023-01-02T18:32:45.825033\",\"2023-01-02T18:32:59.983642\",\"2023-01-02T18:33:10.738982\",\"2023-01-02T18:33:18.943820\",\"2023-01-02T18:33:29.250378\",\"2023-01-02T18:33:38.554782\",\"2023-01-02T18:33:48.061348\",\"2023-01-02T18:33:59.969642\",\"2023-01-02T18:34:05.770966\",\"2023-01-02T18:34:16.277029\",\"2023-01-02T18:34:27.582827\",\"2023-01-02T18:34:41.191242\",\"2023-01-02T18:34:51.697969\",\"2023-01-02T18:35:00.703348\",\"2023-01-02T18:35:11.309518\",\"2023-01-02T18:35:21.314643\",\"2023-01-02T18:35:31.720911\",\"2023-01-02T18:35:44.955642\",\"2023-01-02T18:35:59.536719\",\"2023-01-02T18:36:06.914642\",\"2023-01-02T18:36:19.648152\",\"2023-01-02T18:36:29.052653\",\"2023-01-02T18:36:41.160302\",\"2023-01-02T18:36:53.366829\",\"2023-01-02T18:37:00.001642\",\"2023-01-02T18:37:12.176803\",\"2023-01-02T18:37:24.084561\",\"2023-01-02T18:37:36.592576\",\"2023-01-02T18:37:51.699669\",\"2023-01-02T18:38:00.505272\",\"2023-01-02T18:38:11.811683\",\"2023-01-02T18:38:21.316671\",\"2023-01-02T18:38:32.423836\",\"2023-01-02T18:38:45.631403\",\"2023-01-02T18:38:58.038405\",\"2023-01-02T18:39:03.641999\",\"2023-01-02T18:39:15.349245\",\"2023-01-02T18:39:25.378642\",\"2023-01-02T18:39:35.259881\",\"2023-01-02T18:39:45.466172\",\"2023-01-02T18:39:57.673515\",\"2023-01-02T18:40:03.276572\",\"2023-01-02T18:40:13.482256\",\"2023-01-02T18:40:24.588044\",\"2023-01-02T18:40:36.095187\",\"2023-01-02T18:40:47.500934\",\"2023-01-02T18:40:55.706109\",\"2023-01-02T18:41:01.108712\",\"2023-01-02T18:41:07.713245\",\"2023-01-02T18:41:18.719321\",\"2023-01-02T18:41:30.725597\",\"2023-01-02T18:41:41.932556\",\"2023-01-02T18:41:52.537920\",\"2023-01-02T18:42:00.016642\",\"2023-01-02T18:42:10.648880\",\"2023-01-02T18:42:25.357633\",\"2023-01-02T18:42:40.565867\",\"2023-01-02T18:42:51.572744\",\"2023-01-02T18:43:00.000642\",\"2023-01-02T18:43:08.369642\",\"2023-01-02T18:43:19.989592\",\"2023-01-02T18:43:35.298242\",\"2023-01-02T18:43:46.403870\",\"2023-01-02T18:43:58.285642\",\"2023-01-02T18:44:03.614576\",\"2023-01-02T18:44:14.119798\",\"2023-01-02T18:44:25.427436\",\"2023-01-02T18:44:40.635983\",\"2023-01-02T18:44:51.142267\",\"2023-01-02T18:44:59.974642\",\"2023-01-02T18:45:06.951117\",\"2023-01-02T18:45:17.858581\",\"2023-01-02T18:45:30.764635\",\"2023-01-02T18:45:47.374372\",\"2023-01-02T18:45:56.479219\",\"2023-01-02T18:46:01.482053\",\"2023-01-02T18:46:12.435642\",\"2023-01-02T18:46:23.060642\",\"2023-01-02T18:46:32.400485\",\"2023-01-02T18:46:42.504859\",\"2023-01-02T18:46:47.157000\",\"2023-01-02T18:46:56.512624\",\"2023-01-02T18:47:01.415374\",\"2023-01-02T18:47:13.522465\",\"2023-01-02T18:47:25.830023\",\"2023-01-02T18:47:36.436519\",\"2023-01-02T18:47:51.243939\",\"2023-01-02T18:48:00.011642\",\"2023-01-02T18:48:08.554170\",\"2023-01-02T18:48:19.760577\",\"2023-01-02T18:48:30.666947\",\"2023-01-02T18:48:43.774461\",\"2023-01-02T18:48:55.180682\",\"2023-01-02T18:49:03.084791\",\"2023-01-02T18:49:11.789825\",\"2023-01-02T18:49:22.079642\",\"2023-01-02T18:49:32.000834\",\"2023-01-02T18:49:41.907013\",\"2023-01-02T18:49:50.510993\",\"2023-01-02T18:49:59.953642\",\"2023-01-02T18:50:05.220224\",\"2023-01-02T18:50:16.825886\",\"2023-01-02T18:50:29.133450\",\"2023-01-02T18:50:41.239860\",\"2023-01-02T18:50:53.346700\",\"2023-01-02T18:51:00.034642\",\"2023-01-02T18:51:06.847642\",\"2023-01-02T18:51:14.359465\",\"2023-01-02T18:51:26.366411\",\"2023-01-02T18:51:37.772095\",\"2023-01-02T18:51:50.178983\"],\"y\":[0.0,0.0005368520000015309,0.00107370799999984,0.00107370799999984,0.00107370799999984,0.00107370799999984,0.00107370799999984,0.00107370799999984,0.00107370799999984,0.00107370799999984,0.00107370799999984,0.00107370799999984,0.00107370799999984,0.00107370799999984,0.00107370799999984,0.00107370799999984,0.00107370799999984,0.00107370799999984,0.0016105439999982707,0.0016105439999982707,0.0016105439999982707,0.0016105439999982707,0.005236896000013758,0.005236896000013758,0.005236896000013758,0.005236896000013758,0.005236896000013758,0.008836896000104844,0.008836896000104844,0.012436896000082243,0.012436896000082243,0.028636896000051593,0.028636896000051593,0.028636896000051593,0.029173696000043492,0.045277815999384075,0.04957224799920823,0.06084513199857611,0.11061171600135822,0.15125206400216484,0.42721758800144016,0.43473105200109785,0.46263820399940414,0.4803485120037294,0.49000868000985065,0.49054535601044336,0.49483876401382076,0.49698546801573684,0.49752214401632955,0.49805882001692225,0.5087923360256354,0.5205992080359465,0.5760925840345408,0.5760925840345408,0.34569258403416825,0.037986408036431385,0.037986408036431385,0.037986408036431385,0.037986408036431385,0.037986408036431385,0.037986408036431385,0.037986408036431385,0.038523160037129855,0.038523160037129855,0.04120690403624394,0.1221905960346703,0.12326406803413192,0.12326406803413192,0.1291682000360197,0.13882952004132676,0.1420499560422286,0.1420499560422286,0.1420499560422286,0.14366017604334047,0.14473365604362698,0.1452703960439976,0.1468806160451095,0.147954096045396,0.14849083204489943,0.14849083204489943,0.14849083204489943,0.14849083204489943,0.3248908320447299,0.3248908320447299,0.3248908320447299,0.32542754804535434,0.3265009800456937,0.3265009800456937,0.3265009800456937,0.3265009800456937,0.3265009800456937,0.44530098004543106,0.4458376760453575,0.44691107604558056,0.4624753640464405,0.49038376006501494,-0.8412272479135936,-0.9239535839133168,-1.0915535839149015,-1.0915535839149015,-1.0915535839149015,-1.0915535839149015,-1.0915535839149015,-1.0915535839149015,-1.0915535839149015,-1.0872587399126132,-1.0867218839121051,-1.1719218839116365,-1.1719218839116365,-1.1719218839116365,-1.6405218839108784,-2.024711147911148,-2.024711147911148,-2.024711147911148,-2.024711147911148,-2.024711147911148,-2.024711147911148,-2.024711147911148,-2.024711147911148,-2.024711147911148,-2.024711147911148,-3.1276352838840467,-4.264990415875218,-4.264990415875218,-4.264990415875218,-4.317390415876616,-4.317390415876616,-4.317390415876616,-4.317390415876616,-4.317390415876616,-5.503659123874058,-5.912459123874214,-5.912459123874214,-5.912459123874214,-5.912459123874214,-5.678859123874645,-5.677247403876208,-5.677247403876208,-5.793447403875689,-5.793447403875689,-5.793447403875689,-5.793447403875689,-5.793447403875689,-5.793447403875689,-3.7030898919028914,-3.5461898919038504,-2.9185898919022293,-2.4478898919041967,-2.4478898919041967,-2.4478898919041967,-2.4478898919041967,-2.4478898919041967,-2.4478898919041967,-2.4478898919041967,-3.180089891902753,-3.180089891902753,-3.180089891902753,-3.180089891902753,-4.905989891903118,-4.905989891903118,-5.638189891901675,-5.638189891901675,-5.638189891901675,-5.6376526479025415,-5.6376526479025415,-5.6376526479025415,-5.6376526479025415,-4.898834359909415,-4.8982971719096895,-4.8982971719096895,-4.897759979909097,-4.897759979909097,-4.447759979911098,-4.247759979908551,-4.247759979908551,-4.244537155910621,-4.241851459911231,-4.241314323910956,-4.235942923912262,-4.258420087912782,-4.797982919913011,-5.106982919913207,-5.106982919913207,-5.055482919914539,-5.052259719917856,-4.186959719917468,-3.77975971991782,-3.77975971991782,-3.77975971991782,-3.983359719917644,-3.983359719917644,-3.983359719917644,-3.983359719917644,-3.983359719917644,-3.983359719917644,-4.645059719918208,-4.645059719918208,-4.645059719918208,-4.645059719918208,-4.645059719918208,-4.645059719918208,-4.645059719918208,-5.001359719916763,-5.001359719916763,-5.001359719916763,-5.001359719916763,-5.001359719916763,-5.001359719916763,-5.001359719916763,-5.001359719916763,-5.001359719916763,-4.95045971991749,-4.899559719916397,-4.899559719916397,-4.896873759916161,-4.88398115191103,-4.871625735907401,-4.871625735907401,-4.871625735907401,-4.87055135990704,-4.87055135990704,-4.868939791906087,-4.867328215906127,-4.861419107904112,-4.861419107904112,-4.9184191079048105,-4.97541910790369,-4.97541910790369,-4.97541910790369,-5.4314191079029115,-5.597046667900031,-5.655046667898205,-5.655046667898205,-5.655046667898205,-5.7130466679000165,-5.7130466679000165,-5.7130466679000165,-5.7130466679000165,-4.005425759923128,-4.005425759923128,-4.635677247921194,-4.63460289592058,-4.634065719919818,-4.634065719919818,-4.634065719919818,-4.634065719919818,-4.634065719919818,-4.633528543919965,-4.632454191918441,-4.627619611916089,-4.62547090791395,-4.62547090791395,-4.62547090791395,-4.62547090791395,-4.624396555913336,-4.622785027911959,-4.620636327911598,-4.620099151910836,-4.619561975910074,-4.619561975910074,-4.60505823190033,-4.593777535890695,-4.591628831889466,-4.591628831889466,-4.591628831889466,-4.591628831889466,-5.192628831888214,-5.192628831888214,-5.192628831888214,-5.192628831888214,-5.192628831888214,-5.192628831888214,-8.055806839869547,-8.595194627869205,-9.272194627868885,-9.272194627868885,-9.272194627868885,-8.798294627868017,-8.798294627868017,-8.798294627868017,-8.798294627868017,-8.798294627868017,-8.797757187867319,-8.797757187867319,-9.068957187870183,-9.068957187870183,-10.35661965586769,-10.35661965586769,-10.35661965586769,-11.103519655867785,-11.920864427853303,-11.920864427853303,-11.628464427853032,-11.628464427853032,-11.628464427853032,-11.628464427853032,-11.628464427853032,-11.628464427853032,-11.555364427855238,-10.604726871853927,-10.60418932385437,-10.60418932385437,-10.60418932385437],\"type\":\"scatter\",\"xaxis\":\"x2\",\"yaxis\":\"y2\"},{\"name\":\"Inventory Size\",\"x\":[\"2023-01-02T17:58:30.259502\",\"2023-01-02T17:58:42.366152\",\"2023-01-02T17:58:53.372051\",\"2023-01-02T17:59:00.376395\",\"2023-01-02T17:59:12.600699\",\"2023-01-02T17:59:25.891350\",\"2023-01-02T17:59:41.199662\",\"2023-01-02T17:59:50.805713\",\"2023-01-02T17:59:59.992699\",\"2023-01-02T18:00:08.515977\",\"2023-01-02T18:00:22.123577\",\"2023-01-02T18:00:33.829512\",\"2023-01-02T18:00:47.936940\",\"2023-01-02T18:00:59.981642\",\"2023-01-02T18:01:08.648351\",\"2023-01-02T18:01:23.657161\",\"2023-01-02T18:01:36.064442\",\"2023-01-02T18:01:49.172055\",\"2023-01-02T18:01:59.962642\",\"2023-01-02T18:02:10.383833\",\"2023-01-02T18:02:25.992972\",\"2023-01-02T18:02:42.102595\",\"2023-01-02T18:02:52.607925\",\"2023-01-02T18:03:00.021642\",\"2023-01-02T18:03:10.818536\",\"2023-01-02T18:03:21.024305\",\"2023-01-02T18:03:31.929713\",\"2023-01-02T18:03:45.336972\",\"2023-01-02T18:03:57.044442\",\"2023-01-02T18:04:02.743642\",\"2023-01-02T18:04:15.355418\",\"2023-01-02T18:04:27.762065\",\"2023-01-02T18:04:42.270522\",\"2023-01-02T18:04:57.579124\",\"2023-01-02T18:05:04.282658\",\"2023-01-02T18:05:14.788909\",\"2023-01-02T18:05:32.498821\",\"2023-01-02T18:05:46.706706\",\"2023-01-02T18:05:59.958642\",\"2023-01-02T18:06:07.819374\",\"2023-01-02T18:06:15.423516\",\"2023-01-02T18:06:26.530143\",\"2023-01-02T18:06:38.737401\",\"2023-01-02T18:06:49.242365\",\"2023-01-02T18:06:59.347811\",\"2023-01-02T18:07:04.351574\",\"2023-01-02T18:07:14.757272\",\"2023-01-02T18:07:24.863395\",\"2023-01-02T18:07:36.170053\",\"2023-01-02T18:07:47.176035\",\"2023-01-02T18:07:59.283457\",\"2023-01-02T18:08:05.485918\",\"2023-01-02T18:08:14.191546\",\"2023-01-02T18:08:24.896940\",\"2023-01-02T18:08:32.901252\",\"2023-01-02T18:08:42.407446\",\"2023-01-02T18:08:52.212265\",\"2023-01-02T18:09:00.004642\",\"2023-01-02T18:09:08.221379\",\"2023-01-02T18:09:21.229022\",\"2023-01-02T18:09:32.435258\",\"2023-01-02T18:09:43.040749\",\"2023-01-02T18:09:56.248178\",\"2023-01-02T18:10:02.451993\",\"2023-01-02T18:10:13.559255\",\"2023-01-02T18:10:27.566362\",\"2023-01-02T18:10:40.372691\",\"2023-01-02T18:10:51.179116\",\"2023-01-02T18:10:59.974642\",\"2023-01-02T18:11:08.388943\",\"2023-01-02T18:11:20.495960\",\"2023-01-02T18:11:33.503069\",\"2023-01-02T18:11:44.608703\",\"2023-01-02T18:11:56.016556\",\"2023-01-02T18:12:02.019539\",\"2023-01-02T18:12:12.424663\",\"2023-01-02T18:12:24.459999\",\"2023-01-02T18:12:36.238763\",\"2023-01-02T18:12:47.544634\",\"2023-01-02T18:12:59.945642\",\"2023-01-02T18:13:06.656457\",\"2023-01-02T18:13:19.763546\",\"2023-01-02T18:13:29.869332\",\"2023-01-02T18:13:41.075575\",\"2023-01-02T18:13:53.382432\",\"2023-01-02T18:14:00.486470\",\"2023-01-02T18:14:11.893402\",\"2023-01-02T18:14:22.599586\",\"2023-01-02T18:14:34.405986\",\"2023-01-02T18:14:46.212940\",\"2023-01-02T18:14:59.320554\",\"2023-01-02T18:15:04.522644\",\"2023-01-02T18:15:14.529179\",\"2023-01-02T18:15:25.734776\",\"2023-01-02T18:15:38.342351\",\"2023-01-02T18:15:49.549450\",\"2023-01-02T18:15:59.949642\",\"2023-01-02T18:16:05.458018\",\"2023-01-02T18:16:15.864128\",\"2023-01-02T18:16:28.270449\",\"2023-01-02T18:16:40.276871\",\"2023-01-02T18:16:54.985822\",\"2023-01-02T18:17:05.529642\",\"2023-01-02T18:17:21.900805\",\"2023-01-02T18:17:39.912037\",\"2023-01-02T18:17:53.019586\",\"2023-01-02T18:18:00.032642\",\"2023-01-02T18:18:10.129449\",\"2023-01-02T18:18:20.835386\",\"2023-01-02T18:18:31.140862\",\"2023-01-02T18:18:41.346448\",\"2023-01-02T18:18:54.054372\",\"2023-01-02T18:19:01.157952\",\"2023-01-02T18:19:16.567539\",\"2023-01-02T18:19:31.175177\",\"2023-01-02T18:19:45.782942\",\"2023-01-02T18:19:58.690690\",\"2023-01-02T18:20:04.695310\",\"2023-01-02T18:20:15.601487\",\"2023-01-02T18:20:28.208263\",\"2023-01-02T18:20:41.214705\",\"2023-01-02T18:20:51.421365\",\"2023-01-02T18:20:59.424642\",\"2023-01-02T18:21:04.828008\",\"2023-01-02T18:21:16.034280\",\"2023-01-02T18:21:28.842540\",\"2023-01-02T18:21:42.149193\",\"2023-01-02T18:21:53.054743\",\"2023-01-02T18:22:00.025642\",\"2023-01-02T18:22:11.065055\",\"2023-01-02T18:22:19.470291\",\"2023-01-02T18:22:26.874154\",\"2023-01-02T18:22:36.980229\",\"2023-01-02T18:22:49.987038\",\"2023-01-02T18:23:00.003642\",\"2023-01-02T18:23:07.997541\",\"2023-01-02T18:23:18.603488\",\"2023-01-02T18:23:30.710593\",\"2023-01-02T18:23:42.116089\",\"2023-01-02T18:23:53.723273\",\"2023-01-02T18:24:00.527312\",\"2023-01-02T18:24:11.233352\",\"2023-01-02T18:24:22.038980\",\"2023-01-02T18:24:32.744896\",\"2023-01-02T18:24:39.549091\",\"2023-01-02T18:24:49.454793\",\"2023-01-02T18:24:59.760517\",\"2023-01-02T18:25:04.863236\",\"2023-01-02T18:25:14.716642\",\"2023-01-02T18:25:24.673817\",\"2023-01-02T18:25:36.481129\",\"2023-01-02T18:25:47.186692\",\"2023-01-02T18:25:57.191709\",\"2023-01-02T18:26:03.395692\",\"2023-01-02T18:26:13.302200\",\"2023-01-02T18:26:23.306835\",\"2023-01-02T18:26:34.113468\",\"2023-01-02T18:26:47.520876\",\"2023-01-02T18:26:55.226340\",\"2023-01-02T18:27:00.775642\",\"2023-01-02T18:27:10.233680\",\"2023-01-02T18:27:20.139602\",\"2023-01-02T18:27:31.146097\",\"2023-01-02T18:27:43.852690\",\"2023-01-02T18:27:55.759743\",\"2023-01-02T18:28:01.364173\",\"2023-01-02T18:28:12.326642\",\"2023-01-02T18:28:20.474619\",\"2023-01-02T18:28:31.180645\",\"2023-01-02T18:28:42.986874\",\"2023-01-02T18:28:54.294410\",\"2023-01-02T18:29:00.797885\",\"2023-01-02T18:29:11.103076\",\"2023-01-02T18:29:21.709047\",\"2023-01-02T18:29:35.370642\",\"2023-01-02T18:29:49.524816\",\"2023-01-02T18:29:59.998642\",\"2023-01-02T18:30:09.837313\",\"2023-01-02T18:30:20.543560\",\"2023-01-02T18:30:29.827642\",\"2023-01-02T18:30:40.354260\",\"2023-01-02T18:30:52.461156\",\"2023-01-02T18:31:00.019642\",\"2023-01-02T18:31:07.268660\",\"2023-01-02T18:31:19.676153\",\"2023-01-02T18:31:31.082928\",\"2023-01-02T18:31:41.989136\",\"2023-01-02T18:31:53.194600\",\"2023-01-02T18:32:00.027642\",\"2023-01-02T18:32:10.604797\",\"2023-01-02T18:32:22.187642\",\"2023-01-02T18:32:32.017022\",\"2023-01-02T18:32:45.825033\",\"2023-01-02T18:32:59.983642\",\"2023-01-02T18:33:10.738982\",\"2023-01-02T18:33:18.943820\",\"2023-01-02T18:33:29.250378\",\"2023-01-02T18:33:38.554782\",\"2023-01-02T18:33:48.061348\",\"2023-01-02T18:33:59.969642\",\"2023-01-02T18:34:05.770966\",\"2023-01-02T18:34:16.277029\",\"2023-01-02T18:34:27.582827\",\"2023-01-02T18:34:41.191242\",\"2023-01-02T18:34:51.697969\",\"2023-01-02T18:35:00.703348\",\"2023-01-02T18:35:11.309518\",\"2023-01-02T18:35:21.314643\",\"2023-01-02T18:35:31.720911\",\"2023-01-02T18:35:44.955642\",\"2023-01-02T18:35:59.536719\",\"2023-01-02T18:36:06.914642\",\"2023-01-02T18:36:19.648152\",\"2023-01-02T18:36:29.052653\",\"2023-01-02T18:36:41.160302\",\"2023-01-02T18:36:53.366829\",\"2023-01-02T18:37:00.001642\",\"2023-01-02T18:37:12.176803\",\"2023-01-02T18:37:24.084561\",\"2023-01-02T18:37:36.592576\",\"2023-01-02T18:37:51.699669\",\"2023-01-02T18:38:00.505272\",\"2023-01-02T18:38:11.811683\",\"2023-01-02T18:38:21.316671\",\"2023-01-02T18:38:32.423836\",\"2023-01-02T18:38:45.631403\",\"2023-01-02T18:38:58.038405\",\"2023-01-02T18:39:03.641999\",\"2023-01-02T18:39:15.349245\",\"2023-01-02T18:39:25.378642\",\"2023-01-02T18:39:35.259881\",\"2023-01-02T18:39:45.466172\",\"2023-01-02T18:39:57.673515\",\"2023-01-02T18:40:03.276572\",\"2023-01-02T18:40:13.482256\",\"2023-01-02T18:40:24.588044\",\"2023-01-02T18:40:36.095187\",\"2023-01-02T18:40:47.500934\",\"2023-01-02T18:40:55.706109\",\"2023-01-02T18:41:01.108712\",\"2023-01-02T18:41:07.713245\",\"2023-01-02T18:41:18.719321\",\"2023-01-02T18:41:30.725597\",\"2023-01-02T18:41:41.932556\",\"2023-01-02T18:41:52.537920\",\"2023-01-02T18:42:00.016642\",\"2023-01-02T18:42:10.648880\",\"2023-01-02T18:42:25.357633\",\"2023-01-02T18:42:40.565867\",\"2023-01-02T18:42:51.572744\",\"2023-01-02T18:43:00.000642\",\"2023-01-02T18:43:08.369642\",\"2023-01-02T18:43:19.989592\",\"2023-01-02T18:43:35.298242\",\"2023-01-02T18:43:46.403870\",\"2023-01-02T18:43:58.285642\",\"2023-01-02T18:44:03.614576\",\"2023-01-02T18:44:14.119798\",\"2023-01-02T18:44:25.427436\",\"2023-01-02T18:44:40.635983\",\"2023-01-02T18:44:51.142267\",\"2023-01-02T18:44:59.974642\",\"2023-01-02T18:45:06.951117\",\"2023-01-02T18:45:17.858581\",\"2023-01-02T18:45:30.764635\",\"2023-01-02T18:45:47.374372\",\"2023-01-02T18:45:56.479219\",\"2023-01-02T18:46:01.482053\",\"2023-01-02T18:46:12.435642\",\"2023-01-02T18:46:23.060642\",\"2023-01-02T18:46:32.400485\",\"2023-01-02T18:46:42.504859\",\"2023-01-02T18:46:47.157000\",\"2023-01-02T18:46:56.512624\",\"2023-01-02T18:47:01.415374\",\"2023-01-02T18:47:13.522465\",\"2023-01-02T18:47:25.830023\",\"2023-01-02T18:47:36.436519\",\"2023-01-02T18:47:51.243939\",\"2023-01-02T18:48:00.011642\",\"2023-01-02T18:48:08.554170\",\"2023-01-02T18:48:19.760577\",\"2023-01-02T18:48:30.666947\",\"2023-01-02T18:48:43.774461\",\"2023-01-02T18:48:55.180682\",\"2023-01-02T18:49:03.084791\",\"2023-01-02T18:49:11.789825\",\"2023-01-02T18:49:22.079642\",\"2023-01-02T18:49:32.000834\",\"2023-01-02T18:49:41.907013\",\"2023-01-02T18:49:50.510993\",\"2023-01-02T18:49:59.953642\",\"2023-01-02T18:50:05.220224\",\"2023-01-02T18:50:16.825886\",\"2023-01-02T18:50:29.133450\",\"2023-01-02T18:50:41.239860\",\"2023-01-02T18:50:53.346700\",\"2023-01-02T18:51:00.034642\",\"2023-01-02T18:51:06.847642\",\"2023-01-02T18:51:14.359465\",\"2023-01-02T18:51:26.366411\",\"2023-01-02T18:51:37.772095\",\"2023-01-02T18:51:50.178983\"],\"y\":[0.0,0.01,0.0,0.0,0.0,0.0,0.0,0.0,0.0,0.0,0.0,0.0,0.0,0.0,0.0,0.0,0.0,0.0,-0.01,-0.01,-0.01,-0.01,-0.18000000000000002,-0.18000000000000002,-0.18000000000000002,-0.18000000000000002,-0.18000000000000002,-0.18000000000000002,-0.18000000000000002,-0.18000000000000002,-0.18000000000000002,-0.18000000000000002,-0.18000000000000002,-0.18000000000000002,-0.17,-0.47000000000000025,-0.5500000000000003,-0.7600000000000005,-1.2000000000000008,-1.1100000000000008,-0.9200000000000006,-1.0600000000000007,-1.5800000000000012,-1.9100000000000015,-2.0899999999999994,-2.099999999999999,-2.1799999999999975,-2.2199999999999966,-2.2299999999999964,-2.239999999999996,-2.4199999999999924,-2.6399999999999877,-2.5599999999999894,-2.5599999999999894,-2.5599999999999894,-2.6399999999999877,-2.6399999999999877,-2.6399999999999877,-2.6399999999999877,-2.6399999999999877,-2.6399999999999877,-2.6399999999999877,-2.6499999999999875,-2.6499999999999875,-2.619999999999988,-2.569999999999989,-2.5499999999999896,-2.5499999999999896,-2.619999999999988,-2.7999999999999843,-2.8399999999999834,-2.8399999999999834,-2.8399999999999834,-2.869999999999983,-2.8899999999999824,-2.899999999999982,-2.9299999999999815,-2.949999999999981,-2.9399999999999813,-2.9399999999999813,-2.9399999999999813,-2.9399999999999813,-2.9399999999999813,-2.9399999999999813,-2.9399999999999813,-2.949999999999981,-2.9699999999999807,-2.9699999999999807,-2.9699999999999807,-2.9699999999999807,-2.9699999999999807,-2.9699999999999807,-2.959999999999981,-2.9799999999999804,-3.2099999999999755,-3.709999999999965,-4.1699999999999555,-4.189999999999955,-4.189999999999955,-4.189999999999955,-4.189999999999955,-4.189999999999955,-4.189999999999955,-4.189999999999955,-4.189999999999955,-4.249999999999954,-4.259999999999954,-4.259999999999954,-4.259999999999954,-4.259999999999954,-4.259999999999954,-4.289999999999953,-4.289999999999953,-4.289999999999953,-4.289999999999953,-4.289999999999953,-4.289999999999953,-4.289999999999953,-4.289999999999953,-4.289999999999953,-4.289999999999953,-4.769999999999943,-5.239999999999933,-5.239999999999933,-5.239999999999933,-5.239999999999933,-5.239999999999933,-5.239999999999933,-5.239999999999933,-5.239999999999933,-5.83999999999992,-5.83999999999992,-5.83999999999992,-5.83999999999992,-5.83999999999992,-5.83999999999992,-5.809999999999921,-5.809999999999921,-5.809999999999921,-5.809999999999921,-5.809999999999921,-5.809999999999921,-5.809999999999921,-5.809999999999921,-5.229999999999933,-5.229999999999933,-5.229999999999933,-5.229999999999933,-5.229999999999933,-5.229999999999933,-5.229999999999933,-5.229999999999933,-5.229999999999933,-5.229999999999933,-5.229999999999933,-5.229999999999933,-5.229999999999933,-5.229999999999933,-5.229999999999933,-5.229999999999933,-5.229999999999933,-5.229999999999933,-5.229999999999933,-5.219999999999933,-5.219999999999933,-5.219999999999933,-5.219999999999933,-4.999999999999938,-4.989999999999938,-4.989999999999938,-4.999999999999938,-4.999999999999938,-4.999999999999938,-4.999999999999938,-4.999999999999938,-4.979999999999938,-5.009999999999938,-4.999999999999938,-5.099999999999936,-5.139999999999935,-5.149999999999935,-5.149999999999935,-5.149999999999935,-5.149999999999935,-5.089999999999936,-5.089999999999936,-5.089999999999936,-5.089999999999936,-5.089999999999936,-5.089999999999936,-5.089999999999936,-5.089999999999936,-5.089999999999936,-5.089999999999936,-5.089999999999936,-5.089999999999936,-5.089999999999936,-5.089999999999936,-5.089999999999936,-5.089999999999936,-5.089999999999936,-5.089999999999936,-5.089999999999936,-5.089999999999936,-5.089999999999936,-5.089999999999936,-5.089999999999936,-5.089999999999936,-5.089999999999936,-5.089999999999936,-5.089999999999936,-5.089999999999936,-5.089999999999936,-5.089999999999936,-5.139999999999935,-5.37999999999993,-5.609999999999925,-5.609999999999925,-5.609999999999925,-5.589999999999925,-5.589999999999925,-5.5799999999999255,-5.609999999999925,-5.699999999999923,-5.699999999999923,-5.699999999999923,-5.699999999999923,-5.699999999999923,-5.699999999999923,-5.699999999999923,-5.799999999999921,-5.799999999999921,-5.799999999999921,-5.799999999999921,-5.799999999999921,-5.799999999999921,-5.799999999999921,-5.799999999999921,-5.229999999999933,-5.229999999999933,-5.269999999999932,-5.289999999999932,-5.299999999999931,-5.299999999999931,-5.299999999999931,-5.299999999999931,-5.299999999999931,-5.309999999999931,-5.329999999999931,-5.399999999999929,-5.4399999999999284,-5.4399999999999284,-5.4399999999999284,-5.4399999999999284,-5.459999999999928,-5.489999999999927,-5.509999999999927,-5.519999999999927,-5.5299999999999265,-5.5299999999999265,-5.759999999999922,-5.969999999999917,-6.009999999999916,-6.009999999999916,-6.009999999999916,-6.009999999999916,-6.009999999999916,-6.009999999999916,-6.009999999999916,-6.009999999999916,-6.009999999999916,-6.009999999999916,-6.739999999999901,-6.7699999999999,-6.7699999999999,-6.7699999999999,-6.7699999999999,-6.7699999999999,-6.7699999999999,-6.7699999999999,-6.7699999999999,-6.7699999999999,-6.7799999999999,-6.7799999999999,-6.7799999999999,-6.7799999999999,-6.7899999999999,-6.7899999999999,-6.7899999999999,-6.7899999999999,-7.309999999999889,-7.309999999999889,-7.309999999999889,-7.309999999999889,-7.309999999999889,-7.309999999999889,-7.309999999999889,-7.309999999999889,-7.309999999999889,-7.299999999999889,-7.289999999999889,-7.289999999999889,-7.289999999999889],\"type\":\"scatter\",\"xaxis\":\"x3\",\"yaxis\":\"y3\"}],                        {\"template\":{\"data\":{\"histogram2dcontour\":[{\"type\":\"histogram2dcontour\",\"colorbar\":{\"outlinewidth\":0,\"ticks\":\"\"},\"colorscale\":[[0.0,\"#0d0887\"],[0.1111111111111111,\"#46039f\"],[0.2222222222222222,\"#7201a8\"],[0.3333333333333333,\"#9c179e\"],[0.4444444444444444,\"#bd3786\"],[0.5555555555555556,\"#d8576b\"],[0.6666666666666666,\"#ed7953\"],[0.7777777777777778,\"#fb9f3a\"],[0.8888888888888888,\"#fdca26\"],[1.0,\"#f0f921\"]]}],\"choropleth\":[{\"type\":\"choropleth\",\"colorbar\":{\"outlinewidth\":0,\"ticks\":\"\"}}],\"histogram2d\":[{\"type\":\"histogram2d\",\"colorbar\":{\"outlinewidth\":0,\"ticks\":\"\"},\"colorscale\":[[0.0,\"#0d0887\"],[0.1111111111111111,\"#46039f\"],[0.2222222222222222,\"#7201a8\"],[0.3333333333333333,\"#9c179e\"],[0.4444444444444444,\"#bd3786\"],[0.5555555555555556,\"#d8576b\"],[0.6666666666666666,\"#ed7953\"],[0.7777777777777778,\"#fb9f3a\"],[0.8888888888888888,\"#fdca26\"],[1.0,\"#f0f921\"]]}],\"heatmap\":[{\"type\":\"heatmap\",\"colorbar\":{\"outlinewidth\":0,\"ticks\":\"\"},\"colorscale\":[[0.0,\"#0d0887\"],[0.1111111111111111,\"#46039f\"],[0.2222222222222222,\"#7201a8\"],[0.3333333333333333,\"#9c179e\"],[0.4444444444444444,\"#bd3786\"],[0.5555555555555556,\"#d8576b\"],[0.6666666666666666,\"#ed7953\"],[0.7777777777777778,\"#fb9f3a\"],[0.8888888888888888,\"#fdca26\"],[1.0,\"#f0f921\"]]}],\"heatmapgl\":[{\"type\":\"heatmapgl\",\"colorbar\":{\"outlinewidth\":0,\"ticks\":\"\"},\"colorscale\":[[0.0,\"#0d0887\"],[0.1111111111111111,\"#46039f\"],[0.2222222222222222,\"#7201a8\"],[0.3333333333333333,\"#9c179e\"],[0.4444444444444444,\"#bd3786\"],[0.5555555555555556,\"#d8576b\"],[0.6666666666666666,\"#ed7953\"],[0.7777777777777778,\"#fb9f3a\"],[0.8888888888888888,\"#fdca26\"],[1.0,\"#f0f921\"]]}],\"contourcarpet\":[{\"type\":\"contourcarpet\",\"colorbar\":{\"outlinewidth\":0,\"ticks\":\"\"}}],\"contour\":[{\"type\":\"contour\",\"colorbar\":{\"outlinewidth\":0,\"ticks\":\"\"},\"colorscale\":[[0.0,\"#0d0887\"],[0.1111111111111111,\"#46039f\"],[0.2222222222222222,\"#7201a8\"],[0.3333333333333333,\"#9c179e\"],[0.4444444444444444,\"#bd3786\"],[0.5555555555555556,\"#d8576b\"],[0.6666666666666666,\"#ed7953\"],[0.7777777777777778,\"#fb9f3a\"],[0.8888888888888888,\"#fdca26\"],[1.0,\"#f0f921\"]]}],\"surface\":[{\"type\":\"surface\",\"colorbar\":{\"outlinewidth\":0,\"ticks\":\"\"},\"colorscale\":[[0.0,\"#0d0887\"],[0.1111111111111111,\"#46039f\"],[0.2222222222222222,\"#7201a8\"],[0.3333333333333333,\"#9c179e\"],[0.4444444444444444,\"#bd3786\"],[0.5555555555555556,\"#d8576b\"],[0.6666666666666666,\"#ed7953\"],[0.7777777777777778,\"#fb9f3a\"],[0.8888888888888888,\"#fdca26\"],[1.0,\"#f0f921\"]]}],\"mesh3d\":[{\"type\":\"mesh3d\",\"colorbar\":{\"outlinewidth\":0,\"ticks\":\"\"}}],\"scatter\":[{\"fillpattern\":{\"fillmode\":\"overlay\",\"size\":10,\"solidity\":0.2},\"type\":\"scatter\"}],\"parcoords\":[{\"type\":\"parcoords\",\"line\":{\"colorbar\":{\"outlinewidth\":0,\"ticks\":\"\"}}}],\"scatterpolargl\":[{\"type\":\"scatterpolargl\",\"marker\":{\"colorbar\":{\"outlinewidth\":0,\"ticks\":\"\"}}}],\"bar\":[{\"error_x\":{\"color\":\"#2a3f5f\"},\"error_y\":{\"color\":\"#2a3f5f\"},\"marker\":{\"line\":{\"color\":\"#E5ECF6\",\"width\":0.5},\"pattern\":{\"fillmode\":\"overlay\",\"size\":10,\"solidity\":0.2}},\"type\":\"bar\"}],\"scattergeo\":[{\"type\":\"scattergeo\",\"marker\":{\"colorbar\":{\"outlinewidth\":0,\"ticks\":\"\"}}}],\"scatterpolar\":[{\"type\":\"scatterpolar\",\"marker\":{\"colorbar\":{\"outlinewidth\":0,\"ticks\":\"\"}}}],\"histogram\":[{\"marker\":{\"pattern\":{\"fillmode\":\"overlay\",\"size\":10,\"solidity\":0.2}},\"type\":\"histogram\"}],\"scattergl\":[{\"type\":\"scattergl\",\"marker\":{\"colorbar\":{\"outlinewidth\":0,\"ticks\":\"\"}}}],\"scatter3d\":[{\"type\":\"scatter3d\",\"line\":{\"colorbar\":{\"outlinewidth\":0,\"ticks\":\"\"}},\"marker\":{\"colorbar\":{\"outlinewidth\":0,\"ticks\":\"\"}}}],\"scattermapbox\":[{\"type\":\"scattermapbox\",\"marker\":{\"colorbar\":{\"outlinewidth\":0,\"ticks\":\"\"}}}],\"scatterternary\":[{\"type\":\"scatterternary\",\"marker\":{\"colorbar\":{\"outlinewidth\":0,\"ticks\":\"\"}}}],\"scattercarpet\":[{\"type\":\"scattercarpet\",\"marker\":{\"colorbar\":{\"outlinewidth\":0,\"ticks\":\"\"}}}],\"carpet\":[{\"aaxis\":{\"endlinecolor\":\"#2a3f5f\",\"gridcolor\":\"white\",\"linecolor\":\"white\",\"minorgridcolor\":\"white\",\"startlinecolor\":\"#2a3f5f\"},\"baxis\":{\"endlinecolor\":\"#2a3f5f\",\"gridcolor\":\"white\",\"linecolor\":\"white\",\"minorgridcolor\":\"white\",\"startlinecolor\":\"#2a3f5f\"},\"type\":\"carpet\"}],\"table\":[{\"cells\":{\"fill\":{\"color\":\"#EBF0F8\"},\"line\":{\"color\":\"white\"}},\"header\":{\"fill\":{\"color\":\"#C8D4E3\"},\"line\":{\"color\":\"white\"}},\"type\":\"table\"}],\"barpolar\":[{\"marker\":{\"line\":{\"color\":\"#E5ECF6\",\"width\":0.5},\"pattern\":{\"fillmode\":\"overlay\",\"size\":10,\"solidity\":0.2}},\"type\":\"barpolar\"}],\"pie\":[{\"automargin\":true,\"type\":\"pie\"}]},\"layout\":{\"autotypenumbers\":\"strict\",\"colorway\":[\"#636efa\",\"#EF553B\",\"#00cc96\",\"#ab63fa\",\"#FFA15A\",\"#19d3f3\",\"#FF6692\",\"#B6E880\",\"#FF97FF\",\"#FECB52\"],\"font\":{\"color\":\"#2a3f5f\"},\"hovermode\":\"closest\",\"hoverlabel\":{\"align\":\"left\"},\"paper_bgcolor\":\"white\",\"plot_bgcolor\":\"#E5ECF6\",\"polar\":{\"bgcolor\":\"#E5ECF6\",\"angularaxis\":{\"gridcolor\":\"white\",\"linecolor\":\"white\",\"ticks\":\"\"},\"radialaxis\":{\"gridcolor\":\"white\",\"linecolor\":\"white\",\"ticks\":\"\"}},\"ternary\":{\"bgcolor\":\"#E5ECF6\",\"aaxis\":{\"gridcolor\":\"white\",\"linecolor\":\"white\",\"ticks\":\"\"},\"baxis\":{\"gridcolor\":\"white\",\"linecolor\":\"white\",\"ticks\":\"\"},\"caxis\":{\"gridcolor\":\"white\",\"linecolor\":\"white\",\"ticks\":\"\"}},\"coloraxis\":{\"colorbar\":{\"outlinewidth\":0,\"ticks\":\"\"}},\"colorscale\":{\"sequential\":[[0.0,\"#0d0887\"],[0.1111111111111111,\"#46039f\"],[0.2222222222222222,\"#7201a8\"],[0.3333333333333333,\"#9c179e\"],[0.4444444444444444,\"#bd3786\"],[0.5555555555555556,\"#d8576b\"],[0.6666666666666666,\"#ed7953\"],[0.7777777777777778,\"#fb9f3a\"],[0.8888888888888888,\"#fdca26\"],[1.0,\"#f0f921\"]],\"sequentialminus\":[[0.0,\"#0d0887\"],[0.1111111111111111,\"#46039f\"],[0.2222222222222222,\"#7201a8\"],[0.3333333333333333,\"#9c179e\"],[0.4444444444444444,\"#bd3786\"],[0.5555555555555556,\"#d8576b\"],[0.6666666666666666,\"#ed7953\"],[0.7777777777777778,\"#fb9f3a\"],[0.8888888888888888,\"#fdca26\"],[1.0,\"#f0f921\"]],\"diverging\":[[0,\"#8e0152\"],[0.1,\"#c51b7d\"],[0.2,\"#de77ae\"],[0.3,\"#f1b6da\"],[0.4,\"#fde0ef\"],[0.5,\"#f7f7f7\"],[0.6,\"#e6f5d0\"],[0.7,\"#b8e186\"],[0.8,\"#7fbc41\"],[0.9,\"#4d9221\"],[1,\"#276419\"]]},\"xaxis\":{\"gridcolor\":\"white\",\"linecolor\":\"white\",\"ticks\":\"\",\"title\":{\"standoff\":15},\"zerolinecolor\":\"white\",\"automargin\":true,\"zerolinewidth\":2},\"yaxis\":{\"gridcolor\":\"white\",\"linecolor\":\"white\",\"ticks\":\"\",\"title\":{\"standoff\":15},\"zerolinecolor\":\"white\",\"automargin\":true,\"zerolinewidth\":2},\"scene\":{\"xaxis\":{\"backgroundcolor\":\"#E5ECF6\",\"gridcolor\":\"white\",\"linecolor\":\"white\",\"showbackground\":true,\"ticks\":\"\",\"zerolinecolor\":\"white\",\"gridwidth\":2},\"yaxis\":{\"backgroundcolor\":\"#E5ECF6\",\"gridcolor\":\"white\",\"linecolor\":\"white\",\"showbackground\":true,\"ticks\":\"\",\"zerolinecolor\":\"white\",\"gridwidth\":2},\"zaxis\":{\"backgroundcolor\":\"#E5ECF6\",\"gridcolor\":\"white\",\"linecolor\":\"white\",\"showbackground\":true,\"ticks\":\"\",\"zerolinecolor\":\"white\",\"gridwidth\":2}},\"shapedefaults\":{\"line\":{\"color\":\"#2a3f5f\"}},\"annotationdefaults\":{\"arrowcolor\":\"#2a3f5f\",\"arrowhead\":0,\"arrowwidth\":1},\"geo\":{\"bgcolor\":\"white\",\"landcolor\":\"#E5ECF6\",\"subunitcolor\":\"white\",\"showland\":true,\"showlakes\":true,\"lakecolor\":\"white\"},\"title\":{\"x\":0.05},\"mapbox\":{\"style\":\"light\"}}},\"xaxis\":{\"anchor\":\"y\",\"domain\":[0.0,1.0]},\"yaxis\":{\"anchor\":\"x\",\"domain\":[0.7777777777777778,1.0],\"title\":{\"text\":\"USD\"}},\"xaxis2\":{\"anchor\":\"y2\",\"domain\":[0.0,1.0]},\"yaxis2\":{\"anchor\":\"x2\",\"domain\":[0.3888888888888889,0.6111111111111112],\"title\":{\"text\":\"USD\"}},\"xaxis3\":{\"anchor\":\"y3\",\"domain\":[0.0,1.0]},\"yaxis3\":{\"anchor\":\"x3\",\"domain\":[0.0,0.22222222222222224],\"title\":{\"text\":\"BTC\"}},\"annotations\":[{\"font\":{\"size\":16},\"showarrow\":false,\"text\":\"Price\",\"x\":0.5,\"xanchor\":\"center\",\"xref\":\"paper\",\"y\":1.0,\"yanchor\":\"bottom\",\"yref\":\"paper\"},{\"font\":{\"size\":16},\"showarrow\":false,\"text\":\"PnL\",\"x\":0.5,\"xanchor\":\"center\",\"xref\":\"paper\",\"y\":0.6111111111111112,\"yanchor\":\"bottom\",\"yref\":\"paper\"},{\"font\":{\"size\":16},\"showarrow\":false,\"text\":\"Inventory Size\",\"x\":0.5,\"xanchor\":\"center\",\"xref\":\"paper\",\"y\":0.22222222222222224,\"yanchor\":\"bottom\",\"yref\":\"paper\"}],\"title\":{\"text\":\"RL Strategy: maker fee = -0.004%\"},\"height\":700},                        {\"responsive\": true}                    ).then(function(){\n",
       "                            \n",
       "var gd = document.getElementById('ac284d86-d88e-4d40-8503-660d45334f89');\n",
       "var x = new MutationObserver(function (mutations, observer) {{\n",
       "        var display = window.getComputedStyle(gd).display;\n",
       "        if (!display || display === 'none') {{\n",
       "            console.log([gd, 'removed!']);\n",
       "            Plotly.purge(gd);\n",
       "            observer.disconnect();\n",
       "        }}\n",
       "}});\n",
       "\n",
       "// Listen for the removal of the full notebook cells\n",
       "var notebookContainer = gd.closest('#notebook-container');\n",
       "if (notebookContainer) {{\n",
       "    x.observe(notebookContainer, {childList: true});\n",
       "}}\n",
       "\n",
       "// Listen for the clearing of the current output cell\n",
       "var outputEl = gd.closest('.output');\n",
       "if (outputEl) {{\n",
       "    x.observe(outputEl, {childList: true});\n",
       "}}\n",
       "\n",
       "                        })                };                });            </script>        </div>"
      ]
     },
     "metadata": {},
     "output_type": "display_data"
    }
   ],
   "source": [
    "fig = make_subplots(rows=3, cols=1, subplot_titles=(\"Price\", \"PnL\", \"Inventory Size\"))\n",
    "\n",
    "fig.add_trace(go.Scatter(x=df.iloc[::100, :]['receive_ts'], y=df.iloc[::100, :]['mid_price'],\n",
    "                         name='Price'), row=1, col=1)\n",
    "\n",
    "fig.add_trace(go.Scatter(x=df.iloc[::100, :]['receive_ts'], y=df.iloc[::100, :]['total'],\n",
    "                         name='PnL without fees'), row=2, col=1)\n",
    "fig.add_trace(go.Scatter(x=df_fee.iloc[::100, :]['receive_ts'], y=df_fee.iloc[::100, :]['total'],\n",
    "                         name='PnL including fees'), row=2, col=1)\n",
    "\n",
    "fig.add_trace(go.Scatter(x=df.iloc[::100, :]['receive_ts'], y=df.iloc[::100, :]['BTC'],\n",
    "                         name='Inventory Size'), row=3, col=1)\n",
    "\n",
    "# fig.add_trace(g\n",
    "# o.Scatter(x=pd.to_datetime(actions[0])[::100], y=actions[2][::100], mode='markers',\n",
    "#                          marker_color=actions[2][::100],\n",
    "#                          name='Actions'), row=4, col=1)\n",
    "\n",
    "fig.update_yaxes(title_text=\"USD\", row=1, col=1)\n",
    "fig.update_yaxes(title_text=\"USD\", row=2, col=1)\n",
    "fig.update_yaxes(title_text=\"BTC\", row=3, col=1)\n",
    "# fig.update_yaxes(title_text=\"Actions ID\", row=4, col=1)\n",
    "\n",
    "fig.update_layout(title_text=\"RL Strategy: maker fee = -0.004%\", height=700)\n",
    "\n",
    "# fig.write_html('../docs/RLStrategy.html')\n",
    "# fig.write_image('../images/results/RLStrategy.jpeg')\n",
    "# fig.show()"
   ]
  },
  {
   "cell_type": "code",
   "execution_count": 50,
   "id": "fecb2978",
   "metadata": {
    "pycharm": {
     "name": "#%%\n"
    }
   },
   "outputs": [],
   "source": [
    "actions = {i: 0 for i in range(11)}\n",
    "for _, _, action_id in actions_history:\n",
    "    actions[action_id] += 1"
   ]
  },
  {
   "cell_type": "code",
   "execution_count": 51,
   "id": "330ab761",
   "metadata": {
    "pycharm": {
     "name": "#%%\n"
    }
   },
   "outputs": [
    {
     "data": {
      "text/plain": [
       "{0: 0, 1: 1, 2: 735, 3: 4, 4: 83, 5: 86, 6: 48, 7: 3, 8: 0, 9: 9842, 10: 0}"
      ]
     },
     "execution_count": 51,
     "metadata": {},
     "output_type": "execute_result"
    }
   ],
   "source": [
    "actions"
   ]
  },
  {
   "cell_type": "code",
   "execution_count": null,
   "id": "529b1820",
   "metadata": {
    "pycharm": {
     "name": "#%%\n"
    }
   },
   "outputs": [],
   "source": []
  }
 ],
 "metadata": {
  "kernelspec": {
   "display_name": "Python 3 (ipykernel)",
   "language": "python",
   "name": "python3"
  },
  "language_info": {
   "codemirror_mode": {
    "name": "ipython",
    "version": 3
   },
   "file_extension": ".py",
   "mimetype": "text/x-python",
   "name": "python",
   "nbconvert_exporter": "python",
   "pygments_lexer": "ipython3",
   "version": "3.8.13"
  }
 },
 "nbformat": 4,
 "nbformat_minor": 5
}